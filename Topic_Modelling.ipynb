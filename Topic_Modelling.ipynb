{
  "nbformat": 4,
  "nbformat_minor": 0,
  "metadata": {
    "colab": {
      "name": "Topic Modelling.ipynb",
      "provenance": [],
      "authorship_tag": "ABX9TyNvnPXaPGpS9vf2nHP+aJcw"
    },
    "kernelspec": {
      "name": "python3",
      "display_name": "Python 3"
    },
    "accelerator": "GPU"
  },
  "cells": [
    {
      "cell_type": "markdown",
      "metadata": {
        "id": "LIlY5Ds3sjLt",
        "colab_type": "text"
      },
      "source": [
        "# Topic Modelling using LDA on Quora Question Pairs dataset from Kaggle\n",
        "\n"
      ]
    },
    {
      "cell_type": "code",
      "metadata": {
        "colab_type": "code",
        "id": "m8N67lvOBhhc",
        "colab": {
          "base_uri": "https://localhost:8080/",
          "height": 102
        },
        "outputId": "ca023b59-7705-4b42-a062-dbd16448df31"
      },
      "source": [
        "# Importing the dataset using Kaggle API\n",
        "import os\n",
        "os.getcwd()\n",
        "os.environ['KAGGLE_USERNAME'] = \"krithi011\" # username from the json file\n",
        "os.environ['KAGGLE_KEY'] = \"1042ec1e291b1d23245e7abb47d4490f\" # key from the json file\n",
        "!kaggle competitions download -c quora-question-pairs "
      ],
      "execution_count": 65,
      "outputs": [
        {
          "output_type": "stream",
          "text": [
            "Warning: Looks like you're using an outdated API Version, please consider updating (server 1.5.6 / client 1.5.4)\n",
            "test.csv.zip: Skipping, found more recently modified local copy (use --force to force download)\n",
            "sample_submission.csv.zip: Skipping, found more recently modified local copy (use --force to force download)\n",
            "test.csv.zip: Skipping, found more recently modified local copy (use --force to force download)\n",
            "train.csv.zip: Skipping, found more recently modified local copy (use --force to force download)\n"
          ],
          "name": "stdout"
        }
      ]
    },
    {
      "cell_type": "code",
      "metadata": {
        "id": "TuHiE9KxCTDt",
        "colab_type": "code",
        "colab": {}
      },
      "source": [
        "# Installing packages\n",
        "!pip install pyLDAvis\n",
        "!sudo apt install openjdk-8-jdk\n",
        "!sudo update-alternatives --set java /usr/lib/jvm/java-8-openjdk-amd64/jre/bin/java\n",
        "!pip install language-check\n",
        "!pip install pyspellchecker\n",
        "!python -m spacy download en_core_web_md\n",
        "!pip install tmtoolkit\n"
      ],
      "execution_count": 0,
      "outputs": []
    },
    {
      "cell_type": "code",
      "metadata": {
        "id": "sje7bbHRCeKy",
        "colab_type": "code",
        "colab": {}
      },
      "source": [
        "# Importing essential Libraries\n",
        "import spacy #load spacy\n",
        "import en_core_web_sm\n",
        "import re # for string manipulation\n",
        "import unicodedata # For text cleaning \n",
        "'''from word2number import w2n\n",
        "from textblob import TextBlob''' \n",
        "from spellchecker import SpellChecker \n",
        "import pandas as pd\n",
        "import seaborn as sns\n",
        "import matplotlib.pyplot as plt\n",
        "%matplotlib inline\n",
        "from sklearn.model_selection import GridSearchCV\n",
        "import logging\n",
        "logging.basicConfig(format='%(asctime)s : %(levelname)s : %(message)s', level=logging.INFO)\n",
        "\n",
        "# Gensim\n",
        "import gensim\n",
        "import gensim.corpora as corpora\n",
        "from gensim.utils import simple_preprocess\n",
        "from gensim.models import CoherenceModel\n",
        "from gensim import corpora, models\n",
        "from gensim.models.ldamodel import LdaModel\n",
        "\n",
        "import warnings\n",
        "warnings.filterwarnings(\"ignore\",category=DeprecationWarning)\n",
        "# Plotting tools\n",
        "import pyLDAvis.gensim"
      ],
      "execution_count": 0,
      "outputs": []
    },
    {
      "cell_type": "markdown",
      "metadata": {
        "id": "dkhox6juDcvO",
        "colab_type": "text"
      },
      "source": [
        "# Data Exploration"
      ]
    },
    {
      "cell_type": "code",
      "metadata": {
        "id": "5u-04QwdDZ7u",
        "colab_type": "code",
        "outputId": "a0f1bb66-70dc-43cf-fab3-3a9ee9b045c7",
        "colab": {
          "base_uri": "https://localhost:8080/",
          "height": 204
        }
      },
      "source": [
        "train_df = pd.read_csv('train.csv.zip')\n",
        "\n",
        "train_df.head()"
      ],
      "execution_count": 68,
      "outputs": [
        {
          "output_type": "execute_result",
          "data": {
            "text/html": [
              "<div>\n",
              "<style scoped>\n",
              "    .dataframe tbody tr th:only-of-type {\n",
              "        vertical-align: middle;\n",
              "    }\n",
              "\n",
              "    .dataframe tbody tr th {\n",
              "        vertical-align: top;\n",
              "    }\n",
              "\n",
              "    .dataframe thead th {\n",
              "        text-align: right;\n",
              "    }\n",
              "</style>\n",
              "<table border=\"1\" class=\"dataframe\">\n",
              "  <thead>\n",
              "    <tr style=\"text-align: right;\">\n",
              "      <th></th>\n",
              "      <th>id</th>\n",
              "      <th>qid1</th>\n",
              "      <th>qid2</th>\n",
              "      <th>question1</th>\n",
              "      <th>question2</th>\n",
              "      <th>is_duplicate</th>\n",
              "    </tr>\n",
              "  </thead>\n",
              "  <tbody>\n",
              "    <tr>\n",
              "      <th>0</th>\n",
              "      <td>0</td>\n",
              "      <td>1</td>\n",
              "      <td>2</td>\n",
              "      <td>What is the step by step guide to invest in sh...</td>\n",
              "      <td>What is the step by step guide to invest in sh...</td>\n",
              "      <td>0</td>\n",
              "    </tr>\n",
              "    <tr>\n",
              "      <th>1</th>\n",
              "      <td>1</td>\n",
              "      <td>3</td>\n",
              "      <td>4</td>\n",
              "      <td>What is the story of Kohinoor (Koh-i-Noor) Dia...</td>\n",
              "      <td>What would happen if the Indian government sto...</td>\n",
              "      <td>0</td>\n",
              "    </tr>\n",
              "    <tr>\n",
              "      <th>2</th>\n",
              "      <td>2</td>\n",
              "      <td>5</td>\n",
              "      <td>6</td>\n",
              "      <td>How can I increase the speed of my internet co...</td>\n",
              "      <td>How can Internet speed be increased by hacking...</td>\n",
              "      <td>0</td>\n",
              "    </tr>\n",
              "    <tr>\n",
              "      <th>3</th>\n",
              "      <td>3</td>\n",
              "      <td>7</td>\n",
              "      <td>8</td>\n",
              "      <td>Why am I mentally very lonely? How can I solve...</td>\n",
              "      <td>Find the remainder when [math]23^{24}[/math] i...</td>\n",
              "      <td>0</td>\n",
              "    </tr>\n",
              "    <tr>\n",
              "      <th>4</th>\n",
              "      <td>4</td>\n",
              "      <td>9</td>\n",
              "      <td>10</td>\n",
              "      <td>Which one dissolve in water quikly sugar, salt...</td>\n",
              "      <td>Which fish would survive in salt water?</td>\n",
              "      <td>0</td>\n",
              "    </tr>\n",
              "  </tbody>\n",
              "</table>\n",
              "</div>"
            ],
            "text/plain": [
              "   id  qid1  ...                                          question2 is_duplicate\n",
              "0   0     1  ...  What is the step by step guide to invest in sh...            0\n",
              "1   1     3  ...  What would happen if the Indian government sto...            0\n",
              "2   2     5  ...  How can Internet speed be increased by hacking...            0\n",
              "3   3     7  ...  Find the remainder when [math]23^{24}[/math] i...            0\n",
              "4   4     9  ...            Which fish would survive in salt water?            0\n",
              "\n",
              "[5 rows x 6 columns]"
            ]
          },
          "metadata": {
            "tags": []
          },
          "execution_count": 68
        }
      ]
    },
    {
      "cell_type": "code",
      "metadata": {
        "id": "E01VwQxvDhwZ",
        "colab_type": "code",
        "outputId": "6d12c0c9-5e91-48fc-a1ec-7729fe9ea073",
        "colab": {
          "base_uri": "https://localhost:8080/",
          "height": 255
        }
      },
      "source": [
        "print('Number of training observations', train_df.shape[0])\n",
        "train_df.info()"
      ],
      "execution_count": 69,
      "outputs": [
        {
          "output_type": "stream",
          "text": [
            "Number of training observations 404290\n",
            "<class 'pandas.core.frame.DataFrame'>\n",
            "RangeIndex: 404290 entries, 0 to 404289\n",
            "Data columns (total 6 columns):\n",
            " #   Column        Non-Null Count   Dtype \n",
            "---  ------        --------------   ----- \n",
            " 0   id            404290 non-null  int64 \n",
            " 1   qid1          404290 non-null  int64 \n",
            " 2   qid2          404290 non-null  int64 \n",
            " 3   question1     404289 non-null  object\n",
            " 4   question2     404288 non-null  object\n",
            " 5   is_duplicate  404290 non-null  int64 \n",
            "dtypes: int64(4), object(2)\n",
            "memory usage: 18.5+ MB\n"
          ],
          "name": "stdout"
        }
      ]
    },
    {
      "cell_type": "markdown",
      "metadata": {
        "colab_type": "text",
        "id": "0Xe1AG6Xazj8"
      },
      "source": [
        "## Q1. How many duplicate questions ? And, what percentage of the questions are duplicates?"
      ]
    },
    {
      "cell_type": "code",
      "metadata": {
        "id": "cfE0lF2KDnKD",
        "colab_type": "code",
        "outputId": "be613383-2013-41b2-e2de-a591dfab156a",
        "colab": {
          "base_uri": "https://localhost:8080/",
          "height": 463
        }
      },
      "source": [
        "plt.figure(figsize=(7,7))\n",
        "plot = sns.countplot(train_df['is_duplicate'])\n",
        "plot.set_xticklabels(['Not duplicate', 'Duplicate'])\n",
        "for p in plot.patches:\n",
        "    height = p.get_height()\n",
        "    width = p.get_x()+p.get_width()/2\n",
        "    plot.annotate(height, (width,height), xytext = (0, 5), textcoords = \"offset points\", ha = 'center', fontsize=12)\n",
        "\n",
        "plt.xlabel('Duplicats/Non-Duplicate')\n",
        "plt.ylabel('Number of observations')\n",
        "plt.title('Distribution of the target variable', fontsize = 20);"
      ],
      "execution_count": 70,
      "outputs": [
        {
          "output_type": "display_data",
          "data": {
            "image/png": "[encoded data removed]",
            "text/plain": [
              "<Figure size 504x504 with 1 Axes>"
            ]
          },
          "metadata": {
            "tags": [],
            "needs_background": "light"
          }
        }
      ]
    },
    {
      "cell_type": "code",
      "metadata": {
        "id": "aKuCjO5QD54A",
        "colab_type": "code",
        "outputId": "4e433002-1e12-4884-8ebe-a01b6f405c42",
        "colab": {
          "base_uri": "https://localhost:8080/",
          "height": 51
        }
      },
      "source": [
        "non_dup = train_df['is_duplicate'].value_counts()[0]\n",
        "dup = train_df['is_duplicate'].value_counts()[1]\n",
        "\n",
        "print('Percentage of Duplicate questions in the training data = ', round(dup*100/train_df.shape[0],2))\n",
        "print('Percentage of Non-duplicate questions in the training data = ', round(non_dup*100/train_df.shape[0],2))"
      ],
      "execution_count": 71,
      "outputs": [
        {
          "output_type": "stream",
          "text": [
            "Percentage of Duplicate questions in the training data =  36.92\n",
            "Percentage of Non-duplicate questions in the training data =  63.08\n"
          ],
          "name": "stdout"
        }
      ]
    },
    {
      "cell_type": "markdown",
      "metadata": {
        "colab_type": "text",
        "id": "_2EgF-w7e7xl"
      },
      "source": [
        "## Q2. Number of Unique Questions in the dataset"
      ]
    },
    {
      "cell_type": "code",
      "metadata": {
        "id": "LMQHsBDjDn1k",
        "colab_type": "code",
        "outputId": "308a5d05-01a6-497f-f2ef-0949f53c37ba",
        "colab": {
          "base_uri": "https://localhost:8080/",
          "height": 34
        }
      },
      "source": [
        "total_qns = train_df['qid1'].append(train_df['qid2'])\n",
        "\n",
        "print('Total number of unique questions: ', total_qns.nunique())"
      ],
      "execution_count": 72,
      "outputs": [
        {
          "output_type": "stream",
          "text": [
            "Total number of unique questions:  537933\n"
          ],
          "name": "stdout"
        }
      ]
    },
    {
      "cell_type": "markdown",
      "metadata": {
        "colab_type": "text",
        "id": "HbhNxJejgP6i"
      },
      "source": [
        "## Q3. How many questions appear repeatedly and how often?"
      ]
    },
    {
      "cell_type": "code",
      "metadata": {
        "colab_type": "code",
        "id": "P-Ed6uUBfImS",
        "outputId": "6bb9aab6-31ce-4237-a902-62947f17cad4",
        "colab": {
          "base_uri": "https://localhost:8080/",
          "height": 350
        }
      },
      "source": [
        "repeat_qns = sum(total_qns.value_counts() > 1)\n",
        "\n",
        "plt.figure(figsize = (12,5))\n",
        "sns.distplot(total_qns.value_counts())\n",
        "plt.yscale('log')\n",
        "plt.title('Log-count of question appearance')\n",
        "plt.xlabel('Count of each question in log scale')\n",
        "plt.ylabel('Question IDs');\n"
      ],
      "execution_count": 73,
      "outputs": [
        {
          "output_type": "display_data",
          "data": {
            "image/png": "[encoded data removed]",
            "text/plain": [
              "<Figure size 864x360 with 1 Axes>"
            ]
          },
          "metadata": {
            "tags": [],
            "needs_background": "light"
          }
        }
      ]
    },
    {
      "cell_type": "markdown",
      "metadata": {
        "colab_type": "text",
        "id": "pFHD4n2UnybW"
      },
      "source": [
        "## Text Preprocessing"
      ]
    },
    {
      "cell_type": "markdown",
      "metadata": {
        "colab_type": "text",
        "id": "o-ZhWICwlElk"
      },
      "source": [
        "### Missing Values Diagnosis"
      ]
    },
    {
      "cell_type": "code",
      "metadata": {
        "colab_type": "code",
        "id": "3mTB_eR6lD2P",
        "outputId": "fdf7a034-a4d6-4e9c-af01-fe5f3b5df205",
        "colab": {
          "base_uri": "https://localhost:8080/",
          "height": 136
        }
      },
      "source": [
        "train_df.isnull().sum()"
      ],
      "execution_count": 74,
      "outputs": [
        {
          "output_type": "execute_result",
          "data": {
            "text/plain": [
              "id              0\n",
              "qid1            0\n",
              "qid2            0\n",
              "question1       1\n",
              "question2       2\n",
              "is_duplicate    0\n",
              "dtype: int64"
            ]
          },
          "metadata": {
            "tags": []
          },
          "execution_count": 74
        }
      ]
    },
    {
      "cell_type": "markdown",
      "metadata": {
        "colab_type": "text",
        "id": "y332Pchul-wM"
      },
      "source": [
        "One missing value in **question1** and 2 missing values in **question2**. We fill up NaNs with blank."
      ]
    },
    {
      "cell_type": "code",
      "metadata": {
        "colab_type": "code",
        "id": "JCVYIt5ik_ZN",
        "colab": {}
      },
      "source": [
        "train_df = train_df.fillna('')"
      ],
      "execution_count": 0,
      "outputs": []
    },
    {
      "cell_type": "markdown",
      "metadata": {
        "colab_type": "text",
        "id": "2GE0J2iByxn-"
      },
      "source": [
        "# Q4. What is the distribution of the length of questions?"
      ]
    },
    {
      "cell_type": "code",
      "metadata": {
        "colab_type": "code",
        "id": "RSRk9JpHy35X",
        "outputId": "8d76e6de-1dcc-4981-c8e1-b220d4777b7f",
        "colab": {
          "base_uri": "https://localhost:8080/",
          "height": 266
        }
      },
      "source": [
        "all_questions = train_df['question1'].append(train_df['question2']).to_list()\n",
        "\n",
        "line_lengths = [len(text.split()) for text in all_questions]\n",
        "\n",
        "h = plt.hist(line_lengths, bins = 50)\n",
        "\n",
        "tokens = [item.split() for item in all_questions]\n",
        "total_tokens_per_line = [len(item.split()) for item in all_questions]\n",
        "h = plt.hist(total_tokens_per_line, color='orange')"
      ],
      "execution_count": 76,
      "outputs": [
        {
          "output_type": "display_data",
          "data": {
            "image/png": "[encoded data removed]",
            "text/plain": [
              "<Figure size 432x288 with 1 Axes>"
            ]
          },
          "metadata": {
            "tags": [],
            "needs_background": "light"
          }
        }
      ]
    },
    {
      "cell_type": "markdown",
      "metadata": {
        "colab_type": "text",
        "id": "fGYdWch4Ex2m"
      },
      "source": [
        "### Data Cleaning and pre-processing\n",
        "\n",
        "Essential Packages for text processing such as spacy and spell Checker have already be imported earlier. \n",
        "\n",
        "The definitions of the different cleaning functions are given below."
      ]
    },
    {
      "cell_type": "code",
      "metadata": {
        "colab_type": "code",
        "id": "weIuZATGmt3T",
        "colab": {}
      },
      "source": [
        "\n",
        "''' Function to check and correct Spellings '''\n",
        "def spell_correction(text):\n",
        "  spell = SpellChecker()\n",
        "  words = spell.split_words(text)\n",
        "  return ' '.join([spell.correction(word) for word in words])\n",
        "\n",
        "\n",
        "''' The main cleaning function '''\n",
        "def string_cleaning(qn):\n",
        "   # Replace special chars in text\n",
        "    \n",
        "    qn = re.sub(\"’\", \"'\", qn) # special single quote\n",
        "    qn = re.sub(\"`\", \"'\", qn) # special single quote\n",
        "    qn = re.sub(\"“\", '\"', qn) # special double quote\n",
        "    qn = re.sub(\"？\", \"?\", qn) \n",
        "    qn = re.sub(\"…\", \" \", qn) \n",
        "\n",
        "    #Spell check\n",
        "    qn = spell_correction(qn)\n",
        "\n",
        "    #Remove all punctuation\n",
        "    pattern = r'[^a-zA-z\\s]'\n",
        "    qn = re.sub(pattern, '', qn)\n",
        "\n",
        "    # Clean shorthands\n",
        "\n",
        "    qn = re.sub(\"e\\.g\\.\", \" eg \", qn, flags=re.IGNORECASE)\n",
        "    qn = re.sub(\"b\\.g\\.\", \" bg \", qn, flags=re.IGNORECASE)\n",
        "    qn = re.sub(r\"(\\W|^)([0-9]+)[kK](\\W|$)\", r\"\\1\\g<2>000\\3\", qn) \n",
        "    qn = re.sub(\"e-mail\", \" email \", qn, flags=re.IGNORECASE)\n",
        "    qn = re.sub(\"(the[\\s]+|The[\\s]+)?U\\.S\\.A\\.\", \" America \", qn, flags=re.IGNORECASE)\n",
        "    qn = re.sub(\"(the[\\s]+|The[\\s]+)?United State(s)?\", \" America \", qn, flags=re.IGNORECASE)\n",
        "    qn = re.sub(\"\\(s\\)\", \" \", qn, flags=re.IGNORECASE)\n",
        "    qn = re.sub(\"[c-fC-F]\\:\\/\", \" disk \", qn)\n",
        "    \n",
        "    # replace the float numbers with a random number, it will be parsed as number afterward, and also been replaced with word \"number\"\n",
        "    \n",
        "    qn = re.sub('[0-9]+\\.[0-9]+', \" 99 \", qn)\n",
        "     \n",
        "    # add padding to punctuations and special chars\n",
        "    \n",
        "    qn = re.sub('\\$', \" dollar \", qn)\n",
        "    qn = re.sub('\\%', \" percent \", qn)\n",
        "    qn = re.sub('\\&', \" and \", qn)\n",
        "\n",
        "    return qn\n"
      ],
      "execution_count": 0,
      "outputs": []
    },
    {
      "cell_type": "code",
      "metadata": {
        "colab_type": "code",
        "id": "wCkOpyOv8AIv",
        "colab": {}
      },
      "source": [
        "nlp = en_core_web_sm.load()\n",
        "spacy_stopwords = spacy.lang.en.stop_words.STOP_WORDS\n",
        "spacy_stopwords.add('di')\n",
        "spacy_stopwords.add('d')\n",
        "exception = {'no','like','not'}\n",
        "spacy_stopwords = set([word for word in spacy_stopwords if word not in exception])\n",
        "\n",
        "\n",
        "def preprocess(qn):\n",
        "    # String operations\n",
        "    \n",
        "    qn = qn.lower()\n",
        "    qn = string_cleaning(qn)\n",
        "\n",
        "    #Tokenize text\n",
        "\n",
        "    tokens = nlp(qn)\n",
        "\n",
        "    #Lemmatization\n",
        "    lemma_list = []\n",
        "    for token in tokens:\n",
        "        flag = True\n",
        "        hold = token.text.strip()\n",
        "        if token.is_stop and token.pos_ != 'NUM': \n",
        "            flag = False\n",
        "\n",
        "        elif token.lemma_ != \"-PRON-\" and token.lemma_.isalpha() and flag == True:\n",
        "            hold = token.lemma_\n",
        "\n",
        "        if flag == True and hold != '' and len(hold) > 2:\n",
        "            lemma_list.append(hold)\n",
        "        #token_list\n",
        "\n",
        "    return list(set(' '.join(lemma_list).split()))  \n"
      ],
      "execution_count": 0,
      "outputs": []
    },
    {
      "cell_type": "markdown",
      "metadata": {
        "id": "OvSSCFEeEstp",
        "colab_type": "text"
      },
      "source": [
        "Creating a copy of the original dataframe and continuing with text preprocessing.\n",
        "\n",
        "Due to computational constraints on the local system and non-availability of GPU at the time of execution, the topic modelling has been applied on a subset of data (2000 observations). The notion of this experiment is to understand and apply acquired knowledge and re-create a prototype of LDA application for topic modelling."
      ]
    },
    {
      "cell_type": "code",
      "metadata": {
        "colab_type": "code",
        "id": "6Ku-oNbrfVcl",
        "colab": {}
      },
      "source": [
        "train_cpy = train_df[train_df['is_duplicate'] == 0 ].loc[0:2000, ['question1', 'question2']]\n"
      ],
      "execution_count": 0,
      "outputs": []
    },
    {
      "cell_type": "code",
      "metadata": {
        "id": "_pIlNPplTaFX",
        "colab_type": "code",
        "colab": {}
      },
      "source": [
        "#\n",
        "train_cpy['question1'] = train_cpy['question1'].apply(lambda x: preprocess(str(x))) \n",
        "train_cpy['question2'] = train_cpy['question2'].apply(lambda x: preprocess(str(x)))"
      ],
      "execution_count": 0,
      "outputs": []
    },
    {
      "cell_type": "code",
      "metadata": {
        "colab_type": "code",
        "id": "KblslbPdtRQ7",
        "outputId": "508f346f-79fc-4624-9fe4-6c0aed58bade",
        "colab": {
          "base_uri": "https://localhost:8080/",
          "height": 204
        }
      },
      "source": [
        "train_cpy.head()"
      ],
      "execution_count": 81,
      "outputs": [
        {
          "output_type": "execute_result",
          "data": {
            "text/html": [
              "<div>\n",
              "<style scoped>\n",
              "    .dataframe tbody tr th:only-of-type {\n",
              "        vertical-align: middle;\n",
              "    }\n",
              "\n",
              "    .dataframe tbody tr th {\n",
              "        vertical-align: top;\n",
              "    }\n",
              "\n",
              "    .dataframe thead th {\n",
              "        text-align: right;\n",
              "    }\n",
              "</style>\n",
              "<table border=\"1\" class=\"dataframe\">\n",
              "  <thead>\n",
              "    <tr style=\"text-align: right;\">\n",
              "      <th></th>\n",
              "      <th>question1</th>\n",
              "      <th>question2</th>\n",
              "    </tr>\n",
              "  </thead>\n",
              "  <tbody>\n",
              "    <tr>\n",
              "      <th>0</th>\n",
              "      <td>[step, share, market, invest, guide, india]</td>\n",
              "      <td>[step, share, market, invest, guide]</td>\n",
              "    </tr>\n",
              "    <tr>\n",
              "      <th>1</th>\n",
              "      <td>[diamond, koh, noor, story, kohinoor]</td>\n",
              "      <td>[diamond, government, koh, indian, steal, happ...</td>\n",
              "    </tr>\n",
              "    <tr>\n",
              "      <th>2</th>\n",
              "      <td>[connection, increase, vpn, speed, internet]</td>\n",
              "      <td>[increase, speed, hack, internet, dns]</td>\n",
              "    </tr>\n",
              "    <tr>\n",
              "      <th>3</th>\n",
              "      <td>[solve, lonely, mentally]</td>\n",
              "      <td>[math, find, remainder, divide]</td>\n",
              "    </tr>\n",
              "    <tr>\n",
              "      <th>4</th>\n",
              "      <td>[salt, carbon, water, methane, one, sugar, oxi...</td>\n",
              "      <td>[salt, water, survive, fish]</td>\n",
              "    </tr>\n",
              "  </tbody>\n",
              "</table>\n",
              "</div>"
            ],
            "text/plain": [
              "                                           question1                                          question2\n",
              "0        [step, share, market, invest, guide, india]               [step, share, market, invest, guide]\n",
              "1              [diamond, koh, noor, story, kohinoor]  [diamond, government, koh, indian, steal, happ...\n",
              "2       [connection, increase, vpn, speed, internet]             [increase, speed, hack, internet, dns]\n",
              "3                          [solve, lonely, mentally]                    [math, find, remainder, divide]\n",
              "4  [salt, carbon, water, methane, one, sugar, oxi...                       [salt, water, survive, fish]"
            ]
          },
          "metadata": {
            "tags": []
          },
          "execution_count": 81
        }
      ]
    },
    {
      "cell_type": "markdown",
      "metadata": {
        "colab_type": "text",
        "id": "hOC9Vajtq8SP"
      },
      "source": [
        "# Topic Modelling\n",
        "\n",
        "Create a dataset with question1 and question2 appended from the train data."
      ]
    },
    {
      "cell_type": "code",
      "metadata": {
        "id": "NuxB0GVZFT5P",
        "colab_type": "code",
        "colab": {}
      },
      "source": [
        "s1 = train_cpy[\"question1\"]\n",
        "s2 = train_cpy[\"question2\"]\n",
        "data = s1.append(s2)"
      ],
      "execution_count": 0,
      "outputs": []
    },
    {
      "cell_type": "markdown",
      "metadata": {
        "id": "pIA-87Rx4OLm",
        "colab_type": "text"
      },
      "source": [
        "# Topic clustering using Gensim\n",
        "\n",
        "## Step 1: Creating the dictionary from the corpus"
      ]
    },
    {
      "cell_type": "code",
      "metadata": {
        "colab_type": "code",
        "id": "-C8orZYzaFnZ",
        "outputId": "6e4ea048-3872-4f86-e454-fa0f6df5b2f8",
        "colab": {
          "base_uri": "https://localhost:8080/",
          "height": 71
        }
      },
      "source": [
        "dictionary = gensim.corpora.Dictionary(data)\n"
      ],
      "execution_count": 83,
      "outputs": [
        {
          "output_type": "stream",
          "text": [
            "2020-04-29 21:09:47,871 : INFO : adding document #0 to Dictionary(0 unique tokens: [])\n",
            "2020-04-29 21:09:47,903 : INFO : built Dictionary(3927 unique tokens: ['guide', 'india', 'invest', 'market', 'share']...) from 2518 documents (total 12845 corpus positions)\n"
          ],
          "name": "stderr"
        }
      ]
    },
    {
      "cell_type": "markdown",
      "metadata": {
        "colab_type": "text",
        "id": "yy1xqz8shoOP"
      },
      "source": [
        "Next we filter out words that are either too frequent in the overall corpus of questions (i.e. occuring more than 50%) or too rare (i.e. occuring in less than 50 questions)"
      ]
    },
    {
      "cell_type": "code",
      "metadata": {
        "colab_type": "code",
        "id": "OmcfXKLHhnWh",
        "outputId": "765d50f3-7c9c-48b0-c72a-6e5b4743dabd",
        "colab": {
          "base_uri": "https://localhost:8080/",
          "height": 88
        }
      },
      "source": [
        "dictionary.filter_extremes(no_below=2, no_above=0.5, keep_n=10000)"
      ],
      "execution_count": 84,
      "outputs": [
        {
          "output_type": "stream",
          "text": [
            "2020-04-29 21:09:47,917 : INFO : discarding 1893 tokens: [('connection', 1), ('vpn', 1), ('dissolve', 1), ('methane', 1), ('oxide', 1), ('iago', 1), ('charter', 1), ('baptism', 1), ('prestel', 1), ('separation', 1)]...\n",
            "2020-04-29 21:09:47,918 : INFO : keeping 2034 tokens which were in no less than 2 and no more than 1259 (=50.0%) documents\n",
            "2020-04-29 21:09:47,922 : INFO : resulting dictionary: Dictionary(2034 unique tokens: ['guide', 'india', 'invest', 'market', 'share']...)\n"
          ],
          "name": "stderr"
        }
      ]
    },
    {
      "cell_type": "markdown",
      "metadata": {
        "id": "34ZW2uJG4dWd",
        "colab_type": "text"
      },
      "source": [
        "## Step 2: Creating Bag-of-Words from the Tokens"
      ]
    },
    {
      "cell_type": "code",
      "metadata": {
        "colab_type": "code",
        "id": "kpTnwyEgiJFc",
        "outputId": "11f114e7-6c0a-45b8-bc0d-d421bdf73803",
        "colab": {
          "base_uri": "https://localhost:8080/",
          "height": 54
        }
      },
      "source": [
        "bow_corpus = [dictionary.doc2bow(doc) for doc in data]\n",
        "'''\n",
        "bow_doc_100 = bow_corpus[100]\n",
        "for i in range(len(bow_doc_100)):\n",
        "    print(\"Word {} (\\\"{}\\\") appears {} time.\".format(bow_doc_100[i][0], \n",
        "                                               dictionary[bow_doc_100[i][0]], \n",
        "bow_doc_100[i][1]))'''"
      ],
      "execution_count": 85,
      "outputs": [
        {
          "output_type": "execute_result",
          "data": {
            "text/plain": [
              "'\\nbow_doc_100 = bow_corpus[100]\\nfor i in range(len(bow_doc_100)):\\n    print(\"Word {} (\"{}\") appears {} time.\".format(bow_doc_100[i][0], \\n                                               dictionary[bow_doc_100[i][0]], \\nbow_doc_100[i][1]))'"
            ]
          },
          "metadata": {
            "tags": []
          },
          "execution_count": 85
        }
      ]
    },
    {
      "cell_type": "markdown",
      "metadata": {
        "id": "pAaw9ZUU4lic",
        "colab_type": "text"
      },
      "source": [
        "## Step 3: Creating the Document-Term Matrix using TF-IDF Vectorizer "
      ]
    },
    {
      "cell_type": "code",
      "metadata": {
        "id": "L9a2ZD8EWQL9",
        "colab_type": "code",
        "outputId": "bf64b6f7-2a2c-496a-9549-f7badb430857",
        "colab": {
          "base_uri": "https://localhost:8080/",
          "height": 68
        }
      },
      "source": [
        "tfidf = models.TfidfModel(bow_corpus)\n"
      ],
      "execution_count": 86,
      "outputs": [
        {
          "output_type": "stream",
          "text": [
            "2020-04-29 21:09:47,952 : INFO : collecting document frequencies\n",
            "2020-04-29 21:09:47,952 : INFO : PROGRESS: processing document #0\n",
            "2020-04-29 21:09:47,958 : INFO : calculating IDF weights for 2518 documents and 2033 features (10952 matrix non-zeros)\n"
          ],
          "name": "stderr"
        }
      ]
    },
    {
      "cell_type": "code",
      "metadata": {
        "id": "uqG1BqWB6Yea",
        "colab_type": "code",
        "colab": {}
      },
      "source": [
        "# If value is high, it means the word has a higher tf-idf weight.\n",
        "# We want to remove words that have less weight i.e. as low as 0.1\n",
        "low_value = 0.1\n",
        "low_value_words = []\n",
        "for item in bow_corpus:\n",
        "    low_value_words += [id for id, value in tfidf[item] if value < low_value]\n",
        "dictionary.filter_tokens(bad_ids=low_value_words)\n",
        "corpus = [dictionary.doc2bow(doc) for doc in data]"
      ],
      "execution_count": 0,
      "outputs": []
    },
    {
      "cell_type": "markdown",
      "metadata": {
        "id": "sNwjz9Bq4s8_",
        "colab_type": "text"
      },
      "source": [
        "## Step 4: Running the LDA Algorithm from Gensim Package\n",
        "\n",
        "Key parameters:\n",
        "\n",
        "1.   Bag of words corpus after filtering words based on TF-IDF score\n",
        "2.   Dictionary (created from the corpus)\n",
        "3.   Number of topic (arbitarily chosen as 10) \n",
        "\n"
      ]
    },
    {
      "cell_type": "code",
      "metadata": {
        "id": "DBuwxiHlW4Xo",
        "colab_type": "code",
        "colab": {}
      },
      "source": [
        "lda_model = gensim.models.LdaMulticore(corpus, num_topics=10, id2word=dictionary, passes=20, workers=4)\n",
        "\n",
        "# Compute Coherence Score\n",
        "coherence_model_lda = CoherenceModel(model=lda_model, texts=data, dictionary=dictionary, coherence='c_v')\n",
        "coherence_lda = coherence_model_lda.get_coherence()\n",
        "print('\\nCoherence Score: ', coherence_lda)"
      ],
      "execution_count": 0,
      "outputs": []
    },
    {
      "cell_type": "code",
      "metadata": {
        "id": "3qPgBFCEXPrl",
        "colab_type": "code",
        "outputId": "be7001d2-70c2-4867-da1b-8772983d6ba1",
        "colab": {
          "base_uri": "https://localhost:8080/",
          "height": 377
        }
      },
      "source": [
        "# each element of the list is a tuple \n",
        "# containing the topic and word / probability list\n",
        "topics = lda_model.show_topics(num_words = 10, formatted = True)\n",
        "topics"
      ],
      "execution_count": 89,
      "outputs": [
        {
          "output_type": "execute_result",
          "data": {
            "text/plain": [
              "[(0,\n",
              "  '0.025*\"mean\" + 0.020*\"quota\" + 0.020*\"like\" + 0.020*\"don\" + 0.016*\"india\" + 0.012*\"feel\" + 0.012*\"question\" + 0.010*\"movie\" + 0.009*\"computer\" + 0.008*\"people\"'),\n",
              " (1,\n",
              "  '0.023*\"think\" + 0.023*\"trump\" + 0.018*\"donald\" + 0.015*\"people\" + 0.011*\"world\" + 0.009*\"india\" + 0.009*\"com\" + 0.009*\"company\" + 0.008*\"election\" + 0.008*\"way\"'),\n",
              " (2,\n",
              "  '0.022*\"good\" + 0.012*\"buy\" + 0.012*\"start\" + 0.012*\"time\" + 0.012*\"thing\" + 0.011*\"place\" + 0.009*\"day\" + 0.009*\"goole\" + 0.008*\"india\" + 0.007*\"laptop\"'),\n",
              " (3,\n",
              "  '0.027*\"difference\" + 0.012*\"lose\" + 0.011*\"cause\" + 0.010*\"use\" + 0.010*\"weight\" + 0.010*\"build\" + 0.010*\"need\" + 0.009*\"write\" + 0.009*\"phone\" + 0.008*\"eat\"'),\n",
              " (4,\n",
              "  '0.079*\"good\" + 0.016*\"way\" + 0.015*\"learn\" + 0.010*\"india\" + 0.010*\"online\" + 0.009*\"language\" + 0.008*\"download\" + 0.008*\"cost\" + 0.008*\"company\" + 0.008*\"study\"'),\n",
              " (5,\n",
              "  '0.019*\"like\" + 0.015*\"one\" + 0.014*\"new\" + 0.011*\"man\" + 0.011*\"find\" + 0.008*\"use\" + 0.008*\"good\" + 0.008*\"different\" + 0.007*\"come\" + 0.007*\"city\"'),\n",
              " (6,\n",
              "  '0.026*\"good\" + 0.019*\"app\" + 0.014*\"love\" + 0.013*\"phone\" + 0.013*\"girl\" + 0.011*\"know\" + 0.010*\"mobile\" + 0.010*\"guy\" + 0.010*\"learn\" + 0.010*\"like\"'),\n",
              " (7,\n",
              "  '0.015*\"movie\" + 0.014*\"number\" + 0.013*\"major\" + 0.012*\"look\" + 0.011*\"people\" + 0.011*\"canada\" + 0.010*\"blood\" + 0.009*\"change\" + 0.009*\"university\" + 0.009*\"way\"'),\n",
              " (8,\n",
              "  '0.017*\"life\" + 0.011*\"word\" + 0.011*\"stop\" + 0.010*\"sentence\" + 0.009*\"good\" + 0.008*\"example\" + 0.008*\"student\" + 0.008*\"exist\" + 0.007*\"international\" + 0.007*\"require\"'),\n",
              " (9,\n",
              "  '0.021*\"good\" + 0.015*\"work\" + 0.013*\"money\" + 0.012*\"ask\" + 0.012*\"want\" + 0.010*\"life\" + 0.008*\"system\" + 0.008*\"india\" + 0.008*\"engineer\" + 0.007*\"company\"')]"
            ]
          },
          "metadata": {
            "tags": []
          },
          "execution_count": 89
        }
      ]
    },
    {
      "cell_type": "code",
      "metadata": {
        "id": "5LhogwM9Xq-9",
        "colab_type": "code",
        "colab": {}
      },
      "source": [
        "def find_coherence(corpus, dictionary, topic):\n",
        "  lda_model = gensim.models.LdaMulticore(num_topics= topic,\n",
        "                      corpus=corpus,\n",
        "                      id2word=dictionary,\n",
        "                      passes=20,\n",
        "                      eval_every=None,\n",
        "                      workers = 4)\n",
        "  coherence_model_lda = CoherenceModel(model=lda_model, texts=data, dictionary=dictionary, coherence='c_v')\n",
        "\n",
        "  coherence_lda = coherence_model_lda.get_coherence()\n",
        "  return coherence_lda\n",
        "\n",
        "\n",
        "\n",
        "# Range of topics\n",
        "min_topics = 5\n",
        "max_topics = 30\n",
        "step_size = 2\n",
        "topics_range = range(min_topics, max_topics, step_size)\n",
        "\n",
        "results = { 'Topics' : [],\n",
        "           'Coherence' : []}\n",
        "\n",
        "for k in topics_range:\n",
        "  cv = find_coherence(corpus, dictionary, topic = k)\n",
        "  results['Topics'].append(k)\n",
        "  results['Coherence'].append(cv)\n",
        "\n",
        "results_df = pd.DataFrame(results)\n"
      ],
      "execution_count": 0,
      "outputs": []
    },
    {
      "cell_type": "code",
      "metadata": {
        "id": "fIxWVQHlXrF5",
        "colab_type": "code",
        "outputId": "b084943d-7da9-458a-d615-ac884c5dbafa",
        "colab": {
          "base_uri": "https://localhost:8080/",
          "height": 503
        }
      },
      "source": [
        "print(results_df)\n",
        "plt.plot('Topics', 'Coherence', data = results_df);"
      ],
      "execution_count": 91,
      "outputs": [
        {
          "output_type": "stream",
          "text": [
            "    Topics  Coherence\n",
            "0        5   0.592744\n",
            "1        7   0.556024\n",
            "2        9   0.575161\n",
            "3       11   0.591673\n",
            "4       13   0.581587\n",
            "5       15   0.572096\n",
            "6       17   0.565384\n",
            "7       19   0.563418\n",
            "8       21   0.576238\n",
            "9       23   0.599759\n",
            "10      25   0.599805\n",
            "11      27   0.581340\n",
            "12      29   0.596536\n"
          ],
          "name": "stdout"
        },
        {
          "output_type": "display_data",
          "data": {
            "image/png": "[encoded data removed]",
            "text/plain": [
              "<Figure size 432x288 with 1 Axes>"
            ]
          },
          "metadata": {
            "tags": [],
            "needs_background": "light"
          }
        }
      ]
    },
    {
      "cell_type": "markdown",
      "metadata": {
        "id": "FVAnC_E2r3QE",
        "colab_type": "text"
      },
      "source": [
        "Based on the Cross validation done above on number of topics, we observe that the coherence score attains it's first peak at num_topics = 13. "
      ]
    },
    {
      "cell_type": "code",
      "metadata": {
        "id": "Rcsdnx5CsJyz",
        "colab_type": "code",
        "colab": {}
      },
      "source": [
        "lda_model = gensim.models.LdaMulticore(num_topics= 13,\n",
        "                      corpus=corpus,\n",
        "                      id2word=dictionary,\n",
        "                      passes=20,\n",
        "                      eval_every=None,\n",
        "                      workers = 4)\n",
        "\n"
      ],
      "execution_count": 0,
      "outputs": []
    },
    {
      "cell_type": "code",
      "metadata": {
        "id": "mNhW8w0SXrJP",
        "colab_type": "code",
        "colab": {}
      },
      "source": [
        "'''Excellent resource\n",
        "\n",
        "https://tmtoolkit.readthedocs.io/en/latest/topic_modeling.html#Visualizing-topic-models\n",
        "\n",
        "https://datascience.blog.wzb.eu/2017/11/09/topic-modeling-evaluation-in-python-with-tmtoolkit/\n",
        "\n",
        "https://towardsdatascience.com/unsupervised-nlp-topic-models-as-a-supervised-learning-input-cf8ee9e5cf28'''"
      ],
      "execution_count": 0,
      "outputs": []
    },
    {
      "cell_type": "markdown",
      "metadata": {
        "id": "QUnU_4nDGJUL",
        "colab_type": "text"
      },
      "source": [
        "# Visualization\n"
      ]
    },
    {
      "cell_type": "code",
      "metadata": {
        "id": "1z_wn0qjXdA6",
        "colab_type": "code",
        "outputId": "d7a64457-2c20-4764-c842-11d2a5350fc7",
        "colab": {
          "base_uri": "https://localhost:8080/",
          "height": 861
        }
      },
      "source": [
        "lda_display = pyLDAvis.gensim.prepare(lda_model, corpus, dictionary)\n",
        "pyLDAvis.display(lda_display)"
      ],
      "execution_count": 94,
      "outputs": [
        {
          "output_type": "execute_result",
          "data": {
            "text/html": [
              "\n",
              "<link rel=\"stylesheet\" type=\"text/css\" href=\"https://cdn.rawgit.com/bmabey/pyLDAvis/files/ldavis.v1.0.0.css\">\n",
              "\n",
              "\n",
              "<div id=\"ldavis_el1261403781302440162838879458\"></div>\n",
              "<script type=\"text/javascript\">\n",
              "\n",
              "var ldavis_el1261403781302440162838879458_data = {\"mdsDat\": {\"x\": [-0.03670183938042903, -0.029961009162463623, 0.1425341448446467, 0.03951454743540705, -0.09169854042351613, 0.08012199481981386, 0.0031769079652492088, 0.14362935319872627, -0.0937554713903202, -0.0021785166441086285, -0.11668821810652098, -0.13850738507359509, 0.10051403191711075], \"y\": [0.13365481091408954, 0.11347259831811264, -0.019478972664525987, 0.02575018109066572, 0.18476413652752513, -0.032607118237732394, -0.023439446269582123, 0.013018536135734629, -0.057561136774075004, -0.04422938297469933, -0.12346765626554622, -0.10458704270060643, -0.06528950709936064], \"topics\": [1, 2, 3, 4, 5, 6, 7, 8, 9, 10, 11, 12, 13], \"cluster\": [1, 1, 1, 1, 1, 1, 1, 1, 1, 1, 1, 1, 1], \"Freq\": [8.798177719116211, 8.358675956726074, 8.319757461547852, 8.199087142944336, 8.078463554382324, 8.044561386108398, 7.660465717315674, 7.64945650100708, 7.630296230316162, 7.2006001472473145, 6.838998794555664, 6.693074703216553, 6.528378963470459]}, \"tinfo\": {\"Term\": [\"like\", \"difference\", \"learn\", \"good\", \"trump\", \"life\", \"phone\", \"use\", \"donald\", \"girl\", \"world\", \"mean\", \"example\", \"people\", \"question\", \"need\", \"love\", \"car\", \"work\", \"quota\", \"start\", \"new\", \"guy\", \"engineering\", \"lose\", \"way\", \"feel\", \"math\", \"weight\", \"app\", \"rahab\", \"inpatient\", \"alcohol\", \"county\", \"interview\", \"attract\", \"wrong\", \"female\", \"opportunity\", \"league\", \"upgrade\", \"position\", \"leg\", \"emotion\", \"muslim\", \"responsibility\", \"writer\", \"pakistani\", \"little\", \"call\", \"center\", \"drug\", \"boyfriend\", \"hash\", \"represent\", \"communist\", \"establish\", \"religion\", \"nature\", \"own\", \"fiction\", \"tip\", \"great\", \"guy\", \"dream\", \"process\", \"woman\", \"mean\", \"girl\", \"date\", \"man\", \"friend\", \"fall\", \"window\", \"earn\", \"old\", \"year\", \"love\", \"time\", \"indian\", \"want\", \"make\", \"think\", \"good\", \"online\", \"avoid\", \"professor\", \"snapshot\", \"switch\", \"path\", \"dubai\", \"message\", \"pugin\", \"key\", \"sydney\", \"shoe\", \"ring\", \"deactivate\", \"withdraw\", \"user\", \"text\", \"afraid\", \"block\", \"travel\", \"like\", \"kid\", \"sem\", \"dorsey\", \"librarian\", \"malaysia\", \"sweden\", \"cousin\", \"cross\", \"let\", \"season\", \"dead\", \"banker\", \"fill\", \"career\", \"develop\", \"choose\", \"whatsapp\", \"person\", \"relate\", \"hack\", \"feel\", \"goole\", \"stop\", \"time\", \"know\", \"exam\", \"day\", \"find\", \"new\", \"country\", \"online\", \"mobile\", \"job\", \"thing\", \"want\", \"work\", \"good\", \"question\", \"jim\", \"fireball\", \"design\", \"deal\", \"protect\", \"planet\", \"improve\", \"skill\", \"web\", \"laptop\", \"security\", \"kiosk\", \"commonly\", \"politician\", \"dcx\", \"biology\", \"noon\", \"manufacturer\", \"joe\", \"motorola\", \"mispronounce\", \"viral\", \"kohl\", \"okay\", \"libertarian\", \"ipc\", \"daughter\", \"present\", \"canon\", \"money\", \"quota\", \"app\", \"ask\", \"application\", \"safe\", \"buy\", \"read\", \"basic\", \"topic\", \"morning\", \"delhi\", \"individual\", \"resume\", \"earth\", \"score\", \"pay\", \"source\", \"company\", \"place\", \"good\", \"value\", \"way\", \"online\", \"mobile\", \"word\", \"student\", \"year\", \"change\", \"egg\", \"property\", \"milk\", \"agree\", \"summer\", \"alberta\", \"delete\", \"vegetarian\", \"robotic\", \"wales\", \"business\", \"portability\", \"veg\", \"hunter\", \"attraction\", \"brooklyn\", \"staten\", \"titration\", \"monster\", \"technologically\", \"recreation\", \"park\", \"scotia\", \"overrated\", \"universitie\", \"nova\", \"jimmy\", \"entanglement\", \"boring\", \"cheese\", \"world\", \"quantum\", \"european\", \"game\", \"real\", \"secret\", \"love\", \"non\", \"start\", \"teacher\", \"batman\", \"december\", \"scientist\", \"include\", \"way\", \"system\", \"girl\", \"good\", \"blow\", \"right\", \"movie\", \"feel\", \"site\", \"tell\", \"review\", \"don\", \"life\", \"work\", \"different\", \"channel\", \"girlfriend\", \"country\", \"find\", \"guy\", \"quota\", \"theory\", \"trump\", \"donald\", \"picture\", \"election\", \"general\", \"supporter\", \"distance\", \"cruz\", \"ted\", \"bite\", \"presidential\", \"machine\", \"ranbir\", \"kapoor\", \"mentor\", \"united\", \"kingdom\", \"three\", \"recruiter\", \"vietnam\", \"episode\", \"congress\", \"track\", \"learning\", \"willing\", \"dixit\", \"mid\", \"map\", \"madura\", \"professional\", \"harvard\", \"dog\", \"hillary\", \"clinton\", \"join\", \"win\", \"song\", \"average\", \"support\", \"college\", \"day\", \"vote\", \"comment\", \"hour\", \"find\", \"company\", \"movie\", \"like\", \"think\", \"course\", \"bad\", \"people\", \"cost\", \"time\", \"feel\", \"india\", \"difference\", \"sex\", \"tax\", \"taxi\", \"specify\", \"science\", \"happy\", \"torrent\", \"domain\", \"relative\", \"squat\", \"plant\", \"birthday\", \"cell\", \"register\", \"magnet\", \"testing\", \"distribute\", \"creed\", \"assassin\", \"drink\", \"shortcut\", \"excel\", \"version\", \"force\", \"stem\", \"rat\", \"poison\", \"performance\", \"functional\", \"respond\", \"lesson\", \"film\", \"chicken\", \"need\", \"satisfied\", \"programming\", \"affect\", \"language\", \"wish\", \"music\", \"water\", \"car\", \"download\", \"have\", \"computer\", \"service\", \"get\", \"possible\", \"good\", \"use\", \"one\", \"compare\", \"person\", \"friend\", \"account\", \"india\", \"american\", \"hyderabad\", \"auto\", \"fran\", \"storm\", \"bald\", \"ranch\", \"cookie\", \"york\", \"shave\", \"creature\", \"mythical\", \"gre\", \"nit\", \"addict\", \"react\", \"electrical\", \"stand\", \"engineering\", \"jaipur\", \"locke\", \"immune\", \"dressing\", \"disease\", \"stark\", \"virginity\", \"duc\", \"datatorrent\", \"crater\", \"intelligent\", \"bran\", \"quang\", \"civil\", \"age\", \"kill\", \"union\", \"boy\", \"math\", \"hair\", \"medicine\", \"degree\", \"write\", \"cheap\", \"stop\", \"graduate\", \"new\", \"word\", \"year\", \"war\", \"java\", \"kashmir\", \"live\", \"learn\", \"good\", \"start\", \"need\", \"college\", \"find\", \"india\", \"book\", \"major\", \"study\", \"leave\", \"people\", \"place\", \"mail\", \"pen\", \"marketing\", \"panel\", \"fear\", \"jailbreake\", \"image\", \"retrieve\", \"rap\", \"location\", \"natural\", \"model\", \"expression\", \"nash\", \"federal\", \"profit\", \"flash\", \"pcb\", \"volkswagen\", \"polo\", \"goldman\", \"sachs\", \"john\", \"ginger\", \"challenge\", \"draft\", \"modern\", \"processing\", \"wallpaper\", \"crust\", \"digital\", \"bring\", \"phone\", \"sim\", \"fast\", \"pan\", \"car\", \"benefit\", \"card\", \"study\", \"clean\", \"sell\", \"invest\", \"etc\", \"gift\", \"honda\", \"credit\", \"share\", \"song\", \"good\", \"school\", \"number\", \"work\", \"music\", \"time\", \"video\", \"download\", \"well\", \"company\", \"child\", \"live\", \"use\", \"look\", \"like\", \"acne\", \"chart\", \"birth\", \"scar\", \"railway\", \"poster\", \"citizen\", \"decision\", \"german\", \"calendar\", \"truth\", \"waiting\", \"statement\", \"line\", \"death\", \"nato\", \"eligible\", \"copyright\", \"shirt\", \"asahi\", \"suppose\", \"neural\", \"regret\", \"mainstream\", \"adopt\", \"den\", \"seat\", \"confirm\", \"rac\", \"reservation\", \"casebook\", \"rule\", \"fail\", \"innovation\", \"calorie\", \"ticket\", \"use\", \"interesting\", \"product\", \"series\", \"glass\", \"analysis\", \"hang\", \"cancel\", \"headphone\", \"two\", \"government\", \"happen\", \"india\", \"one\", \"don\", \"network\", \"know\", \"exist\", \"indian\", \"instead\", \"come\", \"cause\", \"follow\", \"good\", \"people\", \"tell\", \"access\", \"learn\", \"etc\", \"pakistan\", \"dish\", \"gas\", \"recruit\", \"unusual\", \"smart\", \"export\", \"import\", \"fly\", \"exercise\", \"writing\", \"project\", \"lock\", \"grass\", \"body\", \"actress\", \"noor\", \"anima\", \"magical\", \"kohinoor\", \"aspect\", \"koh\", \"exchange\", \"diamond\", \"latency\", \"emerald\", \"metro\", \"korea\", \"cuisine\", \"surf\", \"powerful\", \"iii\", \"history\", \"home\", \"food\", \"cry\", \"fighter\", \"sigma\", \"wife\", \"look\", \"country\", \"industry\", \"work\", \"university\", \"major\", \"usa\", \"help\", \"new\", \"phone\", \"india\", \"want\", \"world\", \"book\", \"apply\", \"run\", \"bad\", \"bank\", \"different\", \"android\", \"old\", \"example\", \"universe\", \"com\", \"porn\", \"weight\", \"husky\", \"perception\", \"expand\", \"sperm\", \"policy\", \"mission\", \"ignore\", \"enter\", \"binary\", \"option\", \"spouse\", \"purpose\", \"lose\", \"star\", \"life\", \"reduce\", \"befriend\", \"fusion\", \"temperament\", \"ejaculate\", \"patent\", \"atom\", \"registration\", \"exothermic\", \"rental\", \"meeting\", \"highway\", \"eat\", \"problem\", \"create\", \"well\", \"room\", \"healthy\", \"jealous\", \"society\", \"space\", \"reason\", \"thing\", \"mean\", \"correct\", \"access\", \"type\", \"one\", \"gain\", \"offer\", \"new\", \"high\", \"day\", \"people\", \"compare\", \"die\", \"increase\", \"paranormal\", \"weak\", \"cotton\", \"angry\", \"israel\", \"fiance\", \"hill\", \"approach\", \"painting\", \"illegal\", \"wash\", \"shrink\", \"state\", \"plasma\", \"wildlife\", \"staff\", \"depressed\", \"midsummer\", \"anaemia\", \"gear\", \"unmarried\", \"moral\", \"harassment\", \"angelfish\", \"titania\", \"punish\", \"crick\", \"hotel\", \"oberon\", \"magic\", \"instagram\", \"prospect\", \"pain\", \"box\", \"strong\", \"consider\", \"die\", \"treat\", \"experience\", \"people\", \"severe\", \"celebrity\", \"police\", \"net\", \"rid\", \"search\", \"university\", \"goole\", \"come\", \"major\", \"big\", \"term\", \"compare\", \"job\", \"know\", \"mexico\", \"city\", \"way\", \"good\", \"india\", \"play\", \"different\", \"give\", \"rank\", \"grammar\", \"node\", \"pressure\", \"mark\", \"fbi\", \"inform\", \"himalayan\", \"formula\", \"molecule\", \"graduation\", \"syria\", \"plastic\", \"test\", \"smartphone\", \"subtitle\", \"temperature\", \"cold\", \"journalism\", \"passport\", \"lymph\", \"garbage\", \"maheshwari\", \"lower\", \"implication\", \"volume\", \"alpha\", \"beta\", \"fda\", \"soccer\", \"form\", \"learn\", \"determine\", \"operation\", \"foot\", \"speed\", \"flat\", \"doctor\", \"english\", \"long\", \"charge\", \"stock\", \"blood\", \"good\", \"pro\", \"cup\", \"thing\", \"movie\", \"book\", \"watch\", \"way\", \"prepare\", \"app\", \"possible\", \"number\", \"file\", \"buy\", \"android\", \"start\"], \"Freq\": [78.0, 46.0, 43.0, 210.0, 26.0, 31.0, 36.0, 38.0, 21.0, 36.0, 33.0, 33.0, 16.0, 51.0, 20.0, 23.0, 25.0, 19.0, 47.0, 26.0, 32.0, 32.0, 21.0, 18.0, 16.0, 50.0, 28.0, 19.0, 15.0, 22.0, 6.9109954833984375, 5.199557304382324, 5.199557304382324, 5.199557304382324, 5.19914436340332, 4.340913772583008, 3.4897217750549316, 3.4890992641448975, 3.4886903762817383, 3.485224723815918, 3.4285976886749268, 2.633193254470825, 2.631476879119873, 2.6294610500335693, 2.6282854080200195, 2.627365827560425, 2.627119541168213, 2.625110626220703, 2.590404510498047, 5.089010715484619, 6.883256912231445, 6.757042407989502, 6.652291297912598, 1.7777832746505737, 1.7777835130691528, 1.7777835130691528, 1.7777835130691528, 1.7777835130691528, 1.7777832746505737, 1.7777835130691528, 1.7777832746505737, 3.4886913299560547, 8.433476448059082, 13.80593204498291, 6.780698776245117, 7.7639875411987305, 11.34823989868164, 18.885334014892578, 19.003814697265625, 5.803517818450928, 12.091974258422852, 14.466774940490723, 5.19851016998291, 5.196658134460449, 5.1744704246521, 10.1012601852417, 13.133792877197266, 8.982257843017578, 10.956978797912598, 9.065583229064941, 9.967507362365723, 6.054933547973633, 8.177206993103027, 13.54507827758789, 5.379317283630371, 5.930643081665039, 5.095510005950928, 5.093958377838135, 5.082059860229492, 4.258546829223633, 4.2564377784729, 8.417612075805664, 3.4210846424102783, 3.4194183349609375, 2.5815932750701904, 2.5815930366516113, 2.5811996459960938, 2.571484088897705, 2.566516399383545, 10.837507247924805, 7.598551273345947, 5.022708892822266, 6.774281024932861, 9.2174072265625, 56.50620651245117, 4.2580742835998535, 1.7430758476257324, 1.7430758476257324, 1.7430758476257324, 1.7430757284164429, 1.7430757284164429, 1.7430757284164429, 1.7430757284164429, 4.064815044403076, 1.7425696849822998, 1.7425696849822998, 1.7425696849822998, 3.3491933345794678, 6.7618913650512695, 5.099404811859131, 5.938238143920898, 5.830875396728516, 10.312283515930176, 3.4188857078552246, 5.153068542480469, 11.530830383300781, 6.767895698547363, 6.319182872772217, 9.764721870422363, 8.437775611877441, 4.246425628662109, 6.619535446166992, 7.646344184875488, 6.945499897003174, 6.260598182678223, 5.85062837600708, 5.594217777252197, 5.850318908691406, 5.365847587585449, 5.481750965118408, 5.519840717315674, 5.830158233642578, 17.63308334350586, 3.431178331375122, 3.4289636611938477, 6.797924995422363, 6.794197082519531, 2.589827299118042, 2.5644288063049316, 7.606169700622559, 7.589410781860352, 10.017560958862305, 7.874428749084473, 5.955742835998535, 1.7484771013259888, 1.7484771013259888, 1.7484771013259888, 1.7484771013259888, 1.7484771013259888, 1.7484771013259888, 1.7484771013259888, 1.7484771013259888, 1.7484771013259888, 1.7484771013259888, 1.7484771013259888, 1.7484771013259888, 1.7484771013259888, 1.748476505279541, 1.7484766244888306, 1.7484756708145142, 1.7484750747680664, 1.7479684352874756, 14.319233894348145, 15.35727310180664, 12.514371871948242, 11.562294006347656, 7.1647562980651855, 6.786336898803711, 10.458663940429688, 4.785747528076172, 2.5898258686065674, 2.5881149768829346, 2.590336799621582, 2.5886902809143066, 2.589829206466675, 2.5780975818634033, 5.032670974731445, 4.582026481628418, 6.750889301300049, 3.380701780319214, 9.239151000976562, 5.825316429138184, 26.69780921936035, 4.858758926391602, 10.227458953857422, 6.537525653839111, 5.99576997756958, 5.955533981323242, 5.113996505737305, 6.555671691894531, 4.808215618133545, 5.108198642730713, 3.431764841079712, 3.431309700012207, 2.591254949569702, 2.590747356414795, 2.5907440185546875, 2.5907442569732666, 2.590456485748291, 2.589498519897461, 2.587334156036377, 7.304913520812988, 1.749097228050232, 1.749097228050232, 1.749097228050232, 1.749097228050232, 1.749097228050232, 1.749097228050232, 1.7490969896316528, 1.749097228050232, 1.749097228050232, 1.749097228050232, 1.749097228050232, 1.749097228050232, 1.7490969896316528, 1.749097228050232, 1.749097228050232, 1.749097228050232, 1.749097228050232, 1.749097228050232, 1.749097228050232, 21.697153091430664, 1.749097228050232, 4.273414611816406, 6.618885040283203, 5.614907264709473, 3.233997106552124, 12.814413070678711, 6.076508522033691, 14.52816104888916, 3.435415506362915, 2.590747594833374, 2.589608669281006, 2.591254949569702, 2.5912554264068604, 16.18442726135254, 6.80697774887085, 11.782690048217773, 36.967403411865234, 3.424410104751587, 4.881576061248779, 9.000715255737305, 7.744545936584473, 4.840632438659668, 4.90394401550293, 4.826031684875488, 5.921060562133789, 5.796741962432861, 6.605602741241455, 4.870477676391602, 3.4212119579315186, 4.027127265930176, 5.0626373291015625, 5.521938323974609, 4.239753723144531, 3.8471176624298096, 3.437091112136841, 26.172401428222656, 20.280725479125977, 8.498793601989746, 9.889789581298828, 6.808516502380371, 6.808032989501953, 3.4387214183807373, 3.4382126331329346, 3.4382126331329346, 3.4372103214263916, 3.4013288021087646, 6.705159664154053, 2.5952610969543457, 2.5952610969543457, 2.594752788543701, 2.594752788543701, 2.594752788543701, 2.59451961517334, 2.594242572784424, 2.5940639972686768, 2.5936973094940186, 2.592538356781006, 4.2741618156433105, 4.276541709899902, 1.7518013715744019, 1.7518013715744019, 1.7518013715744019, 1.7518013715744019, 1.7518013715744019, 1.751801609992981, 3.437704563140869, 5.076331615447998, 4.274319171905518, 4.274319171905518, 6.014045715332031, 7.307537078857422, 8.152125358581543, 6.587564468383789, 5.07306432723999, 8.191448211669922, 9.084994316101074, 4.279397487640381, 4.259334087371826, 4.224407196044922, 11.49560260772705, 10.237786293029785, 9.199138641357422, 12.607956886291504, 7.8911662101745605, 5.718560695648193, 5.421180725097656, 7.505016326904297, 5.389959335327148, 5.326468467712402, 4.82794189453125, 5.100640773773193, 43.73381042480469, 10.736042022705078, 5.873443126678467, 5.043311595916748, 5.043262958526611, 9.183672904968262, 4.212841033935547, 4.114896774291992, 3.385066032409668, 3.384565830230713, 3.3834421634674072, 3.3834421634674072, 3.382249355316162, 5.874963760375977, 5.765115737915039, 2.55476713180542, 2.55476713180542, 2.5542662143707275, 2.5542664527893066, 2.5542664527893066, 2.5534698963165283, 2.5531435012817383, 2.5517091751098633, 2.5478293895721436, 5.839059829711914, 1.7244679927825928, 1.7244679927825928, 1.7244679927825928, 1.7244677543640137, 1.7244679927825928, 1.7244679927825928, 1.7244679927825928, 5.043828010559082, 3.3812055587768555, 14.636259078979492, 1.7244679927825928, 10.75546646118164, 7.221232891082764, 11.76716423034668, 5.006314277648926, 7.132027626037598, 5.874503135681152, 7.5168280601501465, 5.859188079833984, 6.067549705505371, 5.55336856842041, 4.214869499206543, 6.40431022644043, 6.447710037231445, 15.60783576965332, 7.649496555328369, 7.520330905914307, 5.874909400939941, 5.234758377075195, 5.275265216827393, 4.934842586517334, 5.5630035400390625, 9.401055335998535, 4.320519924163818, 3.47111439704895, 3.468026876449585, 2.620096445083618, 2.6195828914642334, 2.6195828914642334, 2.6195828914642334, 2.6195828914642334, 2.6195828914642334, 2.6193294525146484, 2.6193294525146484, 2.6192712783813477, 2.6192166805267334, 2.6189446449279785, 2.618431568145752, 2.6084365844726562, 2.6040024757385254, 13.374028205871582, 1.76856529712677, 1.76856529712677, 1.7685651779174805, 1.7685651779174805, 1.7685651779174805, 1.76856529712677, 1.76856529712677, 1.76856529712677, 1.7685649394989014, 1.76856529712677, 1.7685651779174805, 1.76856529712677, 1.76856529712677, 5.172168731689453, 5.174576282501221, 3.4711170196533203, 3.4689505100250244, 3.453876256942749, 12.544366836547852, 6.000953197479248, 5.168650150299072, 4.996459007263184, 6.024446487426758, 5.172102928161621, 7.329512119293213, 6.561758995056152, 9.659249305725098, 7.335678577423096, 9.943624496459961, 5.318990707397461, 5.335870742797852, 3.4645166397094727, 6.015044689178467, 8.499963760375977, 17.463605880737305, 7.170960426330566, 6.031836032867432, 5.720587253570557, 6.9399309158325195, 7.080656051635742, 5.164256572723389, 5.054550647735596, 4.977859020233154, 4.093506813049316, 5.5377421379089355, 4.402575969696045, 5.931545734405518, 4.267550468444824, 4.25685453414917, 2.5913479328155518, 2.590332269668579, 2.5891387462615967, 2.5891385078430176, 2.588630437850952, 2.5886120796203613, 2.5676395893096924, 5.087925434112549, 6.460261344909668, 1.7491599321365356, 1.7491599321365356, 1.7491599321365356, 1.7491601705551147, 1.7491601705551147, 1.7491599321365356, 1.7491601705551147, 1.7491599321365356, 1.7491599321365356, 1.7491599321365356, 1.7491599321365356, 1.7491583824157715, 1.7491570711135864, 1.7486519813537598, 1.7486519813537598, 1.7486519813537598, 1.7486519813537598, 1.7486519813537598, 5.100086688995361, 3.4243361949920654, 22.197532653808594, 3.373727798461914, 6.794491767883301, 3.3226425647735596, 10.755474090576172, 5.946289539337158, 8.953389167785645, 10.00129222869873, 2.5913491249084473, 5.655647277832031, 4.249483585357666, 4.254061698913574, 3.9245543479919434, 2.549529552459717, 4.2080206871032715, 4.771525859832764, 6.769076347351074, 38.64507293701172, 5.091833114624023, 6.7995758056640625, 9.62316608428955, 5.275845050811768, 8.618856430053711, 5.11490535736084, 4.808261871337891, 6.211699485778809, 5.545009613037109, 4.274631977081299, 4.664262771606445, 5.171666145324707, 4.589883327484131, 4.6490478515625, 5.152402877807617, 4.2824811935424805, 3.453927755355835, 2.609070301055908, 2.6085591316223145, 2.608558416366577, 2.6085588932037354, 2.6085591316223145, 2.6082310676574707, 2.6062653064727783, 2.60512375831604, 2.6029140949249268, 4.303833961486816, 6.743186950683594, 8.425604820251465, 1.761122465133667, 1.761122465133667, 1.7611225843429565, 1.7611225843429565, 1.761122465133667, 1.7611225843429565, 1.761122226715088, 1.761122226715088, 1.761122226715088, 1.761122226715088, 1.7611216306686401, 1.7606110572814941, 1.7606110572814941, 1.7606110572814941, 1.7606110572814941, 5.801863193511963, 3.456507682800293, 3.4570178985595703, 3.456507921218872, 3.456505298614502, 3.4565072059631348, 21.452247619628906, 5.150203227996826, 8.133245468139648, 5.150667667388916, 3.442878246307373, 2.6083943843841553, 2.6074130535125732, 2.60856032371521, 2.5930440425872803, 6.764822006225586, 6.795380115509033, 9.386033058166504, 17.91927146911621, 11.851486206054688, 8.983941078186035, 5.118206977844238, 9.430641174316406, 5.158102512359619, 7.139394760131836, 3.455993890762329, 5.152405738830566, 5.042113780975342, 4.141211986541748, 8.521193504333496, 5.523886680603027, 4.109364032745361, 3.639307737350464, 3.6367292404174805, 3.457019329071045, 8.616409301757812, 5.198515892028809, 4.253101825714111, 6.365878582000732, 3.4890809059143066, 3.4879443645477295, 3.487030506134033, 3.487030506134033, 3.45192289352417, 3.3425941467285156, 2.6315927505493164, 2.6311450004577637, 2.622722625732422, 6.365879058837891, 4.325232028961182, 2.396920680999756, 1.7774564027786255, 1.7774564027786255, 1.7774564027786255, 1.7774564027786255, 1.7774564027786255, 1.7774564027786255, 1.7774564027786255, 1.7774564027786255, 1.7774561643600464, 1.7774560451507568, 1.7774561643600464, 1.7774561643600464, 1.7774561643600464, 1.7774560451507568, 3.488459825515747, 3.484581232070923, 5.447921276092529, 5.656391143798828, 5.975561618804932, 3.478020191192627, 2.6310009956359863, 2.6305079460144043, 4.7064080238342285, 8.1768798828125, 9.761689186096191, 4.259089469909668, 14.209382057189941, 7.141689777374268, 6.366452217102051, 5.164504528045654, 4.939982891082764, 7.212120532989502, 7.6004252433776855, 9.066743850708008, 6.168437957763672, 6.043812274932861, 4.972936630249023, 4.5791335105896, 4.343184947967529, 4.374283790588379, 4.066618919372559, 4.511960506439209, 4.203091144561768, 4.362337589263916, 16.029449462890625, 8.393112182617188, 9.647529602050781, 4.2680583000183105, 11.76618766784668, 2.5900368690490723, 2.5900380611419678, 2.590038299560547, 2.590038537979126, 2.589909553527832, 2.5895307064056396, 2.589407444000244, 2.5891432762145996, 2.5810225009918213, 9.269377708435059, 4.2736334800720215, 4.270339012145996, 12.183653831481934, 5.957751274108887, 21.97926902770996, 4.13447380065918, 1.748618721961975, 1.748618721961975, 1.748618721961975, 1.7486183643341064, 1.748618245124817, 1.7486183643341064, 1.7486176490783691, 1.7481107711791992, 1.7481107711791992, 1.7481107711791992, 1.7481107711791992, 8.447097778320312, 5.111234188079834, 5.774895191192627, 11.245789527893066, 3.4229960441589355, 2.590545892715454, 2.588899612426758, 3.2542197704315186, 4.2175517082214355, 3.43247652053833, 7.8110032081604, 8.297062873840332, 4.2719950675964355, 4.42006254196167, 3.9334206581115723, 6.769268989562988, 3.3721063137054443, 3.4134178161621094, 5.316636085510254, 4.145253658294678, 4.234305381774902, 4.1516337394714355, 3.461268663406372, 3.4314582347869873, 9.05736255645752, 5.0624918937683105, 4.2324748039245605, 3.39805269241333, 3.3971550464630127, 3.38517165184021, 2.5649380683898926, 2.564938545227051, 2.563906669616699, 2.562126398086548, 2.561561107635498, 2.5596022605895996, 2.5596022605895996, 9.624032974243164, 1.731672763824463, 1.731672763824463, 1.7316728830337524, 1.731672763824463, 1.731672763824463, 1.731672763824463, 1.7316728830337524, 1.7316728830337524, 1.7316728830337524, 1.7316728830337524, 1.7316728830337524, 1.731672763824463, 1.7316725254058838, 1.731672763824463, 1.7316728830337524, 1.731672763824463, 2.87026309967041, 6.733279705047607, 3.398707866668701, 3.3992106914520264, 4.230198860168457, 6.732275485992432, 7.721813201904297, 7.539816379547119, 4.23135232925415, 5.897026062011719, 18.289472579956055, 2.5654430389404297, 2.5649402141571045, 2.5643138885498047, 2.562077283859253, 2.550327777862549, 4.230559349060059, 6.523524761199951, 5.900041580200195, 6.119319438934326, 5.9459333419799805, 5.030202865600586, 4.229006290435791, 5.790339946746826, 6.367298603057861, 6.535133361816406, 3.2800965309143066, 4.232887268066406, 5.700135707855225, 8.045802116394043, 4.824051380157471, 3.5825507640838623, 3.6150009632110596, 3.4630308151245117, 5.909018516540527, 3.4080045223236084, 3.4075005054473877, 3.396009922027588, 5.914521217346191, 2.571955442428589, 2.571955442428589, 2.571451425552368, 2.568065881729126, 2.5668036937713623, 2.566044330596924, 2.565473794937134, 2.56372332572937, 8.223149299621582, 1.7364102602005005, 1.7364102602005005, 1.7364102602005005, 1.7364102602005005, 1.736410140991211, 1.7359061241149902, 1.7359061241149902, 1.7359061241149902, 1.7359061241149902, 1.7359061241149902, 1.7359061241149902, 1.7359061241149902, 1.7359061241149902, 1.7359061241149902, 1.7359061241149902, 1.7359061241149902, 4.571479797363281, 27.91735076904297, 3.39902663230896, 3.097010850906372, 3.4085114002227783, 5.049813270568848, 2.572460174560547, 2.5220916271209717, 5.903598308563232, 6.752384185791016, 4.243797779083252, 3.408006191253662, 4.145218849182129, 31.544185638427734, 4.029878616333008, 2.3864219188690186, 6.843630313873291, 7.452810287475586, 5.4982452392578125, 4.240739822387695, 6.118216514587402, 3.7835097312927246, 4.382246494293213, 4.13969612121582, 4.243429660797119, 3.347332239151001, 4.251925468444824, 3.5320231914520264, 3.5168039798736572], \"Total\": [78.0, 46.0, 43.0, 210.0, 26.0, 31.0, 36.0, 38.0, 21.0, 36.0, 33.0, 33.0, 16.0, 51.0, 20.0, 23.0, 25.0, 19.0, 47.0, 26.0, 32.0, 32.0, 21.0, 18.0, 16.0, 50.0, 28.0, 19.0, 15.0, 22.0, 7.690962314605713, 5.979029655456543, 5.979029655456543, 5.979029655456543, 5.979006290435791, 5.122996807098389, 4.267127513885498, 4.267117977142334, 4.267106533050537, 4.267053604125977, 4.265935897827148, 3.4111487865448, 3.411125421524048, 3.411088466644287, 3.4110922813415527, 3.411054849624634, 3.4109585285186768, 3.4110817909240723, 3.4104559421539307, 6.822273254394531, 9.393824577331543, 9.393197059631348, 9.36453914642334, 2.555187940597534, 2.5551881790161133, 2.5551881790161133, 2.5551881790161133, 2.5551881790161133, 2.555187940597534, 2.5551881790161133, 2.555187940597534, 5.1089606285095215, 12.744271278381348, 21.317399978637695, 10.197267532348633, 11.902503967285156, 18.717384338378906, 33.164306640625, 36.56502151489258, 9.360614776611328, 23.80341911315918, 31.315462112426758, 8.52132797241211, 8.51742172241211, 8.508726119995117, 22.076236724853516, 39.07291030883789, 25.44664192199707, 40.55875015258789, 27.94676971435547, 33.884368896484375, 12.720048904418945, 32.946353912353516, 210.5089111328125, 22.790834426879883, 6.718118667602539, 5.878754138946533, 5.878820419311523, 5.878840446472168, 5.0395588874816895, 5.039582252502441, 10.078178405761719, 4.200281143188477, 4.200312614440918, 3.361032485961914, 3.361032247543335, 3.3610305786132812, 3.3610777854919434, 3.3610739707946777, 14.274317741394043, 10.078557968139648, 6.736233234405518, 9.224833488464355, 12.577001571655273, 78.1185302734375, 5.887526988983154, 2.521765947341919, 2.521765947341919, 2.521765947341919, 2.521765947341919, 2.521765947341919, 2.521765947341919, 2.521765947341919, 5.882092475891113, 2.5217676162719727, 2.5217676162719727, 2.5217676162719727, 5.049593925476074, 10.950302124023438, 8.405106544494629, 10.119803428649902, 10.087199211120605, 23.485692977905273, 5.894044399261475, 10.076894760131836, 28.60721206665039, 15.933411598205566, 16.890390396118164, 40.55875015258789, 34.54800033569336, 9.297459602355957, 25.219783782958984, 40.48644256591797, 32.20283126831055, 26.294246673583984, 22.790834426879883, 20.154951095581055, 30.322797775268555, 27.762554168701172, 33.884368896484375, 47.361732482910156, 210.5089111328125, 20.227432250976562, 4.210698127746582, 4.210730075836182, 8.42030143737793, 8.4200439453125, 3.368826389312744, 3.368908405303955, 10.089999198913574, 10.101201057434082, 13.462932586669922, 10.948335647583008, 8.420576095581055, 2.5269672870635986, 2.5269672870635986, 2.5269672870635986, 2.5269672870635986, 2.5269672870635986, 2.5269672870635986, 2.5269672870635986, 2.5269672870635986, 2.5269672870635986, 2.5269672870635986, 2.5269672870635986, 2.5269672870635986, 2.5269672870635986, 2.5269670486450195, 2.5269672870635986, 2.5269672870635986, 2.5269670486450195, 2.5269620418548584, 21.943546295166016, 26.113798141479492, 22.756214141845703, 21.85701560974121, 13.451035499572754, 12.62820053100586, 25.246212005615234, 9.281349182128906, 4.199127197265625, 4.202597618103027, 4.2167744636535645, 4.220360279083252, 4.22479772567749, 4.210989475250244, 10.949408531188965, 10.101957321166992, 17.73373031616211, 6.71884298324585, 33.6724853515625, 16.062360763549805, 210.5089111328125, 12.619379997253418, 50.444114685058594, 22.790834426879883, 20.154951095581055, 20.344789505004883, 17.709041595458984, 39.07291030883789, 18.482885360717773, 5.896162986755371, 4.211888313293457, 4.2119011878967285, 3.3697221279144287, 3.369720697402954, 3.3697221279144287, 3.369722843170166, 3.3697235584259033, 3.369734525680542, 3.369683265686035, 10.106050491333008, 2.527564287185669, 2.527564287185669, 2.527564287185669, 2.527564287185669, 2.527564287185669, 2.527564287185669, 2.52756404876709, 2.527564287185669, 2.527564287185669, 2.527564287185669, 2.527564287185669, 2.527564287185669, 2.52756404876709, 2.527564287185669, 2.527564287185669, 2.527564287185669, 2.527564287185669, 2.527564287185669, 2.527564287185669, 33.80620574951172, 2.527564287185669, 6.736759185791016, 10.964049339294434, 9.263724327087402, 5.054662227630615, 25.44664192199707, 11.001365661621094, 32.91419219970703, 5.879502773284912, 4.205771446228027, 4.208984851837158, 4.21766996383667, 4.225534915924072, 50.444114685058594, 16.073650360107422, 36.56502151489258, 210.5089111328125, 6.763630390167236, 11.824642181396484, 32.863250732421875, 28.60721206665039, 12.5769624710083, 15.191407203674316, 15.097088813781738, 27.089143753051758, 31.181697845458984, 47.361732482910156, 20.234128952026367, 7.556987762451172, 12.623961448669434, 26.294246673583984, 40.48644256591797, 21.317399978637695, 26.113798141479492, 10.980727195739746, 26.990524291992188, 21.086334228515625, 9.277847290039062, 10.966596603393555, 7.590926647186279, 7.590935230255127, 4.21708869934082, 4.217095851898193, 4.217095851898193, 4.2170915603637695, 4.217282295227051, 8.433100700378418, 3.3736281394958496, 3.3736281394958496, 3.3736205101013184, 3.373624086380005, 3.373624086380005, 3.3736395835876465, 3.373636245727539, 3.373621702194214, 3.373643159866333, 3.3736250400543213, 5.896633148193359, 5.908474445343018, 2.530168294906616, 2.530168294906616, 2.530168294906616, 2.530168294906616, 2.530168294906616, 2.5301685333251953, 5.059246063232422, 7.615180492401123, 6.772569179534912, 6.772569179534912, 10.977628707885742, 14.308833122253418, 16.843215942382812, 12.71035385131836, 9.285445213317871, 21.135982513427734, 25.219783782958984, 7.610229969024658, 7.614995956420898, 7.5921406745910645, 40.48644256591797, 33.6724853515625, 32.863250732421875, 78.1185302734375, 32.946353912353516, 16.81627655029297, 15.263118743896484, 51.426063537597656, 17.739593505859375, 40.55875015258789, 28.60721206665039, 65.9115982055664, 46.54598617553711, 11.638833045959473, 6.655388355255127, 5.825082778930664, 5.825081825256348, 10.816041946411133, 4.994778633117676, 4.996160984039307, 4.164445877075195, 4.164448261260986, 4.164483070373535, 4.164495944976807, 4.164484024047852, 7.491423606872559, 7.499290466308594, 3.334146499633789, 3.334146738052368, 3.334148645401001, 3.3341619968414307, 3.3341619968414307, 3.3341705799102783, 3.334177255630493, 3.334178924560547, 3.334244966506958, 8.341571807861328, 2.503847360610962, 2.503847360610962, 2.503847360610962, 2.503847122192383, 2.503847360610962, 2.503847360610962, 2.503847360610962, 7.504575252532959, 5.016030788421631, 23.438671112060547, 2.503847360610962, 17.580751419067383, 11.703390121459961, 20.060171127319336, 8.353028297424316, 14.22800350189209, 10.828817367553711, 19.26577377319336, 13.393075942993164, 15.11543083190918, 13.433736801147461, 8.360245704650879, 19.31683349609375, 20.150894165039062, 210.5089111328125, 38.77629852294922, 38.75704574584961, 23.493993759155273, 23.485692977905273, 31.315462112426758, 19.253774642944336, 65.9115982055664, 11.065568923950195, 5.1008830070495605, 4.2493767738342285, 4.249332904815674, 3.3978426456451416, 3.3978352546691895, 3.397836923599243, 3.3978381156921387, 3.3978381156921387, 3.3978452682495117, 3.397831678390503, 3.397831678390503, 3.3978469371795654, 3.3978264331817627, 3.3978140354156494, 3.397832155227661, 3.3977110385894775, 3.397611141204834, 18.644994735717773, 2.546311378479004, 2.546311378479004, 2.546311140060425, 2.546311140060425, 2.546311140060425, 2.546311378479004, 2.546311378479004, 2.546311378479004, 2.546311140060425, 2.546311378479004, 2.546311140060425, 2.546311378479004, 2.546311378479004, 7.630319118499756, 7.63936185836792, 5.0912275314331055, 5.09281587600708, 5.0913777351379395, 19.561439514160156, 9.335363388061523, 8.498047828674316, 8.49695110321045, 11.01932430267334, 9.311767578125, 16.890390396118164, 16.10972785949707, 32.20283126831055, 20.344789505004883, 39.07291030883789, 12.695815086364746, 13.614788055419922, 5.936225891113281, 18.576030731201172, 43.70052719116211, 210.5089111328125, 32.91419219970703, 23.438671112060547, 21.135982513427734, 40.48644256591797, 65.9115982055664, 21.975997924804688, 20.312774658203125, 20.244230270385742, 10.104293823242188, 51.426063537597656, 16.062360763549805, 6.738623142242432, 5.054114818572998, 5.0544843673706055, 3.3698127269744873, 3.3698267936706543, 3.369781494140625, 3.369781732559204, 3.369774341583252, 3.3697869777679443, 3.3694777488708496, 6.752343654632568, 9.262904167175293, 2.5276246070861816, 2.5276246070861816, 2.5276246070861816, 2.5276248455047607, 2.5276248455047607, 2.5276246070861816, 2.5276248455047607, 2.5276246070861816, 2.5276246070861816, 2.5276246070861816, 2.5276246070861816, 2.5276246070861816, 2.5276246070861816, 2.5276174545288086, 2.527620792388916, 2.527622938156128, 2.527622938156128, 2.527622938156128, 7.582186222076416, 5.054306983947754, 36.32088088989258, 5.053844928741455, 10.959639549255371, 5.053778648376465, 19.26577377319336, 10.1085844039917, 17.679208755493164, 20.244230270385742, 4.200112342834473, 11.783995628356934, 8.405824661254883, 8.445971488952637, 7.5851521492004395, 4.211343765258789, 8.43303394317627, 10.088615417480469, 16.843215942382812, 210.5089111328125, 12.673755645751953, 22.637962341308594, 47.361732482910156, 14.22800350189209, 40.55875015258789, 14.286853790283203, 13.393075942993164, 25.277647018432617, 33.6724853515625, 12.665563583374023, 18.576030731201172, 38.77629852294922, 20.329660415649414, 78.1185302734375, 5.930932998657227, 5.082834243774414, 4.235037326812744, 3.387091875076294, 3.3870816230773926, 3.3870837688446045, 3.3870849609375, 3.3870885372161865, 3.3870999813079834, 3.387101411819458, 3.3871090412139893, 3.3870303630828857, 5.9389519691467285, 9.319674491882324, 11.868803977966309, 2.5391440391540527, 2.5391440391540527, 2.5391440391540527, 2.5391440391540527, 2.5391440391540527, 2.5391440391540527, 2.5391440391540527, 2.5391440391540527, 2.5391440391540527, 2.5391440391540527, 2.5391440391540527, 2.5391335487365723, 2.5391335487365723, 2.5391335487365723, 2.5391335487365723, 8.461803436279297, 5.071085453033447, 5.07429838180542, 5.0771894454956055, 5.078492641448975, 5.090846538543701, 38.77629852294922, 8.450695991516113, 15.229670524597168, 9.269368171691895, 5.916083335876465, 4.22314453125, 4.229231834411621, 4.23861837387085, 4.226418972015381, 15.189497947692871, 16.09720230102539, 25.3898983001709, 65.9115982055664, 38.75704574584961, 27.089143753051758, 11.005524635314941, 34.54800033569336, 13.53321361541748, 27.94676971435547, 6.788815021514893, 18.510046005249023, 19.378585815429688, 11.840628623962402, 210.5089111328125, 51.426063537597656, 15.191407203674316, 11.840399742126465, 43.70052719116211, 8.445971488952637, 9.401290893554688, 5.978085994720459, 5.120846748352051, 7.684717178344727, 4.266497611999512, 4.266472816467285, 4.2664570808410645, 4.2664570808410645, 4.266104698181152, 4.264380931854248, 3.410679817199707, 3.410651445388794, 3.4105331897735596, 8.523975372314453, 5.9640302658081055, 3.408534526824951, 2.554872989654541, 2.554872989654541, 2.554872989654541, 2.554872989654541, 2.554872989654541, 2.554872989654541, 2.554872989654541, 2.554872989654541, 2.554872989654541, 2.554872989654541, 2.554872989654541, 2.554872989654541, 2.554872989654541, 2.554872989654541, 5.102546691894531, 5.100257873535156, 9.351902961730957, 10.211974143981934, 11.037222862243652, 5.938475608825684, 4.25250768661499, 4.25412130355835, 9.329946517944336, 20.329660415649414, 26.294246673583984, 8.516745567321777, 47.361732482910156, 18.592308044433594, 20.312774658203125, 14.400278091430664, 13.547141075134277, 32.20283126831055, 36.32088088989258, 65.9115982055664, 33.884368896484375, 33.80620574951172, 21.975997924804688, 16.126371383666992, 13.5075101852417, 15.263118743896484, 10.15970230102539, 20.234128952026367, 14.357407569885254, 22.076236724853516, 16.839929580688477, 9.262877464294434, 10.942889213562012, 5.052870750427246, 15.152999877929688, 3.3690319061279297, 3.369034767150879, 3.3690345287323, 3.36903977394104, 3.3690311908721924, 3.369034767150879, 3.369030714035034, 3.3690319061279297, 3.36893892288208, 12.616019248962402, 5.895043849945068, 5.892197132110596, 16.875755310058594, 8.426885604858398, 31.181697845458984, 5.911002159118652, 2.5271036624908447, 2.5271036624908447, 2.5271036624908447, 2.5271031856536865, 2.5271034240722656, 2.5271031856536865, 2.5271031856536865, 2.527101755142212, 2.527101755142212, 2.527101755142212, 2.527101755142212, 13.470291137695312, 8.434554100036621, 10.092434883117676, 25.277647018432617, 5.90053653717041, 4.216978549957275, 4.22498083114624, 5.895259380340576, 8.436577796936035, 6.764771461486816, 27.762554168701172, 33.164306640625, 10.104475021362305, 11.840399742126465, 9.3065185546875, 38.75704574584961, 6.73442268371582, 7.568240165710449, 32.20283126831055, 16.0006160736084, 25.219783782958984, 51.426063537597656, 23.493993759155273, 14.237640380859375, 10.01685619354248, 5.845879554748535, 5.01210355758667, 4.178338050842285, 4.178330898284912, 4.1782636642456055, 3.3445587158203125, 3.344562530517578, 3.344569444656372, 3.3445687294006348, 3.344592809677124, 3.344614267349243, 3.344614267349243, 13.398258209228516, 2.5107853412628174, 2.5107853412628174, 2.5107853412628174, 2.5107853412628174, 2.5107853412628174, 2.5107853412628174, 2.5107853412628174, 2.5107853412628174, 2.5107853412628174, 2.5107853412628174, 2.5107853412628174, 2.5107853412628174, 2.5107853412628174, 2.5107853412628174, 2.5107853412628174, 2.5107853412628174, 4.183652400970459, 10.043791770935059, 5.008634567260742, 5.020249843597412, 6.710246562957764, 11.711312294006348, 14.22634506225586, 14.237640380859375, 7.550158977508545, 11.736790657043457, 51.426063537597656, 4.180603504180908, 4.186486721038818, 4.1925153732299805, 4.200563430786133, 4.180900573730469, 9.214237213134766, 18.592308044433594, 15.933411598205566, 18.510046005249023, 20.312774658203125, 15.983539581298828, 10.934673309326172, 23.493993759155273, 30.322797775268555, 34.54800033569336, 6.722438335418701, 14.291620254516602, 50.444114685058594, 210.5089111328125, 65.9115982055664, 10.926423072814941, 20.234128952026367, 13.478937149047852, 6.695723533630371, 4.187447547912598, 4.187448978424072, 4.187672138214111, 7.537773132324219, 3.3513987064361572, 3.351400375366211, 3.3513989448547363, 3.3514273166656494, 3.3514506816864014, 3.351452350616455, 3.351520299911499, 3.3514466285705566, 10.91292667388916, 2.5153472423553467, 2.5153472423553467, 2.5153472423553467, 2.5153472423553467, 2.5153472423553467, 2.5153439044952393, 2.515346050262451, 2.515350818634033, 2.5153510570526123, 2.5153510570526123, 2.5153510570526123, 2.5153510570526123, 2.5153512954711914, 2.5153512954711914, 2.515350818634033, 2.515354633331299, 6.688433647155762, 43.70052719116211, 5.0296735763549805, 5.039822578430176, 5.863073825836182, 10.114748001098633, 4.20720911026001, 4.193289756774902, 13.446134567260742, 17.594175338745117, 9.198500633239746, 6.722826957702637, 9.248260498046875, 210.5089111328125, 9.24039077758789, 4.194926738739014, 27.762554168701172, 32.863250732421875, 21.975997924804688, 13.453478813171387, 50.444114685058594, 11.839092254638672, 22.756214141845703, 20.150894165039062, 22.637962341308594, 9.30520248413086, 25.246212005615234, 14.357407569885254, 32.91419219970703], \"Category\": [\"Default\", \"Default\", \"Default\", \"Default\", \"Default\", \"Default\", \"Default\", \"Default\", \"Default\", \"Default\", \"Default\", \"Default\", \"Default\", \"Default\", \"Default\", \"Default\", \"Default\", \"Default\", \"Default\", \"Default\", \"Default\", \"Default\", \"Default\", \"Default\", \"Default\", \"Default\", \"Default\", \"Default\", \"Default\", \"Default\", \"Topic1\", \"Topic1\", \"Topic1\", \"Topic1\", \"Topic1\", \"Topic1\", \"Topic1\", \"Topic1\", \"Topic1\", \"Topic1\", \"Topic1\", \"Topic1\", \"Topic1\", \"Topic1\", \"Topic1\", \"Topic1\", \"Topic1\", \"Topic1\", \"Topic1\", \"Topic1\", \"Topic1\", \"Topic1\", \"Topic1\", \"Topic1\", \"Topic1\", \"Topic1\", \"Topic1\", \"Topic1\", \"Topic1\", \"Topic1\", \"Topic1\", \"Topic1\", \"Topic1\", \"Topic1\", \"Topic1\", \"Topic1\", \"Topic1\", \"Topic1\", \"Topic1\", \"Topic1\", \"Topic1\", \"Topic1\", \"Topic1\", \"Topic1\", \"Topic1\", \"Topic1\", \"Topic1\", \"Topic1\", \"Topic1\", \"Topic1\", \"Topic1\", \"Topic1\", \"Topic1\", \"Topic1\", \"Topic1\", \"Topic2\", \"Topic2\", \"Topic2\", \"Topic2\", \"Topic2\", \"Topic2\", \"Topic2\", \"Topic2\", \"Topic2\", \"Topic2\", \"Topic2\", \"Topic2\", \"Topic2\", \"Topic2\", \"Topic2\", \"Topic2\", \"Topic2\", \"Topic2\", \"Topic2\", \"Topic2\", \"Topic2\", \"Topic2\", \"Topic2\", \"Topic2\", \"Topic2\", \"Topic2\", \"Topic2\", \"Topic2\", \"Topic2\", \"Topic2\", \"Topic2\", \"Topic2\", \"Topic2\", \"Topic2\", \"Topic2\", \"Topic2\", \"Topic2\", \"Topic2\", \"Topic2\", \"Topic2\", \"Topic2\", \"Topic2\", \"Topic2\", \"Topic2\", \"Topic2\", \"Topic2\", \"Topic2\", \"Topic2\", \"Topic2\", \"Topic2\", \"Topic2\", \"Topic2\", \"Topic2\", \"Topic2\", \"Topic2\", \"Topic2\", \"Topic2\", \"Topic3\", \"Topic3\", \"Topic3\", \"Topic3\", \"Topic3\", \"Topic3\", \"Topic3\", \"Topic3\", \"Topic3\", \"Topic3\", \"Topic3\", \"Topic3\", \"Topic3\", \"Topic3\", \"Topic3\", \"Topic3\", \"Topic3\", \"Topic3\", \"Topic3\", \"Topic3\", \"Topic3\", \"Topic3\", \"Topic3\", \"Topic3\", \"Topic3\", \"Topic3\", \"Topic3\", \"Topic3\", \"Topic3\", \"Topic3\", \"Topic3\", \"Topic3\", \"Topic3\", \"Topic3\", \"Topic3\", \"Topic3\", \"Topic3\", \"Topic3\", \"Topic3\", \"Topic3\", \"Topic3\", \"Topic3\", \"Topic3\", \"Topic3\", \"Topic3\", \"Topic3\", \"Topic3\", \"Topic3\", \"Topic3\", \"Topic3\", \"Topic3\", \"Topic3\", \"Topic3\", \"Topic3\", \"Topic3\", \"Topic3\", \"Topic3\", \"Topic3\", \"Topic3\", \"Topic4\", \"Topic4\", \"Topic4\", \"Topic4\", \"Topic4\", \"Topic4\", \"Topic4\", \"Topic4\", \"Topic4\", \"Topic4\", \"Topic4\", \"Topic4\", \"Topic4\", \"Topic4\", \"Topic4\", \"Topic4\", \"Topic4\", \"Topic4\", \"Topic4\", \"Topic4\", \"Topic4\", \"Topic4\", \"Topic4\", \"Topic4\", \"Topic4\", \"Topic4\", \"Topic4\", \"Topic4\", \"Topic4\", \"Topic4\", \"Topic4\", \"Topic4\", \"Topic4\", \"Topic4\", \"Topic4\", \"Topic4\", \"Topic4\", \"Topic4\", \"Topic4\", \"Topic4\", \"Topic4\", \"Topic4\", \"Topic4\", \"Topic4\", \"Topic4\", \"Topic4\", \"Topic4\", \"Topic4\", \"Topic4\", \"Topic4\", \"Topic4\", \"Topic4\", \"Topic4\", \"Topic4\", \"Topic4\", \"Topic4\", \"Topic4\", \"Topic4\", \"Topic4\", \"Topic4\", \"Topic4\", \"Topic4\", \"Topic4\", \"Topic4\", \"Topic4\", \"Topic4\", \"Topic5\", \"Topic5\", \"Topic5\", \"Topic5\", \"Topic5\", \"Topic5\", \"Topic5\", \"Topic5\", \"Topic5\", \"Topic5\", \"Topic5\", \"Topic5\", \"Topic5\", \"Topic5\", \"Topic5\", \"Topic5\", \"Topic5\", \"Topic5\", \"Topic5\", \"Topic5\", \"Topic5\", \"Topic5\", \"Topic5\", \"Topic5\", \"Topic5\", \"Topic5\", \"Topic5\", \"Topic5\", \"Topic5\", \"Topic5\", \"Topic5\", \"Topic5\", \"Topic5\", \"Topic5\", \"Topic5\", \"Topic5\", \"Topic5\", \"Topic5\", \"Topic5\", \"Topic5\", \"Topic5\", \"Topic5\", \"Topic5\", \"Topic5\", \"Topic5\", \"Topic5\", \"Topic5\", \"Topic5\", \"Topic5\", \"Topic5\", \"Topic5\", \"Topic5\", \"Topic5\", \"Topic5\", \"Topic5\", \"Topic5\", \"Topic6\", \"Topic6\", \"Topic6\", \"Topic6\", \"Topic6\", \"Topic6\", \"Topic6\", \"Topic6\", \"Topic6\", \"Topic6\", \"Topic6\", \"Topic6\", \"Topic6\", \"Topic6\", \"Topic6\", \"Topic6\", \"Topic6\", \"Topic6\", \"Topic6\", \"Topic6\", \"Topic6\", \"Topic6\", \"Topic6\", \"Topic6\", \"Topic6\", \"Topic6\", \"Topic6\", \"Topic6\", \"Topic6\", \"Topic6\", \"Topic6\", \"Topic6\", \"Topic6\", \"Topic6\", \"Topic6\", \"Topic6\", \"Topic6\", \"Topic6\", \"Topic6\", \"Topic6\", \"Topic6\", \"Topic6\", \"Topic6\", \"Topic6\", \"Topic6\", \"Topic6\", \"Topic6\", \"Topic6\", \"Topic6\", \"Topic6\", \"Topic6\", \"Topic6\", \"Topic6\", \"Topic6\", \"Topic6\", \"Topic6\", \"Topic6\", \"Topic7\", \"Topic7\", \"Topic7\", \"Topic7\", \"Topic7\", \"Topic7\", \"Topic7\", \"Topic7\", \"Topic7\", \"Topic7\", \"Topic7\", \"Topic7\", \"Topic7\", \"Topic7\", \"Topic7\", \"Topic7\", \"Topic7\", \"Topic7\", \"Topic7\", \"Topic7\", \"Topic7\", \"Topic7\", \"Topic7\", \"Topic7\", \"Topic7\", \"Topic7\", \"Topic7\", \"Topic7\", \"Topic7\", \"Topic7\", \"Topic7\", \"Topic7\", \"Topic7\", \"Topic7\", \"Topic7\", \"Topic7\", \"Topic7\", \"Topic7\", \"Topic7\", \"Topic7\", \"Topic7\", \"Topic7\", \"Topic7\", \"Topic7\", \"Topic7\", \"Topic7\", \"Topic7\", \"Topic7\", \"Topic7\", \"Topic7\", \"Topic7\", \"Topic7\", \"Topic7\", \"Topic7\", \"Topic7\", \"Topic7\", \"Topic7\", \"Topic7\", \"Topic7\", \"Topic7\", \"Topic7\", \"Topic7\", \"Topic7\", \"Topic7\", \"Topic7\", \"Topic8\", \"Topic8\", \"Topic8\", \"Topic8\", \"Topic8\", \"Topic8\", \"Topic8\", \"Topic8\", \"Topic8\", \"Topic8\", \"Topic8\", \"Topic8\", \"Topic8\", \"Topic8\", \"Topic8\", \"Topic8\", \"Topic8\", \"Topic8\", \"Topic8\", \"Topic8\", \"Topic8\", \"Topic8\", \"Topic8\", \"Topic8\", \"Topic8\", \"Topic8\", \"Topic8\", \"Topic8\", \"Topic8\", \"Topic8\", \"Topic8\", \"Topic8\", \"Topic8\", \"Topic8\", \"Topic8\", \"Topic8\", \"Topic8\", \"Topic8\", \"Topic8\", \"Topic8\", \"Topic8\", \"Topic8\", \"Topic8\", \"Topic8\", \"Topic8\", \"Topic8\", \"Topic8\", \"Topic8\", \"Topic8\", \"Topic8\", \"Topic8\", \"Topic8\", \"Topic8\", \"Topic8\", \"Topic8\", \"Topic8\", \"Topic8\", \"Topic8\", \"Topic8\", \"Topic8\", \"Topic8\", \"Topic8\", \"Topic8\", \"Topic8\", \"Topic9\", \"Topic9\", \"Topic9\", \"Topic9\", \"Topic9\", \"Topic9\", \"Topic9\", \"Topic9\", \"Topic9\", \"Topic9\", \"Topic9\", \"Topic9\", \"Topic9\", \"Topic9\", \"Topic9\", \"Topic9\", \"Topic9\", \"Topic9\", \"Topic9\", \"Topic9\", \"Topic9\", \"Topic9\", \"Topic9\", \"Topic9\", \"Topic9\", \"Topic9\", \"Topic9\", \"Topic9\", \"Topic9\", \"Topic9\", \"Topic9\", \"Topic9\", \"Topic9\", \"Topic9\", \"Topic9\", \"Topic9\", \"Topic9\", \"Topic9\", \"Topic9\", \"Topic9\", \"Topic9\", \"Topic9\", \"Topic9\", \"Topic9\", \"Topic9\", \"Topic9\", \"Topic9\", \"Topic9\", \"Topic9\", \"Topic9\", \"Topic9\", \"Topic9\", \"Topic9\", \"Topic9\", \"Topic9\", \"Topic9\", \"Topic9\", \"Topic9\", \"Topic9\", \"Topic9\", \"Topic9\", \"Topic9\", \"Topic9\", \"Topic9\", \"Topic9\", \"Topic10\", \"Topic10\", \"Topic10\", \"Topic10\", \"Topic10\", \"Topic10\", \"Topic10\", \"Topic10\", \"Topic10\", \"Topic10\", \"Topic10\", \"Topic10\", \"Topic10\", \"Topic10\", \"Topic10\", \"Topic10\", \"Topic10\", \"Topic10\", \"Topic10\", \"Topic10\", \"Topic10\", \"Topic10\", \"Topic10\", \"Topic10\", \"Topic10\", \"Topic10\", \"Topic10\", \"Topic10\", \"Topic10\", \"Topic10\", \"Topic10\", \"Topic10\", \"Topic10\", \"Topic10\", \"Topic10\", \"Topic10\", \"Topic10\", \"Topic10\", \"Topic10\", \"Topic10\", \"Topic10\", \"Topic10\", \"Topic10\", \"Topic10\", \"Topic10\", \"Topic10\", \"Topic10\", \"Topic10\", \"Topic10\", \"Topic10\", \"Topic10\", \"Topic10\", \"Topic10\", \"Topic10\", \"Topic10\", \"Topic10\", \"Topic10\", \"Topic10\", \"Topic10\", \"Topic10\", \"Topic11\", \"Topic11\", \"Topic11\", \"Topic11\", \"Topic11\", \"Topic11\", \"Topic11\", \"Topic11\", \"Topic11\", \"Topic11\", \"Topic11\", \"Topic11\", \"Topic11\", \"Topic11\", \"Topic11\", \"Topic11\", \"Topic11\", \"Topic11\", \"Topic11\", \"Topic11\", \"Topic11\", \"Topic11\", \"Topic11\", \"Topic11\", \"Topic11\", \"Topic11\", \"Topic11\", \"Topic11\", \"Topic11\", \"Topic11\", \"Topic11\", \"Topic11\", \"Topic11\", \"Topic11\", \"Topic11\", \"Topic11\", \"Topic11\", \"Topic11\", \"Topic11\", \"Topic11\", \"Topic11\", \"Topic11\", \"Topic11\", \"Topic11\", \"Topic11\", \"Topic11\", \"Topic11\", \"Topic11\", \"Topic11\", \"Topic11\", \"Topic11\", \"Topic11\", \"Topic11\", \"Topic11\", \"Topic11\", \"Topic11\", \"Topic12\", \"Topic12\", \"Topic12\", \"Topic12\", \"Topic12\", \"Topic12\", \"Topic12\", \"Topic12\", \"Topic12\", \"Topic12\", \"Topic12\", \"Topic12\", \"Topic12\", \"Topic12\", \"Topic12\", \"Topic12\", \"Topic12\", \"Topic12\", \"Topic12\", \"Topic12\", \"Topic12\", \"Topic12\", \"Topic12\", \"Topic12\", \"Topic12\", \"Topic12\", \"Topic12\", \"Topic12\", \"Topic12\", \"Topic12\", \"Topic12\", \"Topic12\", \"Topic12\", \"Topic12\", \"Topic12\", \"Topic12\", \"Topic12\", \"Topic12\", \"Topic12\", \"Topic12\", \"Topic12\", \"Topic12\", \"Topic12\", \"Topic12\", \"Topic12\", \"Topic12\", \"Topic12\", \"Topic12\", \"Topic12\", \"Topic12\", \"Topic12\", \"Topic12\", \"Topic12\", \"Topic12\", \"Topic12\", \"Topic12\", \"Topic12\", \"Topic12\", \"Topic12\", \"Topic12\", \"Topic12\", \"Topic12\", \"Topic12\", \"Topic12\", \"Topic13\", \"Topic13\", \"Topic13\", \"Topic13\", \"Topic13\", \"Topic13\", \"Topic13\", \"Topic13\", \"Topic13\", \"Topic13\", \"Topic13\", \"Topic13\", \"Topic13\", \"Topic13\", \"Topic13\", \"Topic13\", \"Topic13\", \"Topic13\", \"Topic13\", \"Topic13\", \"Topic13\", \"Topic13\", \"Topic13\", \"Topic13\", \"Topic13\", \"Topic13\", \"Topic13\", \"Topic13\", \"Topic13\", \"Topic13\", \"Topic13\", \"Topic13\", \"Topic13\", \"Topic13\", \"Topic13\", \"Topic13\", \"Topic13\", \"Topic13\", \"Topic13\", \"Topic13\", \"Topic13\", \"Topic13\", \"Topic13\", \"Topic13\", \"Topic13\", \"Topic13\", \"Topic13\", \"Topic13\", \"Topic13\", \"Topic13\", \"Topic13\", \"Topic13\", \"Topic13\", \"Topic13\", \"Topic13\", \"Topic13\", \"Topic13\", \"Topic13\", \"Topic13\"], \"logprob\": [30.0, 29.0, 28.0, 27.0, 26.0, 25.0, 24.0, 23.0, 22.0, 21.0, 20.0, 19.0, 18.0, 17.0, 16.0, 15.0, 14.0, 13.0, 12.0, 11.0, 10.0, 9.0, 8.0, 7.0, 6.0, 5.0, 4.0, 3.0, 2.0, 1.0, -4.9375, -5.222099781036377, -5.222099781036377, -5.222099781036377, -5.222099781036377, -5.402599811553955, -5.620800018310547, -5.620999813079834, -5.621099948883057, -5.622099876403809, -5.638500213623047, -5.902400016784668, -5.90310001373291, -5.903900146484375, -5.904300212860107, -5.904699802398682, -5.904799938201904, -5.9054999351501465, -5.918799877166748, -5.243599891662598, -4.941500186920166, -4.960100173950195, -4.9756999015808105, -6.295300006866455, -6.295300006866455, -6.295300006866455, -6.295300006866455, -6.295300006866455, -6.295300006866455, -6.295300006866455, -6.295300006866455, -5.621099948883057, -4.738399982452393, -4.245500087738037, -4.956600189208984, -4.821100234985352, -4.4415998458862305, -3.932300090789795, -3.9260001182556152, -5.112199783325195, -4.3780999183654785, -4.198800086975098, -5.222300052642822, -5.222599983215332, -5.226900100708008, -4.558000087738037, -4.295499801635742, -4.6753997802734375, -4.4766998291015625, -4.666200160980225, -4.571300029754639, -5.069799900054932, -4.7692999839782715, -4.264599800109863, -5.1880998611450195, -5.039299964904785, -5.190999984741211, -5.191299915313721, -5.193699836730957, -5.370500087738037, -5.370999813079834, -4.6890997886657715, -5.589399814605713, -5.589900016784668, -5.870999813079834, -5.870999813079834, -5.871099948883057, -5.874899864196777, -5.876800060272217, -4.436399936676025, -4.791399955749512, -5.205399990081787, -4.906300067901611, -4.598299980163574, -2.7850000858306885, -5.37060022354126, -6.263700008392334, -6.263700008392334, -6.263700008392334, -6.263700008392334, -6.263700008392334, -6.263700008392334, -6.263700008392334, -5.416999816894531, -6.263999938964844, -6.263999938964844, -6.263999938964844, -5.6107001304626465, -4.908100128173828, -5.190299987792969, -5.038000106811523, -5.05620002746582, -4.486100196838379, -5.590099811553955, -5.179800033569336, -4.3744001388549805, -4.907199859619141, -4.975800037384033, -4.540599822998047, -4.686699867248535, -5.373300075531006, -4.9293999671936035, -4.785200119018555, -4.88129997253418, -4.985099792480469, -5.052800178527832, -5.097700119018555, -5.0528998374938965, -5.1392998695373535, -5.118000030517578, -5.111000061035156, -5.056399822235107, -3.944999933242798, -5.5817999839782715, -5.582499980926514, -4.898099899291992, -4.89870023727417, -5.863100051879883, -5.873000144958496, -4.785799980163574, -4.788000106811523, -4.51039981842041, -4.751100063323975, -5.030399799346924, -6.25600004196167, -6.25600004196167, -6.25600004196167, -6.25600004196167, -6.25600004196167, -6.25600004196167, -6.25600004196167, -6.25600004196167, -6.25600004196167, -6.25600004196167, -6.25600004196167, -6.25600004196167, -6.25600004196167, -6.25600004196167, -6.25600004196167, -6.25600004196167, -6.25600004196167, -6.25629997253418, -4.15310001373291, -4.083099842071533, -4.287799835205078, -4.367000102996826, -4.845600128173828, -4.899799823760986, -4.467299938201904, -5.249100208282471, -5.863100051879883, -5.863800048828125, -5.8628997802734375, -5.86359977722168, -5.863100051879883, -5.867700099945068, -5.198800086975098, -5.292600154876709, -4.905099868774414, -5.59660005569458, -4.591300010681152, -5.052499771118164, -3.530100107192993, -5.23390007019043, -4.489699840545654, -4.93720006942749, -5.02370023727417, -5.030399799346924, -5.182700157165527, -4.9344000816345215, -5.2444000244140625, -5.169300079345703, -5.566999912261963, -5.567200183868408, -5.8480000495910645, -5.848199844360352, -5.848199844360352, -5.848199844360352, -5.848299980163574, -5.848700046539307, -5.8495001792907715, -4.811600208282471, -6.241000175476074, -6.241000175476074, -6.241000175476074, -6.241000175476074, -6.241000175476074, -6.241000175476074, -6.241000175476074, -6.241000175476074, -6.241000175476074, -6.241000175476074, -6.241000175476074, -6.241000175476074, -6.241000175476074, -6.241000175476074, -6.241000175476074, -6.241000175476074, -6.241000175476074, -6.241000175476074, -6.241000175476074, -3.722899913787842, -6.241000175476074, -5.347700119018555, -4.910200119018555, -5.074699878692627, -5.626399993896484, -4.249499797821045, -4.995699882507324, -4.124000072479248, -5.565999984741211, -5.848199844360352, -5.848599910736084, -5.8480000495910645, -5.8480000495910645, -4.01609992980957, -4.882199764251709, -4.333499908447266, -3.1900999546051025, -5.569200038909912, -5.214600086212158, -4.602799892425537, -4.7530999183654785, -5.223100185394287, -5.210100173950195, -5.226099967956543, -5.021599769592285, -5.042799949645996, -4.912199974060059, -5.216899871826172, -5.570099830627441, -5.407100200653076, -5.178199768066406, -5.091400146484375, -5.355599880218506, -5.4527997970581055, -5.565499782562256, -3.5206000804901123, -3.775599956512451, -4.645400047302246, -4.493800163269043, -4.867099761962891, -4.867199897766113, -5.55019998550415, -5.550300121307373, -5.550300121307373, -5.550600051879883, -5.561100006103516, -4.882400035858154, -5.831600189208984, -5.831600189208984, -5.8317999839782715, -5.8317999839782715, -5.8317999839782715, -5.831900119781494, -5.831999778747559, -5.832099914550781, -5.832200050354004, -5.832699775695801, -5.332699775695801, -5.332200050354004, -6.224699974060059, -6.224699974060059, -6.224699974060059, -6.224699974060059, -6.224699974060059, -6.224699974060059, -5.55049991607666, -5.160699844360352, -5.332699775695801, -5.332699775695801, -4.991199970245361, -4.79640007019043, -4.686999797821045, -4.900100231170654, -5.161399841308594, -4.682199954986572, -4.578700065612793, -5.331500053405762, -5.33620023727417, -5.344399929046631, -4.343299865722656, -4.459199905395508, -4.566199779510498, -4.250999927520752, -4.719600200653076, -5.041600227355957, -5.09499979019165, -4.769700050354004, -5.100800037384033, -5.112599849700928, -5.210899829864502, -5.155900001525879, -3.003000020980835, -4.40749979019165, -5.0106000900268555, -5.163000106811523, -5.163000106811523, -4.563700199127197, -5.3429999351501465, -5.366499900817871, -5.561699867248535, -5.5619001388549805, -5.56220006942749, -5.56220006942749, -5.5625, -5.01039981842041, -5.029300212860107, -5.843100070953369, -5.843100070953369, -5.843299865722656, -5.843299865722656, -5.843299865722656, -5.843599796295166, -5.843800067901611, -5.844299793243408, -5.845799922943115, -5.016499996185303, -6.236199855804443, -6.236199855804443, -6.236199855804443, -6.236199855804443, -6.236199855804443, -6.236199855804443, -6.236199855804443, -5.162899971008301, -5.562900066375732, -4.097599983215332, -6.236199855804443, -4.405700206756592, -4.804100036621094, -4.315800189971924, -5.170400142669678, -4.816500186920166, -5.010499954223633, -4.763899803161621, -5.0131001472473145, -4.978099822998047, -5.066699981689453, -5.34250020980835, -4.924099922180176, -4.917399883270264, -4.033299922943115, -4.746500015258789, -4.763500213623047, -5.01039981842041, -5.125800132751465, -5.118100166320801, -5.184800148010254, -5.065000057220459, -4.491300106048584, -5.268799781799316, -5.48769998550415, -5.48859977722168, -5.769000053405762, -5.769199848175049, -5.769199848175049, -5.769199848175049, -5.769199848175049, -5.769199848175049, -5.769199848175049, -5.769199848175049, -5.7692999839782715, -5.7692999839782715, -5.769400119781494, -5.769599914550781, -5.773399829864502, -5.775100231170654, -4.138899803161621, -6.1620001792907715, -6.1620001792907715, -6.1620001792907715, -6.1620001792907715, -6.1620001792907715, -6.1620001792907715, -6.1620001792907715, -6.1620001792907715, -6.1620001792907715, -6.1620001792907715, -6.1620001792907715, -6.1620001792907715, -6.1620001792907715, -5.088900089263916, -5.088399887084961, -5.48769998550415, -5.48829984664917, -5.492700099945068, -4.202899932861328, -4.940199851989746, -5.089600086212158, -5.1234002113342285, -4.936299800872803, -5.088900089263916, -4.740300178527832, -4.850900173187256, -4.464300155639648, -4.7393999099731445, -4.435200214385986, -5.0609002113342285, -5.057700157165527, -5.48960018157959, -4.937900066375732, -4.592100143432617, -3.871999979019165, -4.7621002197265625, -4.935100078582764, -4.988100051879883, -4.794899940490723, -4.774799823760986, -5.090400218963623, -5.1118998527526855, -5.127200126647949, -5.322800159454346, -5.020599842071533, -5.25, -4.950399875640869, -5.279699802398682, -5.282199859619141, -5.778600215911865, -5.778900146484375, -5.779399871826172, -5.779399871826172, -5.779600143432617, -5.779600143432617, -5.787700176239014, -5.103899955749512, -4.865099906921387, -6.171599864959717, -6.171599864959717, -6.171599864959717, -6.171599864959717, -6.171599864959717, -6.171599864959717, -6.171599864959717, -6.171599864959717, -6.171599864959717, -6.171599864959717, -6.171599864959717, -6.171599864959717, -6.171599864959717, -6.171899795532227, -6.171899795532227, -6.171899795532227, -6.171899795532227, -6.171899795532227, -5.101500034332275, -5.499800205230713, -3.63070011138916, -5.514699935913086, -4.814599990844727, -5.53000020980835, -4.355299949645996, -4.947999954223633, -4.538700103759766, -4.427999973297119, -5.778600215911865, -4.9980998039245605, -5.283899784088135, -5.282899856567383, -5.363500118255615, -5.7947998046875, -5.293700218200684, -5.168099880218506, -4.818399906158447, -3.0762999057769775, -5.103099822998047, -4.813899993896484, -4.466599941253662, -5.067599773406982, -4.5767998695373535, -5.098599910736084, -5.160399913787842, -4.904300212860107, -5.0177998542785645, -5.2779998779296875, -5.190800189971924, -5.087500095367432, -5.206900119781494, -5.1940999031066895, -5.088799953460693, -5.27370023727417, -5.488699913024902, -5.769199848175049, -5.769400119781494, -5.769400119781494, -5.769400119781494, -5.769400119781494, -5.769499778747559, -5.770299911499023, -5.770699977874756, -5.771599769592285, -5.268700122833252, -4.819699764251709, -4.59689998626709, -6.162300109863281, -6.162300109863281, -6.162300109863281, -6.162300109863281, -6.162300109863281, -6.162300109863281, -6.162300109863281, -6.162300109863281, -6.162300109863281, -6.162300109863281, -6.162300109863281, -6.162600040435791, -6.162600040435791, -6.162600040435791, -6.162600040435791, -4.96999979019165, -5.48799991607666, -5.487800121307373, -5.48799991607666, -5.48799991607666, -5.48799991607666, -3.662400007247925, -5.089200019836426, -4.632299900054932, -5.089099884033203, -5.4918999671936035, -5.769499778747559, -5.769899845123291, -5.769400119781494, -5.775400161743164, -4.816500186920166, -4.811999797821045, -4.488999843597412, -3.8422999382019043, -4.255799770355225, -4.532800197601318, -5.095399856567383, -4.484300136566162, -5.087699890136719, -4.762599945068359, -5.488100051879883, -5.088799953460693, -5.110400199890137, -5.307199954986572, -4.585700035095215, -5.019100189208984, -5.315000057220459, -5.436399936676025, -5.437099933624268, -5.487800121307373, -4.516600131988525, -5.021900177001953, -5.222599983215332, -4.819300174713135, -5.420599937438965, -5.420899868011475, -5.421199798583984, -5.421199798583984, -5.431300163269043, -5.463500022888184, -5.702700138092041, -5.7027997970581055, -5.705999851226807, -4.819300174713135, -5.2058000564575195, -5.79610013961792, -6.095099925994873, -6.095099925994873, -6.095099925994873, -6.095099925994873, -6.095099925994873, -6.095099925994873, -6.095099925994873, -6.095099925994873, -6.095099925994873, -6.095099925994873, -6.095099925994873, -6.095099925994873, -6.095099925994873, -6.095099925994873, -5.42080020904541, -5.421899795532227, -4.974999904632568, -4.9375, -4.882599830627441, -5.423799991607666, -5.702899932861328, -5.703100204467773, -5.121300220489502, -4.568900108337402, -4.3917999267578125, -5.221199989318848, -4.01639986038208, -4.7042999267578125, -4.819200038909912, -5.02839994430542, -5.07289981842041, -4.694499969482422, -4.642099857330322, -4.46560001373291, -4.850800037384033, -4.871200084686279, -5.066199779510498, -5.14870023727417, -5.201700210571289, -5.194499969482422, -5.267399787902832, -5.16349983215332, -5.234399795532227, -5.197299957275391, -3.8443000316619873, -4.491300106048584, -4.3520002365112305, -5.167600154876709, -4.153500080108643, -5.667099952697754, -5.667099952697754, -5.667099952697754, -5.667099952697754, -5.667099952697754, -5.667300224304199, -5.667300224304199, -5.667399883270264, -5.670599937438965, -4.392000198364258, -5.166299819946289, -5.166999816894531, -4.118599891662598, -4.834000110626221, -3.528599977493286, -5.199399948120117, -6.059899806976318, -6.059899806976318, -6.059899806976318, -6.059899806976318, -6.059899806976318, -6.059899806976318, -6.059899806976318, -6.060200214385986, -6.060200214385986, -6.060200214385986, -6.060200214385986, -4.484899997711182, -4.987299919128418, -4.865200042724609, -4.198699951171875, -5.388199806213379, -5.666900157928467, -5.667500019073486, -5.438799858093262, -5.179500102996826, -5.385499954223633, -4.563199996948242, -4.502799987792969, -5.1666998863220215, -5.132599830627441, -5.249199867248535, -4.706299781799316, -5.403200149536133, -5.390999794006348, -4.94789981842041, -5.196800231933594, -5.17549991607666, -5.195199966430664, -5.377099990844727, -5.385799884796143, -4.393599987030029, -4.975299835205078, -5.154399871826172, -5.374000072479248, -5.374199867248535, -5.377799987792969, -5.655200004577637, -5.655200004577637, -5.655600070953369, -5.656300067901611, -5.656599998474121, -5.657299995422363, -5.657299995422363, -4.332900047302246, -6.048099994659424, -6.048099994659424, -6.048099994659424, -6.048099994659424, -6.048099994659424, -6.048099994659424, -6.048099994659424, -6.048099994659424, -6.048099994659424, -6.048099994659424, -6.048099994659424, -6.048099994659424, -6.048099994659424, -6.048099994659424, -6.048099994659424, -6.048099994659424, -5.542799949645996, -4.690100193023682, -5.373799800872803, -5.373600006103516, -5.154900074005127, -4.690299987792969, -4.553100109100342, -4.577000141143799, -5.154600143432617, -4.822700023651123, -3.6907999515533447, -5.65500020980835, -5.655200004577637, -5.6554999351501465, -5.656300067901611, -5.660900115966797, -5.154799938201904, -4.721799850463867, -4.822199821472168, -4.785699844360352, -4.814499855041504, -4.9816999435424805, -5.155200004577637, -4.841000080108643, -4.745999813079834, -4.71999979019165, -5.409299850463867, -5.154300212860107, -4.8566999435424805, -4.51200008392334, -5.023600101470947, -5.321100234985352, -5.312099933624268, -5.355000019073486, -4.79580020904541, -5.346099853515625, -5.34630012512207, -5.349699974060059, -4.7947998046875, -5.627600193023682, -5.627600193023682, -5.627799987792969, -5.6290998458862305, -5.6296000480651855, -5.629899978637695, -5.630099773406982, -5.630799770355225, -4.4653000831604, -6.020400047302246, -6.020400047302246, -6.020400047302246, -6.020400047302246, -6.020400047302246, -6.020699977874756, -6.020699977874756, -6.020699977874756, -6.020699977874756, -6.020699977874756, -6.020699977874756, -6.020699977874756, -6.020699977874756, -6.020699977874756, -6.020699977874756, -6.020699977874756, -5.0524001121521, -3.243000030517578, -5.348800182342529, -5.441800117492676, -5.3460001945495605, -4.952899932861328, -5.627399921417236, -5.647200107574463, -4.7967000007629395, -4.662399768829346, -5.126800060272217, -5.346099853515625, -5.150300025939941, -3.1208999156951904, -5.178500175476074, -5.702499866485596, -4.648900032043457, -4.563700199127197, -4.867800235748291, -5.127500057220459, -4.761000156402588, -5.241600036621094, -5.094699859619141, -5.151599884033203, -5.1269001960754395, -5.364099979400635, -5.124899864196777, -5.310400009155273, -5.314700126647949], \"loglift\": [30.0, 29.0, 28.0, 27.0, 26.0, 25.0, 24.0, 23.0, 22.0, 21.0, 20.0, 19.0, 18.0, 17.0, 16.0, 15.0, 14.0, 13.0, 12.0, 11.0, 10.0, 9.0, 8.0, 7.0, 6.0, 5.0, 4.0, 3.0, 2.0, 1.0, 2.323699951171875, 2.2908999919891357, 2.2908999919891357, 2.2908999919891357, 2.2908999919891357, 2.265000104904175, 2.2295000553131104, 2.229300022125244, 2.2291998863220215, 2.2281999588012695, 2.212100028991699, 2.171799898147583, 2.171099901199341, 2.1703999042510986, 2.1698999404907227, 2.169600009918213, 2.1695001125335693, 2.1686999797821045, 2.155600070953369, 2.137500047683716, 2.1196999549865723, 2.1012001037597656, 2.08870005607605, 2.0678999423980713, 2.0678999423980713, 2.0678999423980713, 2.0678999423980713, 2.0678999423980713, 2.0678999423980713, 2.0678999423980713, 2.0678999423980713, 2.0492000579833984, 2.0178000926971436, 1.9961999654769897, 2.022599935531616, 2.0034000873565674, 1.9301999807357788, 1.8674999475479126, 1.7762000560760498, 1.9526000022888184, 1.7532999515533447, 1.658400058746338, 1.936400055885315, 1.9364999532699585, 1.9333000183105469, 1.648800015449524, 1.340399980545044, 1.389299988746643, 1.121899962425232, 1.304800033569336, 1.2070000171661377, 1.6883000135421753, 1.0370999574661255, -0.31290000677108765, 0.9868000149726868, 2.3571999073028564, 2.338900089263916, 2.338599920272827, 2.336199998855591, 2.313499927520752, 2.312999963760376, 2.301800012588501, 2.276700019836426, 2.27620005607605, 2.2179999351501465, 2.2179999351501465, 2.217900037765503, 2.214099884033203, 2.2121999263763428, 2.206399917602539, 2.199399948120117, 2.1882998943328857, 2.173099994659424, 2.171099901199341, 2.1579999923706055, 2.157900094985962, 2.112600088119507, 2.112600088119507, 2.112600088119507, 2.112600088119507, 2.112600088119507, 2.112600088119507, 2.112600088119507, 2.112299919128418, 2.112299919128418, 2.112299919128418, 2.112299919128418, 2.0713000297546387, 1.9997999668121338, 1.982200026512146, 1.948799967765808, 1.9337999820709229, 1.6588000059127808, 1.9371999502182007, 1.8112000226974487, 1.573199987411499, 1.625599980354309, 1.4987000226974487, 1.0578999519348145, 1.0721999406814575, 1.698199987411499, 1.1442999839782715, 0.8151000142097473, 0.9478999972343445, 1.0468000173568726, 1.1220999956130981, 1.2001999616622925, 0.8364999890327454, 0.8381999731063843, 0.6603000164031982, 0.33239999413490295, -1.104599952697754, 2.349299907684326, 2.2818000316619873, 2.2811999320983887, 2.2725000381469727, 2.2720000743865967, 2.223599910736084, 2.21370005607605, 2.2039999961853027, 2.2005999088287354, 2.1909000873565674, 2.1570000648498535, 2.140199899673462, 2.118299961090088, 2.118299961090088, 2.118299961090088, 2.118299961090088, 2.118299961090088, 2.118299961090088, 2.118299961090088, 2.118299961090088, 2.118299961090088, 2.118299961090088, 2.118299961090088, 2.118299961090088, 2.118299961090088, 2.118299961090088, 2.118299961090088, 2.118299961090088, 2.118299961090088, 2.118000030517578, 2.0597000122070312, 1.9557000398635864, 1.8885999917984009, 1.8497999906539917, 1.8566999435424805, 1.8654999732971191, 1.605299949645996, 1.8242000341415405, 2.0032999515533447, 2.001800060272217, 1.9993000030517578, 1.9977999925613403, 1.9972000122070312, 1.99590003490448, 1.7092000246047974, 1.6958999633789062, 1.5206999778747559, 1.7997000217437744, 1.1933000087738037, 1.4723000526428223, 0.42160001397132874, 1.532099962234497, 0.8906999826431274, 1.2376999855041504, 1.2740999460220337, 1.2580000162124634, 1.2444000244140625, 0.7013999819755554, 1.1399999856948853, 2.3577001094818115, 2.296299934387207, 2.2962000370025635, 2.2385001182556152, 2.238300085067749, 2.238300085067749, 2.238300085067749, 2.2381999492645264, 2.237799882888794, 2.236999988555908, 2.1765999794006348, 2.132999897003174, 2.132999897003174, 2.132999897003174, 2.132999897003174, 2.132999897003174, 2.132999897003174, 2.132999897003174, 2.132999897003174, 2.132999897003174, 2.132999897003174, 2.132999897003174, 2.132999897003174, 2.132999897003174, 2.132999897003174, 2.132999897003174, 2.132999897003174, 2.132999897003174, 2.132999897003174, 2.132999897003174, 2.0576999187469482, 2.132999897003174, 2.0460000038146973, 1.996500015258789, 2.000499963760376, 2.0546000003814697, 1.8150999546051025, 1.9076000452041626, 1.6833000183105469, 1.9637999534606934, 2.0165998935699463, 2.015399932861328, 2.0139999389648438, 2.0120999813079834, 1.364300012588501, 1.6418999433517456, 1.3687000274658203, 0.7616999745368958, 1.8205000162124634, 1.6164000034332275, 1.2060999870300293, 1.1944999694824219, 1.5463000535964966, 1.3704999685287476, 1.360700011253357, 0.9804999828338623, 0.8185999989509583, 0.5313000082969666, 1.0770000219345093, 1.7086999416351318, 1.3586000204086304, 0.8536999821662903, 0.508899986743927, 0.8860999941825867, 0.5860000252723694, 1.3395999670028687, 2.4851999282836914, 2.4769999980926514, 2.428299903869629, 2.412600040435791, 2.4072000980377197, 2.407099962234497, 2.3118999004364014, 2.311800003051758, 2.311800003051758, 2.311500072479248, 2.3008999824523926, 2.2867000102996826, 2.253700017929077, 2.253700017929077, 2.253499984741211, 2.253499984741211, 2.253499984741211, 2.2534000873565674, 2.2532999515533447, 2.253200054168701, 2.2530999183654785, 2.2525999546051025, 2.194200038909912, 2.192699909210205, 2.1482999324798584, 2.1482999324798584, 2.1482999324798584, 2.1482999324798584, 2.1482999324798584, 2.1482999324798584, 2.1296000480651855, 2.1103999614715576, 2.0557000637054443, 2.0557000637054443, 1.914199948310852, 1.843999981880188, 1.7903000116348267, 1.8587000370025635, 1.9114999771118164, 1.5680999755859375, 1.4950000047683716, 1.9402999877929688, 1.934999942779541, 1.9297000169754028, 1.2569999694824219, 1.3253999948501587, 1.2426999807357788, 0.6920999884605408, 1.0867999792099, 1.4372999668121338, 1.4808000326156616, 0.5914000272750854, 1.3246999979019165, 0.48590001463890076, 0.7366999983787537, -0.0430000014603138, 2.457900047302246, 2.4393999576568604, 2.39520001411438, 2.3761000633239746, 2.3761000633239746, 2.356600046157837, 2.349900007247925, 2.3261001110076904, 2.312999963760376, 2.3127999305725098, 2.3125, 2.3125, 2.3120999336242676, 2.277100086212158, 2.257200002670288, 2.2539000511169434, 2.2539000511169434, 2.253700017929077, 2.253700017929077, 2.253700017929077, 2.2534000873565674, 2.2532999515533447, 2.252700090408325, 2.251199960708618, 2.1635000705718994, 2.1473000049591064, 2.1473000049591064, 2.1473000049591064, 2.1473000049591064, 2.1473000049591064, 2.1473000049591064, 2.1473000049591064, 2.12280011177063, 2.1257998943328857, 2.049299955368042, 2.1473000049591064, 2.0288000106811523, 2.0373001098632812, 1.986799955368042, 2.00819993019104, 1.8295999765396118, 1.9085999727249146, 1.5789999961853027, 1.6934000253677368, 1.6073999404907227, 1.6368000507354736, 1.8352999687194824, 1.416200041770935, 1.3806999921798706, -0.08160000294446945, 0.8970000147819519, 0.8805000185966492, 1.1340999603271484, 1.0190999507904053, 0.7390999794006348, 1.1588000059127808, 0.04800000041723251, 2.406100034713745, 2.40310001373291, 2.36680006980896, 2.3659000396728516, 2.3092000484466553, 2.309000015258789, 2.309000015258789, 2.309000015258789, 2.309000015258789, 2.309000015258789, 2.3089001178741455, 2.3089001178741455, 2.3089001178741455, 2.308799982070923, 2.3087000846862793, 2.308500051498413, 2.3046998977661133, 2.303100109100342, 2.236799955368042, 2.2046000957489014, 2.2046000957489014, 2.2046000957489014, 2.2046000957489014, 2.2046000957489014, 2.2046000957489014, 2.2046000957489014, 2.2046000957489014, 2.2046000957489014, 2.2046000957489014, 2.2046000957489014, 2.2046000957489014, 2.2046000957489014, 2.180299997329712, 2.179500102996826, 2.1861000061035156, 2.1851000785827637, 2.180999994277954, 2.124799966812134, 2.12719988822937, 2.071899890899658, 2.038100004196167, 1.9652999639511108, 1.9810999631881714, 1.7343000173568726, 1.6708999872207642, 1.3650000095367432, 1.5490000247955322, 1.200600028038025, 1.6991000175476074, 1.6324000358581543, 2.030600070953369, 1.441499948501587, 0.9318000078201294, 0.07970000058412552, 1.045199990272522, 1.2117999792099, 1.2621999979019165, 0.805400013923645, 0.33809998631477356, 1.12090003490448, 1.1780999898910522, 1.166200041770935, 1.6655000448226929, 0.34049999713897705, 1.2747999429702759, 2.443000078201294, 2.401400089263916, 2.3987998962402344, 2.3078999519348145, 2.307499885559082, 2.306999921798706, 2.306999921798706, 2.30679988861084, 2.30679988861084, 2.298799991607666, 2.2874999046325684, 2.210200071334839, 2.202399969100952, 2.202399969100952, 2.202399969100952, 2.202399969100952, 2.202399969100952, 2.202399969100952, 2.202399969100952, 2.202399969100952, 2.202399969100952, 2.202399969100952, 2.202399969100952, 2.202399969100952, 2.202399969100952, 2.2021000385284424, 2.2021000385284424, 2.2021000385284424, 2.2021000385284424, 2.2021000385284424, 2.1740000247955322, 2.1812000274658203, 2.0780999660491943, 2.1663999557495117, 2.092400074005127, 2.15120005607605, 1.9875999689102173, 2.039900064468384, 1.8902000188827515, 1.865399956703186, 2.087599992752075, 1.836400032043457, 1.8883999586105347, 1.8846999406814575, 1.9115999937057495, 2.068700075149536, 1.8753999471664429, 1.8217999935150146, 1.659000039100647, 0.8754000067710876, 1.6585999727249146, 1.367799997329712, 0.9768999814987183, 1.5785000324249268, 1.0217000246047974, 1.5434000492095947, 1.5461000204086304, 1.1670000553131104, 0.7667999863624573, 1.4843000173568726, 1.188599944114685, 0.555899977684021, 1.0822999477386475, -0.25099998712539673, 2.432300090789795, 2.401700019836426, 2.3691999912261963, 2.3120999336242676, 2.3118999004364014, 2.3118999004364014, 2.3118999004364014, 2.3118999004364014, 2.3117001056671143, 2.311000108718872, 2.310499906539917, 2.3097000122070312, 2.250999927520752, 2.2493999004364014, 2.2304000854492188, 2.207200050354004, 2.207200050354004, 2.207200050354004, 2.207200050354004, 2.207200050354004, 2.207200050354004, 2.207200050354004, 2.207200050354004, 2.207200050354004, 2.207200050354004, 2.207200050354004, 2.206899881362915, 2.206899881362915, 2.206899881362915, 2.206899881362915, 2.19569993019104, 2.18969988822937, 2.189300060272217, 2.188499927520752, 2.1882998943328857, 2.1858999729156494, 1.9810999631881714, 2.0778000354766846, 1.9457999467849731, 1.9854999780654907, 2.0316998958587646, 2.091200113296509, 2.089400053024292, 2.087599992752075, 2.0845000743865967, 1.76419997215271, 1.7106000185012817, 1.5779000520706177, 1.2705999612808228, 1.388200044631958, 1.4693000316619873, 1.8075000047683716, 1.2747000455856323, 1.6085000038146973, 1.208400011062622, 1.8978999853134155, 1.2941999435424805, 1.226699948310852, 1.5225000381469727, -0.633899986743927, 0.34200000762939453, 1.2655999660491943, 1.3933000564575195, 0.0868000015616417, 1.679800033569336, 2.543800115585327, 2.491300106048584, 2.4453001022338867, 2.442699909210205, 2.4298999309539795, 2.429500102996826, 2.42930006980896, 2.42930006980896, 2.4191999435424805, 2.387500047683716, 2.3717000484466553, 2.371500015258789, 2.3684000968933105, 2.339099884033203, 2.3097000122070312, 2.278899908065796, 2.268199920654297, 2.268199920654297, 2.268199920654297, 2.268199920654297, 2.268199920654297, 2.268199920654297, 2.268199920654297, 2.268199920654297, 2.268199920654297, 2.268199920654297, 2.268199920654297, 2.268199920654297, 2.268199920654297, 2.268199920654297, 2.250699996948242, 2.2500998973846436, 2.0906999111175537, 2.0401999950408936, 2.017400026321411, 2.0959999561309814, 2.150899887084961, 2.1503000259399414, 1.9466999769210815, 1.7201999425888062, 1.6401000022888184, 1.937999963760376, 1.4270999431610107, 1.6742000579833984, 1.4708000421524048, 1.6055999994277954, 1.6222000122070312, 1.1346999406814575, 1.0667999982833862, 0.6473000049591064, 0.9275000095367432, 0.9093999862670898, 1.1450999975204468, 1.3720999956130981, 1.496399998664856, 1.3812999725341797, 1.715399980545044, 1.1303999423980713, 1.4026000499725342, 1.0095000267028809, 2.63319993019104, 2.583899974822998, 2.55649995803833, 2.513700008392334, 2.4296000003814697, 2.419600009918213, 2.419600009918213, 2.419600009918213, 2.419600009918213, 2.4195001125335693, 2.4193999767303467, 2.419300079345703, 2.4191999435424805, 2.416100025177002, 2.374300003051758, 2.3608999252319336, 2.360599994659424, 2.3566999435424805, 2.3357999324798584, 2.3327999114990234, 2.3250999450683594, 2.314300060272217, 2.314300060272217, 2.314300060272217, 2.314300060272217, 2.314300060272217, 2.314300060272217, 2.314300060272217, 2.313999891281128, 2.313999891281128, 2.313999891281128, 2.313999891281128, 2.21589994430542, 2.1816000938415527, 2.124300003051758, 1.8725999593734741, 2.138000011444092, 2.1953001022338867, 2.192699909210205, 2.0882999897003174, 1.9891999959945679, 2.0041000843048096, 1.4143999814987183, 1.2970000505447388, 1.8215999603271484, 1.6971999406814575, 1.8213000297546387, 0.9376000165939331, 1.9908000230789185, 1.886299967765808, 0.8812999725341797, 1.3319000005722046, 0.8981000185012817, 0.16590000689029694, 0.7674000263214111, 1.259600043296814, 2.6033999919891357, 2.5601999759674072, 2.5350000858306885, 2.4974000453948975, 2.4971001148223877, 2.4935998916625977, 2.438699960708618, 2.438699960708618, 2.4382998943328857, 2.4375998973846436, 2.4374001026153564, 2.4365999698638916, 2.4365999698638916, 2.373199939727783, 2.3326001167297363, 2.3326001167297363, 2.3326001167297363, 2.3326001167297363, 2.3326001167297363, 2.3326001167297363, 2.3326001167297363, 2.3326001167297363, 2.3326001167297363, 2.3326001167297363, 2.3326001167297363, 2.3326001167297363, 2.3326001167297363, 2.3326001167297363, 2.3326001167297363, 2.3326001167297363, 2.3273000717163086, 2.3041999340057373, 2.3162999153137207, 2.314199924468994, 2.2427000999450684, 2.1505000591278076, 2.093100070953369, 2.0683999061584473, 2.125, 2.0157999992370605, 1.670300006866455, 2.2158000469207764, 2.214200019836426, 2.2125000953674316, 2.209700107574463, 2.2098000049591064, 1.9256999492645264, 1.6568000316619873, 1.7106000185012817, 1.5972000360488892, 1.475600004196167, 1.5479999780654907, 1.75409996509552, 1.3035000562667847, 1.143399953842163, 1.0389000177383423, 1.9865000247955322, 1.4873000383377075, 0.5236999988555908, -0.5602999925613403, 0.08940000087022781, 1.5889999866485596, 0.9818000197410583, 1.3451000452041626, 2.6040000915527344, 2.5230000019073486, 2.522900104522705, 2.5195000171661377, 2.4865000247955322, 2.4642999172210693, 2.4642999172210693, 2.464099884033203, 2.4628000259399414, 2.4623000621795654, 2.4619998931884766, 2.461699962615967, 2.4611001014709473, 2.446000099182129, 2.3584001064300537, 2.3584001064300537, 2.3584001064300537, 2.3584001064300537, 2.3584001064300537, 2.358099937438965, 2.358099937438965, 2.358099937438965, 2.358099937438965, 2.358099937438965, 2.358099937438965, 2.358099937438965, 2.358099937438965, 2.358099937438965, 2.358099937438965, 2.358099937438965, 2.3485000133514404, 2.280900001525879, 2.337100028991699, 2.2421000003814697, 2.1865999698638916, 2.03439998626709, 2.2370998859405518, 2.220599889755249, 1.905900001525879, 1.771299958229065, 1.955399990081787, 2.0495998859405518, 1.9264999628067017, 0.8309000134468079, 1.8991999626159668, 2.164900064468384, 1.3286000490188599, 1.2452000379562378, 1.343500018119812, 1.5744999647140503, 0.6194000244140625, 1.5882999897003174, 1.0816999673843384, 1.146399974822998, 1.054800033569336, 1.7065999507904053, 0.947700023651123, 1.3265999555587769, 0.4927000105381012]}, \"token.table\": {\"Topic\": [1, 2, 5, 9, 11, 2, 3, 5, 6, 8, 12, 9, 10, 7, 9, 1, 6, 8, 1, 2, 5, 7, 4, 4, 1, 13, 7, 10, 12, 9, 13, 3, 8, 10, 13, 12, 12, 10, 3, 8, 10, 13, 2, 3, 6, 7, 5, 7, 8, 9, 10, 12, 12, 9, 2, 3, 6, 8, 13, 10, 6, 11, 1, 4, 7, 1, 5, 9, 2, 1, 5, 6, 10, 7, 1, 6, 9, 10, 2, 3, 6, 4, 13, 11, 1, 3, 6, 8, 13, 1, 2, 4, 5, 8, 9, 11, 12, 11, 3, 9, 6, 5, 2, 12, 1, 4, 8, 11, 13, 4, 9, 10, 4, 10, 2, 5, 7, 10, 12, 13, 4, 1, 4, 12, 7, 8, 1, 2, 7, 4, 8, 4, 4, 8, 2, 3, 4, 6, 7, 10, 11, 13, 9, 1, 5, 5, 9, 7, 9, 3, 6, 8, 3, 8, 9, 12, 13, 1, 2, 5, 7, 11, 1, 6, 9, 2, 4, 5, 6, 7, 8, 9, 11, 12, 11, 12, 6, 13, 1, 7, 8, 2, 3, 4, 5, 6, 8, 9, 2, 4, 12, 13, 4, 6, 11, 13, 9, 3, 7, 12, 4, 6, 7, 3, 6, 8, 9, 10, 2, 4, 9, 10, 9, 4, 7, 11, 12, 13, 3, 7, 13, 6, 8, 1, 5, 13, 3, 5, 6, 7, 9, 10, 11, 13, 3, 7, 9, 11, 12, 1, 5, 8, 3, 1, 2, 3, 5, 6, 8, 10, 13, 3, 4, 6, 10, 11, 12, 3, 6, 7, 8, 9, 10, 9, 5, 2, 4, 5, 9, 12, 13, 7, 9, 1, 11, 12, 13, 1, 2, 4, 5, 6, 8, 10, 12, 1, 2, 4, 7, 10, 11, 1, 1, 2, 5, 6, 8, 2, 7, 6, 9, 11, 7, 2, 3, 4, 8, 10, 6, 12, 2, 8, 5, 3, 6, 10, 10, 4, 13, 7, 1, 11, 3, 2, 5, 6, 9, 11, 3, 2, 2, 3, 11, 1, 2, 7, 9, 2, 4, 9, 1, 5, 7, 9, 4, 3, 7, 9, 12, 3, 8, 4, 13, 2, 8, 11, 10, 6, 9, 11, 12, 4, 6, 9, 2, 3, 4, 5, 10, 12, 5, 8, 11, 7, 10, 5, 6, 5, 3, 13, 1, 5, 6, 1, 2, 4, 5, 6, 9, 10, 5, 2, 4, 6, 8, 8, 1, 4, 12, 7, 6, 1, 7, 2, 7, 1, 5, 3, 7, 8, 12, 2, 4, 11, 4, 11, 5, 7, 9, 10, 1, 1, 2, 6, 7, 1, 3, 6, 8, 12, 13, 4, 11, 5, 1, 8, 9, 2, 4, 5, 1, 2, 12, 11, 6, 10, 10, 3, 6, 8, 9, 10, 11, 11, 11, 5, 6, 10, 11, 12, 10, 8, 2, 9, 1, 2, 7, 8, 10, 11, 13, 13, 13, 8, 8, 2, 4, 5, 9, 11, 1, 12, 1, 3, 10, 1, 7, 10, 11, 13, 2, 9, 5, 6, 13, 2, 3, 4, 5, 6, 7, 10, 11, 12, 3, 8, 10, 13, 10, 3, 5, 7, 8, 9, 10, 12, 4, 10, 11, 13, 3, 12, 13, 5, 6, 8, 6, 13, 13, 7, 1, 2, 4, 5, 6, 8, 6, 11, 4, 9, 11, 12, 4, 5, 8, 10, 11, 13, 10, 12, 5, 9, 1, 2, 3, 6, 7, 9, 11, 5, 8, 8, 1, 4, 5, 10, 2, 4, 5, 6, 8, 10, 1, 3, 6, 9, 12, 13, 2, 9, 11, 8, 1, 2, 3, 4, 6, 7, 8, 9, 10, 11, 12, 13, 2, 10, 11, 12, 2, 6, 7, 9, 10, 11, 5, 7, 9, 10, 11, 13, 13, 13, 2, 9, 10, 7, 1, 2, 12, 1, 4, 10, 2, 3, 11, 13, 1, 3, 7, 12, 4, 9, 1, 3, 4, 7, 9, 10, 12, 13, 6, 12, 4, 5, 1, 1, 2, 6, 7, 9, 13, 2, 9, 9, 11, 5, 7, 8, 9, 10, 11, 12, 13, 2, 3, 6, 10, 11, 11, 12, 1, 5, 13, 3, 4, 10, 1, 6, 8, 10, 8, 11, 12, 5, 9, 13, 4, 11, 7, 11, 10, 12, 12, 8, 7, 13, 10, 3, 12, 13, 4, 10, 12, 1, 2, 3, 4, 5, 6, 7, 8, 9, 10, 11, 12, 1, 2, 3, 6, 9, 10, 11, 12, 1, 3, 7, 9, 10, 13, 4, 9, 1, 5, 12, 4, 9, 10, 7, 3, 9, 13, 1, 5, 8, 13, 3, 12, 8, 7, 1, 7, 8, 9, 1, 11, 3, 4, 1, 2, 5, 6, 7, 9, 10, 12, 3, 8, 5, 9, 10, 11, 13, 13, 5, 5, 7, 2, 2, 9, 3, 7, 5, 3, 1, 2, 6, 7, 9, 11, 12, 10, 10, 3, 10, 2, 6, 7, 8, 9, 12, 2, 3, 10, 10, 1, 2, 7, 9, 13, 5, 9, 5, 6, 7, 1, 6, 2, 11, 3, 2, 4, 7, 11, 2, 5, 8, 12, 3, 7, 9, 1, 1, 2, 7, 8, 12, 8, 10, 7, 4, 5, 6, 8, 13, 8, 9, 10, 11, 12, 7, 9, 11, 1, 4, 7, 10, 13, 13, 4, 5, 5, 4, 12, 10, 6, 13, 8, 9, 7, 9, 10, 11, 12, 1, 2, 5, 9, 12, 13, 2, 1, 2, 3, 6, 10, 3, 5, 4, 13, 8, 1, 7, 8, 1, 3, 8, 9, 11, 1, 7, 12, 11, 5, 2, 8, 10, 5, 10, 12, 5, 12, 4, 3, 11, 2, 3, 4, 6, 10, 13, 8, 9, 12, 8, 13, 1, 3, 6, 7, 13, 4, 12, 3, 9, 3, 1, 4, 5, 7, 9, 10, 12, 13, 6, 7, 8, 1, 7, 8, 9, 1, 8, 1, 3, 4, 6, 7, 1, 12, 1, 2, 4, 9, 9, 2, 4, 7, 9, 10, 11, 7, 13, 1, 4, 8, 3, 10, 4, 4, 6, 8, 11, 12, 13, 12, 2, 4, 11, 12, 3, 1, 3, 5, 6, 10, 1, 6, 7, 8, 9, 11, 12, 13, 1, 2, 3, 5, 6, 8, 9, 13, 9, 13, 1, 3, 11, 12, 13, 4, 1, 11, 12, 12, 10, 1, 4, 8, 8, 12, 4, 13, 11, 2, 3, 6, 7, 8, 9, 10, 13, 8, 8, 1, 4, 5, 7, 9, 10, 11, 12, 11, 6, 2, 3, 6, 7, 9, 11, 12, 2, 3, 8, 10, 5, 2, 3, 7, 9, 11, 3, 6, 12, 13, 2, 4, 5, 10, 12, 6, 9, 12, 11, 3, 8, 11, 4, 1, 2, 3, 5, 6, 7, 10, 13, 9, 10, 13, 1, 5, 7, 8, 10, 13, 3, 5, 13, 4, 6, 7, 9, 13, 1, 3, 11, 1, 5, 6, 7, 8, 1, 3, 5, 8, 9, 5, 2, 8, 6, 7, 11, 10, 4, 6, 12, 3, 2, 12, 2, 11, 7, 4, 3, 7, 1, 3, 4, 5, 13, 9, 1, 9, 5, 7, 13, 8, 6, 7, 1, 3, 5, 4, 8, 8, 10, 11, 4, 9, 10, 5, 10, 11, 6, 8, 11, 9, 2, 7, 8, 6, 1, 11, 1, 9, 6, 1, 3, 4, 8, 4, 6, 11, 12, 13, 12, 13, 1, 4, 5, 8, 9, 13, 2, 4, 10, 11, 12, 9, 13, 3, 6, 8, 10, 8, 1, 3, 4, 8, 12, 6, 9, 1, 3, 8, 10, 11, 2, 6, 4, 9, 3, 7, 13, 4, 2, 4, 12, 2, 9, 4, 5, 3, 4, 3, 4, 6, 7, 8, 9, 2, 6, 9, 13, 2, 3, 6, 8, 12, 13, 6, 4, 8, 13, 7, 9, 2, 6, 12, 5, 10, 3, 8, 2, 3, 4, 5, 6, 2, 3, 4, 10, 13, 2, 13, 4, 11, 5, 6, 8, 3, 13, 1, 6, 8, 11, 6, 1, 7, 9, 13, 11, 4, 11, 6, 12, 7, 8, 9, 11, 7, 3, 4, 5, 7, 8, 9, 13, 7, 8, 12, 1, 9, 4, 6, 7, 11, 13, 2, 3, 4, 6, 7, 7, 11, 12, 13, 1, 2, 3, 4, 6, 8, 10, 2, 3, 6, 7, 8, 11, 13, 4, 3, 5, 10, 11, 5, 9, 10, 2, 2, 2, 13, 1, 4, 7, 8, 9, 12, 6, 6, 4, 12, 4, 5, 2, 4, 7, 8, 9, 12, 11, 13, 4, 8, 10, 12, 7, 10, 13, 6, 2, 6, 7, 3, 4, 5, 9, 10, 1, 2, 3, 10, 11, 12, 13, 1, 2, 5, 6, 8, 9, 11, 12, 5, 9, 10, 1, 2, 4, 5, 6, 8, 10, 11, 13, 1, 3, 12, 4, 3, 12, 6, 5, 13, 2, 6, 13, 4, 9, 12, 5, 9, 2, 3, 4, 6, 9, 10, 8, 10, 11, 5, 7, 5, 11, 4, 6, 7, 9, 10, 12, 12, 10, 1, 2, 3, 7, 9, 10, 12, 3, 6, 8, 9, 2, 3, 8, 13, 3, 6, 7, 11, 13, 4, 4, 6, 2, 5, 8, 12, 13, 5, 3, 7, 8, 13, 1, 4, 5, 7, 9, 4, 8, 1, 2, 5, 6, 7, 9, 10, 13, 4, 5, 7, 12, 2, 5, 6, 10, 11, 13, 6, 12, 13, 1, 3, 4, 5, 6, 8, 10, 11, 12, 13, 12, 2, 3, 2, 5, 11, 1, 3, 4, 8, 11, 13, 2, 8, 3, 5, 10, 12, 12, 5, 2, 5, 7, 13, 1, 5, 7, 3, 5, 6, 8, 2, 1, 3, 7, 10, 13, 1, 3, 7, 11, 2, 3, 4, 5, 8, 9, 10, 11, 13, 1, 2, 4, 5, 8, 10, 7, 9, 10, 12, 13, 1, 10, 1, 1, 3, 5, 6, 7, 9, 10, 13, 7], \"Freq\": [0.16891321539878845, 0.08445660769939423, 0.08445660769939423, 0.3378264307975769, 0.3378264307975769, 0.20775146782398224, 0.10387573391199112, 0.05193786695599556, 0.2596893310546875, 0.15581360459327698, 0.15581360459327698, 0.8430376648902893, 0.5867624282836914, 0.8829206228256226, 0.7876670360565186, 0.0854453295469284, 0.5981172919273376, 0.256335973739624, 0.14845091104507446, 0.7422545552253723, 0.26180195808410645, 0.6545049548149109, 0.8902811408042908, 0.8902811408042908, 0.8362560868263245, 0.7951175570487976, 0.8133336901664734, 0.09037040919065475, 0.7965635061264038, 0.7103711366653442, 0.23679037392139435, 0.20895136892795563, 0.20895136892795563, 0.27860182523727417, 0.27860182523727417, 0.7965635061264038, 0.7179900407791138, 0.7828177809715271, 0.5712725520133972, 0.08788808435201645, 0.13183212280273438, 0.1757761687040329, 0.2230311632156372, 0.5204060077667236, 0.1486874371767044, 0.0743437185883522, 0.12402045726776123, 0.18603068590164185, 0.12402045726776123, 0.18603068590164185, 0.3100511431694031, 0.062010228633880615, 0.8969764709472656, 0.7876670360565186, 0.2287594974040985, 0.5490227937698364, 0.0457518994808197, 0.1372556984424591, 0.0457518994808197, 0.7828177809715271, 0.8997763395309448, 0.7914199829101562, 0.7807930111885071, 0.7912756204605103, 0.7059859037399292, 0.2360280454158783, 0.5507321357727051, 0.1573520302772522, 0.8931071758270264, 0.19655223190784454, 0.3275870382785797, 0.13103482127189636, 0.2620696425437927, 0.8829150795936584, 0.09842807799577713, 0.295284241437912, 0.19685615599155426, 0.3937123119831085, 0.7930945158004761, 0.7144342064857483, 0.23814472556114197, 0.7133055329322815, 0.2377685010433197, 0.7914198637008667, 0.09892582148313522, 0.19785164296627045, 0.09892582148313522, 0.5935549139976501, 0.7951175570487976, 0.06256436556577682, 0.06256436556577682, 0.06256436556577682, 0.06256436556577682, 0.12512873113155365, 0.18769308924674988, 0.12512873113155365, 0.3128218352794647, 0.8904880881309509, 0.7914625406265259, 0.7083762884140015, 0.7203773856163025, 0.7113907933235168, 0.7588213086128235, 0.2168060839176178, 0.10812844336032867, 0.10812844336032867, 0.21625688672065735, 0.10812844336032867, 0.4325137734413147, 0.4435487687587738, 0.29569917917251587, 0.14784958958625793, 0.16767185926437378, 0.6706874370574951, 0.13651257753372192, 0.09100838005542755, 0.22752095758914948, 0.22752095758914948, 0.045504190027713776, 0.22752095758914948, 0.7912756204605103, 0.1490258276462555, 0.1490258276462555, 0.596103310585022, 0.5892314910888672, 0.19641049206256866, 0.7475007176399231, 0.21357163786888123, 0.7854499220848083, 0.1978510618209839, 0.5935531854629517, 0.7912756204605103, 0.6926543712615967, 0.19790124893188477, 0.03960990160703659, 0.3960990309715271, 0.03960990160703659, 0.11882970482110977, 0.11882970482110977, 0.07921980321407318, 0.03960990160703659, 0.15843960642814636, 0.8857131004333496, 0.7328935265541077, 0.14657871425151825, 0.19690881669521332, 0.5907264351844788, 0.23592592775821686, 0.7077777981758118, 0.7914642095565796, 0.4152441620826721, 0.5709607005119324, 0.22625446319580078, 0.5090725421905518, 0.11312723159790039, 0.056563615798950195, 0.056563615798950195, 0.0913216844201088, 0.6392517685890198, 0.0913216844201088, 0.0913216844201088, 0.0913216844201088, 0.1181781142950058, 0.1181781142950058, 0.7090687155723572, 0.05160335451364517, 0.15481005609035492, 0.05160335451364517, 0.10320670902729034, 0.10320670902729034, 0.05160335451364517, 0.25801676511764526, 0.10320670902729034, 0.10320670902729034, 0.2388637661933899, 0.7165912985801697, 0.8009158372879028, 0.13348597288131714, 0.7451704144477844, 0.21290582418441772, 0.7912567257881165, 0.162312313914299, 0.27052053809165955, 0.10820821672677994, 0.05410410836338997, 0.162312313914299, 0.10820821672677994, 0.10820821672677994, 0.1323278546333313, 0.3969835638999939, 0.1323278546333313, 0.2646557092666626, 0.10871336609125137, 0.3261401057243347, 0.10871336609125137, 0.4348534643650055, 0.7869625091552734, 0.32217299938201904, 0.5369549989700317, 0.10739099979400635, 0.7912756204605103, 0.5980824828147888, 0.19936081767082214, 0.23686273396015167, 0.07895424216985703, 0.3158169686794281, 0.23686273396015167, 0.15790848433971405, 0.5928968787193298, 0.0988161489367485, 0.0988161489367485, 0.197632297873497, 0.8857173919677734, 0.2099132239818573, 0.2099132239818573, 0.13994213938713074, 0.2798842787742615, 0.13994213938713074, 0.13105611503124237, 0.655280590057373, 0.13105611503124237, 0.23808887600898743, 0.7142665982246399, 0.295308917760849, 0.590617835521698, 0.7951188683509827, 0.18925072252750397, 0.37850144505500793, 0.04731268063187599, 0.28387609124183655, 0.04731268063187599, 0.04731268063187599, 0.9138354659080505, 0.09138354659080505, 0.16207414865493774, 0.05402471870183945, 0.27012357115745544, 0.16207414865493774, 0.3241482973098755, 0.2626396715641022, 0.5252793431282043, 0.1313198357820511, 0.7914625406265259, 0.782721221446991, 0.11879134923219681, 0.26728054881095886, 0.2969783842563629, 0.059395674616098404, 0.1781870275735855, 0.029697837308049202, 0.029697837308049202, 0.08512814342975616, 0.12769220769405365, 0.2553844153881073, 0.12769220769405365, 0.12769220769405365, 0.2553844153881073, 0.14887890219688416, 0.44663670659065247, 0.07443945109844208, 0.07443945109844208, 0.14887890219688416, 0.07443945109844208, 0.7876702547073364, 0.889251172542572, 0.07029212266206741, 0.07029212266206741, 0.07029212266206741, 0.07029212266206741, 0.5623369812965393, 0.21087637543678284, 0.8829143643379211, 0.7876670360565186, 0.19793210923671722, 0.39586421847343445, 0.19793210923671722, 0.19793210923671722, 0.05637107789516449, 0.16911323368549347, 0.05637107789516449, 0.28185537457466125, 0.05637107789516449, 0.05637107789516449, 0.22548431158065796, 0.7179887890815735, 0.11409340053796768, 0.22818680107593536, 0.19015567004680634, 0.03803113475441933, 0.38031134009361267, 0.03803113475441933, 0.8362560868263245, 0.05946619436144829, 0.17839859426021576, 0.3567971885204315, 0.17839859426021576, 0.17839859426021576, 0.7930949926376343, 0.7854499220848083, 0.19816823303699493, 0.19816823303699493, 0.594504714012146, 0.8829160332679749, 0.11858128756284714, 0.11858128756284714, 0.11858128756284714, 0.47432515025138855, 0.11858128756284714, 0.8997763395309448, 0.7965635061264038, 0.7930949926376343, 0.7912572622299194, 0.7113900184631348, 0.16839338839054108, 0.16839338839054108, 0.5051801204681396, 0.7828177809715271, 0.2383831888437271, 0.4767663776874542, 0.7854499816894531, 0.640983521938324, 0.320491760969162, 0.7914625406265259, 0.27755987644195557, 0.3568626940250397, 0.11895423382520676, 0.03965140879154205, 0.1586056351661682, 0.7914625406265259, 0.8925708532333374, 0.7930945158004761, 0.8313495516777039, 0.118764229118824, 0.08425448834896088, 0.08425448834896088, 0.08425448834896088, 0.674035906791687, 0.23758697509765625, 0.7127609252929688, 0.885716438293457, 0.11768927425146103, 0.11768927425146103, 0.5884463787078857, 0.11768927425146103, 0.8902809619903564, 0.7108398079872131, 0.23694659769535065, 0.7876670360565186, 0.7965635061264038, 0.8313241600990295, 0.1187605932354927, 0.1988200545310974, 0.5964601635932922, 0.5948764681816101, 0.23795057833194733, 0.11897528916597366, 0.7828177809715271, 0.07023635506629944, 0.14047271013259888, 0.21070906519889832, 0.5618908405303955, 0.0214841291308403, 0.9453017115592957, 0.0214841291308403, 0.19768580794334412, 0.09884290397167206, 0.24710725247859955, 0.04942145198583603, 0.24710725247859955, 0.19768580794334412, 0.13188807666301727, 0.6594403982162476, 0.13188807666301727, 0.7854499816894531, 0.836388111114502, 0.711391270160675, 0.8997799158096313, 0.7904612421989441, 0.2384762465953827, 0.7154287099838257, 0.2626332938671112, 0.6565832495689392, 0.7203839421272278, 0.11074547469615936, 0.11074547469615936, 0.22149094939231873, 0.07383031398057938, 0.03691515699028969, 0.3322364091873169, 0.11074547469615936, 0.9484816193580627, 0.7930949926376343, 0.14933089911937714, 0.4479926824569702, 0.37332722544670105, 0.7912589907646179, 0.68645840883255, 0.09806548804044724, 0.19613097608089447, 0.7854499816894531, 0.8997740149497986, 0.7452201843261719, 0.21292005479335785, 0.7937166094779968, 0.7854499220848083, 0.5876320004463196, 0.3525792062282562, 0.456645667552948, 0.09132913500070572, 0.27398741245269775, 0.09132913500070572, 0.07423744350671768, 0.22271233797073364, 0.5938995480537415, 0.8480091094970703, 0.7914199829101562, 0.911859929561615, 0.8829473853111267, 0.7876670360565186, 0.7828177809715271, 0.8794846534729004, 0.05363369733095169, 0.05363369733095169, 0.16090108454227448, 0.6972380876541138, 0.22311244904994965, 0.07437081634998322, 0.07437081634998322, 0.07437081634998322, 0.14874163269996643, 0.4462248980998993, 0.7912756204605103, 0.8904635310173035, 0.88924640417099, 0.782721221446991, 0.47359856963157654, 0.3551989197731018, 0.14843933284282684, 0.5937573313713074, 0.14843933284282684, 0.43022504448890686, 0.43022504448890686, 0.10755626112222672, 0.9501227140426636, 0.8997717499732971, 0.7828177809715271, 0.7035018801689148, 0.07389228045940399, 0.07389228045940399, 0.07389228045940399, 0.36946138739585876, 0.22167684137821198, 0.14778456091880798, 0.7914204597473145, 0.8904628157615662, 0.2556065022945404, 0.0852021649479866, 0.0852021649479866, 0.0852021649479866, 0.5112130045890808, 0.703159511089325, 0.7912567257881165, 0.19707158207893372, 0.5912147164344788, 0.5867630243301392, 0.11735259741544724, 0.23470519483089447, 0.638707160949707, 0.09124387800693512, 0.09124387800693512, 0.09124387800693512, 0.8951486349105835, 0.7951177358627319, 0.890253484249115, 0.7912567257881165, 0.41947463154792786, 0.2796497642993927, 0.17478109896183014, 0.03495622053742409, 0.10486865788698196, 0.7030506134033203, 0.8969793319702148, 0.7827212810516357, 0.2351553589105606, 0.705466091632843, 0.32240030169487, 0.10746676474809647, 0.10746676474809647, 0.10746676474809647, 0.32240030169487, 0.5941071510314941, 0.19803573191165924, 0.13325203955173492, 0.6662602424621582, 0.13325203955173492, 0.19759701192378998, 0.09879850596189499, 0.14819775521755219, 0.2716958820819855, 0.024699626490473747, 0.17289738357067108, 0.024699626490473747, 0.049399252980947495, 0.024699626490473747, 0.7124655246734619, 0.7912566661834717, 0.23768725991249084, 0.7130617499351501, 0.703217625617981, 0.0844549760222435, 0.0844549760222435, 0.0844549760222435, 0.0844549760222435, 0.337819904088974, 0.168909952044487, 0.168909952044487, 0.2718074917793274, 0.5436149835586548, 0.09060250222682953, 0.09060250222682953, 0.17055900394916534, 0.17055900394916534, 0.5116769671440125, 0.11988148093223572, 0.7192888855934143, 0.11988148093223572, 0.14951184391975403, 0.7475591897964478, 0.8951410055160522, 0.7059931755065918, 0.44706350564956665, 0.06386621296405792, 0.09579931944608688, 0.09579931944608688, 0.1596655398607254, 0.09579931944608688, 0.7987707257270813, 0.7914198637008667, 0.14849083125591278, 0.14849083125591278, 0.44547247886657715, 0.14849083125591278, 0.6384502649307251, 0.09120717644691467, 0.09120717644691467, 0.09120717644691467, 0.09120717644691467, 0.7951177358627319, 0.7811208367347717, 0.7965635061264038, 0.9221535325050354, 0.8857134580612183, 0.05176831781864166, 0.155304953455925, 0.155304953455925, 0.31060990691185, 0.10353663563728333, 0.10353663563728333, 0.10353663563728333, 0.3955095410346985, 0.5273460745811462, 0.7912567257881165, 0.519622266292572, 0.32818248867988586, 0.054697081446647644, 0.08204562216997147, 0.0792144387960434, 0.3168577551841736, 0.2376433163881302, 0.1584288775920868, 0.0792144387960434, 0.0792144387960434, 0.29675930738449097, 0.14837965369224548, 0.14837965369224548, 0.07418982684612274, 0.22256948053836823, 0.07418982684612274, 0.16903075575828552, 0.5070922374725342, 0.16903075575828552, 0.7912567257881165, 0.06650549918413162, 0.02850235626101494, 0.12826059758663177, 0.1757645308971405, 0.07600628584623337, 0.08075667917728424, 0.18526531755924225, 0.04275353625416756, 0.019001571461558342, 0.01425117813050747, 0.038003142923116684, 0.15201257169246674, 0.4393283724784851, 0.06276119500398636, 0.12552239000797272, 0.37656718492507935, 0.06212259456515312, 0.06212259456515312, 0.06212259456515312, 0.43485817313194275, 0.18636779487133026, 0.18636779487133026, 0.1862228810787201, 0.43452006578445435, 0.12414859235286713, 0.12414859235286713, 0.06207429617643356, 0.06207429617643356, 0.8951343297958374, 0.7164269089698792, 0.11731615662574768, 0.11731615662574768, 0.7038969397544861, 0.8829120397567749, 0.627733051776886, 0.1569332629442215, 0.1569332629442215, 0.6567404866218567, 0.18764014542102814, 0.1407301127910614, 0.4961845874786377, 0.19847384095191956, 0.09923692047595978, 0.19847384095191956, 0.10711956024169922, 0.10711956024169922, 0.6427173614501953, 0.10711956024169922, 0.23644955456256866, 0.7093486785888672, 0.03938574343919754, 0.07877148687839508, 0.07877148687839508, 0.15754297375679016, 0.35447168350219727, 0.11815723031759262, 0.11815723031759262, 0.03938574343919754, 0.8008362650871277, 0.7965635061264038, 0.19765791296958923, 0.5929737091064453, 0.7827212810516357, 0.06615755707025528, 0.13231511414051056, 0.39694535732269287, 0.13231511414051056, 0.19847267866134644, 0.06615755707025528, 0.2366069257259369, 0.7098208069801331, 0.2371366173028946, 0.7114098072052002, 0.07381631433963776, 0.07381631433963776, 0.07381631433963776, 0.07381631433963776, 0.3690815567970276, 0.1476326286792755, 0.1476326286792755, 0.07381631433963776, 0.18749278783798218, 0.12499518692493439, 0.18749278783798218, 0.18749278783798218, 0.24999037384986877, 0.7914204597473145, 0.8969783186912537, 0.295308917760849, 0.590617835521698, 0.8951485753059387, 0.21386021375656128, 0.10693010687828064, 0.5346505641937256, 0.1958485245704651, 0.09792426228523254, 0.09792426228523254, 0.5875455737113953, 0.7123616933822632, 0.237453892827034, 0.7965635061264038, 0.5268606543540955, 0.26343032717704773, 0.13171516358852386, 0.7912756204605103, 0.8904635310173035, 0.7841779589653015, 0.8904638290405273, 0.5882055759429932, 0.19606851041316986, 0.8969701528549194, 0.8902654051780701, 0.7854499816894531, 0.7951176166534424, 0.703159511089325, 0.7928642630577087, 0.09910803288221359, 0.09910803288221359, 0.7099692821502686, 0.23665642738342285, 0.8984854817390442, 0.0151718370616436, 0.0758591815829277, 0.0606873482465744, 0.0303436741232872, 0.0758591815829277, 0.0910310223698616, 0.1062028557062149, 0.0303436741232872, 0.273093044757843, 0.1365465223789215, 0.0455155111849308, 0.0758591815829277, 0.3220407962799072, 0.10734692960977554, 0.10734692960977554, 0.07156462222337723, 0.2504761815071106, 0.035782311111688614, 0.035782311111688614, 0.035782311111688614, 0.236697718501091, 0.7100931406021118, 0.11741574108600616, 0.3522472381591797, 0.46966296434402466, 0.8951482176780701, 0.19695936143398285, 0.5908780694007874, 0.8362560868263245, 0.298691987991333, 0.6969479322433472, 0.1473011076450348, 0.44190332293510437, 0.2946022152900696, 0.7854499816894531, 0.23666690289974213, 0.5916672348976135, 0.11833345144987106, 0.8362593650817871, 0.11896512657403946, 0.47586050629615784, 0.356895387172699, 0.7914625406265259, 0.7180016040802002, 0.8902654647827148, 0.7854499220848083, 0.29379817843437195, 0.36724773049354553, 0.07344954460859299, 0.22034864127635956, 0.23668746650218964, 0.7100623846054077, 0.7124709486961365, 0.7912756204605103, 0.16489243507385254, 0.19787092506885529, 0.09893546253442764, 0.1319139450788498, 0.09893546253442764, 0.0659569725394249, 0.0659569725394249, 0.19787092506885529, 0.7914625406265259, 0.7912567257881165, 0.5465661287307739, 0.1821887046098709, 0.09109435230493546, 0.09109435230493546, 0.09109435230493546, 0.7951188683509827, 0.8892503380775452, 0.33691439032554626, 0.505371630191803, 0.7142325639724731, 0.6794024109840393, 0.16985060274600983, 0.19641628861427307, 0.5892488360404968, 0.8892514109611511, 0.7914625406265259, 0.08683570474386215, 0.23156188428401947, 0.05789047107100487, 0.05789047107100487, 0.26050710678100586, 0.05789047107100487, 0.2026166468858719, 0.7828177809715271, 0.7828177809715271, 0.7914625406265259, 0.7828177809715271, 0.04985002428293228, 0.598200261592865, 0.14955006539821625, 0.09970004856586456, 0.04985002428293228, 0.09970004856586456, 0.18267616629600525, 0.730704665184021, 0.09133808314800262, 0.7828177809715271, 0.7030612230300903, 0.068649061024189, 0.18306414783000946, 0.09153207391500473, 0.6407245397567749, 0.676993727684021, 0.16924843192100525, 0.19793565571308136, 0.3958713114261627, 0.3958713114261627, 0.8794751167297363, 0.7987707257270813, 0.680030107498169, 0.17000752687454224, 0.7914626598358154, 0.7930949926376343, 0.1924205720424652, 0.064140185713768, 0.7055420875549316, 0.7296604514122009, 0.1664137840270996, 0.0640053004026413, 0.03840317949652672, 0.10729988664388657, 0.10729988664388657, 0.751099169254303, 0.8796477913856506, 0.05383281409740448, 0.21533125638961792, 0.3229968845844269, 0.2691640555858612, 0.16149844229221344, 0.8903456926345825, 0.8796278834342957, 0.7854499220848083, 0.056836992502212524, 0.17051097750663757, 0.17051097750663757, 0.17051097750663757, 0.39785894751548767, 0.24594606459140778, 0.09837842732667923, 0.3935137093067169, 0.09837842732667923, 0.14756764471530914, 0.17776982486248016, 0.05925660580396652, 0.7110792994499207, 0.3536812365055084, 0.5108729004859924, 0.078595831990242, 0.039297915995121, 0.7951176166534424, 0.7951192259788513, 0.11858034878969193, 0.8300624489784241, 0.7904612421989441, 0.23902559280395508, 0.7170767784118652, 0.7828177809715271, 0.8997805118560791, 0.7951176166534424, 0.890389621257782, 0.7876670360565186, 0.24615052342414856, 0.04923010244965553, 0.2953806221485138, 0.09846020489931107, 0.2953806221485138, 0.47169628739356995, 0.1572321057319641, 0.07861605286598206, 0.1572321057319641, 0.07861605286598206, 0.07861605286598206, 0.7930949926376343, 0.5041292309761047, 0.12603230774402618, 0.12603230774402618, 0.042010772973299026, 0.12603230774402618, 0.7914625406265259, 0.7904612421989441, 0.13266517221927643, 0.795991063117981, 0.7913764715194702, 0.1533629447221756, 0.6645727753639221, 0.1533629447221756, 0.5729050636291504, 0.030152900144457817, 0.060305800288915634, 0.0904586985707283, 0.24122320115566254, 0.2353481650352478, 0.5883704423904419, 0.1176740825176239, 0.7914204597473145, 0.8892523646354675, 0.7937942147254944, 0.0992242768406868, 0.7828177809715271, 0.29751110076904297, 0.14875555038452148, 0.44626665115356445, 0.7904612421989441, 0.7965635061264038, 0.7122673988342285, 0.7914625406265259, 0.8904627561569214, 0.2976936101913452, 0.2976936101913452, 0.09923119843006134, 0.1488468050956726, 0.04961559921503067, 0.09923119843006134, 0.6477450132369995, 0.10795750468969345, 0.10795750468969345, 0.791257917881012, 0.8951347470283508, 0.13671445846557617, 0.6380007863044739, 0.04557148367166519, 0.13671445846557617, 0.04557148367166519, 0.7912756204605103, 0.7965635061264038, 0.7114442586898804, 0.23714809119701385, 0.7914625406265259, 0.06085825338959694, 0.2738621234893799, 0.2738621234893799, 0.06085825338959694, 0.03042912669479847, 0.03042912669479847, 0.03042912669479847, 0.21300388872623444, 0.4919874966144562, 0.0702839270234108, 0.3514196574687958, 0.879483699798584, 0.8829160332679749, 0.7912567257881165, 0.7876670360565186, 0.1480967253446579, 0.7404836416244507, 0.7827212810516357, 0.042664535343647, 0.042664535343647, 0.6399680376052856, 0.2559871971607208, 0.23806330561637878, 0.714189887046814, 0.18172691762447357, 0.18172691762447357, 0.18172691762447357, 0.45431727170944214, 0.7876670360565186, 0.21737219393253326, 0.06210634112358093, 0.31053170561790466, 0.031053170561790466, 0.21737219393253326, 0.15526585280895233, 0.8829174041748047, 0.7164266109466553, 0.2726934254169464, 0.5453868508338928, 0.0908978059887886, 0.7914625406265259, 0.7828177809715271, 0.7912756204605103, 0.0883471742272377, 0.13252076506614685, 0.30921509861946106, 0.13252076506614685, 0.13252076506614685, 0.1766943484544754, 0.7965635061264038, 0.13213111460208893, 0.26426222920417786, 0.3963933289051056, 0.13213111460208893, 0.7914625406265259, 0.4529757499694824, 0.09059514850378036, 0.04529757425189018, 0.18119029700756073, 0.18119029700756073, 0.1032070443034172, 0.2064140886068344, 0.0516035221517086, 0.0258017610758543, 0.309621125459671, 0.18061232566833496, 0.07740528136491776, 0.0516035221517086, 0.21938644349575043, 0.2632637321949005, 0.3071410059928894, 0.043877288699150085, 0.043877288699150085, 0.043877288699150085, 0.043877288699150085, 0.043877288699150085, 0.1984196901321411, 0.5952590703964233, 0.7030525207519531, 0.07926430553197861, 0.7133787274360657, 0.07926430553197861, 0.07926430553197861, 0.791275680065155, 0.782721221446991, 0.19919326901435852, 0.597579836845398, 0.8969766497612, 0.9573153257369995, 0.8794863820075989, 0.19787174463272095, 0.5936152338981628, 0.8902571797370911, 0.8553032875061035, 0.7912756204605103, 0.7951198816299438, 0.7914199233055115, 0.7937202453613281, 0.39472800493240356, 0.11277943104505539, 0.22555886209011078, 0.056389715522527695, 0.056389715522527695, 0.11277943104505539, 0.056389715522527695, 0.7912567257881165, 0.7914343476295471, 0.09722696244716644, 0.0388907864689827, 0.1555631458759308, 0.11667235940694809, 0.11667235940694809, 0.058336179703474045, 0.0777815729379654, 0.35001707077026367, 0.8904627561569214, 0.7987707853317261, 0.4257911443710327, 0.04257911443710327, 0.21289557218551636, 0.04257911443710327, 0.08515822887420654, 0.12773734331130981, 0.04257911443710327, 0.11012949049472809, 0.055064745247364044, 0.6057121753692627, 0.22025898098945618, 0.8622689843177795, 0.062257349491119385, 0.3735440969467163, 0.24902939796447754, 0.18677204847335815, 0.12451469898223877, 0.8904961347579956, 0.7203752994537354, 0.7965635061264038, 0.8951358199119568, 0.091521255671978, 0.2745637893676758, 0.183042511343956, 0.091521255671978, 0.366085022687912, 0.7987707257270813, 0.2385202944278717, 0.7155608534812927, 0.8904637098312378, 0.7914625406265259, 0.7912567257881165, 0.7916291952133179, 0.7912756204605103, 0.879469096660614, 0.049625590443611145, 0.049625590443611145, 0.14887677133083344, 0.29775354266166687, 0.09925118088722229, 0.14887677133083344, 0.19850236177444458, 0.8857176899909973, 0.5879417061805725, 0.19598056375980377, 0.16893187165260315, 0.08446593582630157, 0.16893187165260315, 0.08446593582630157, 0.08446593582630157, 0.3378637433052063, 0.7914626598358154, 0.7113586068153381, 0.716388463973999, 0.2164410650730133, 0.10822053253650665, 0.10822053253650665, 0.10822053253650665, 0.4328821301460266, 0.11855991184711456, 0.23711982369422913, 0.5927995443344116, 0.6721274852752686, 0.08401593565940857, 0.16803187131881714, 0.08401593565940857, 0.7912572622299194, 0.06566130369901657, 0.06566130369901657, 0.19698390364646912, 0.06566130369901657, 0.5252904295921326, 0.7904611825942993, 0.8505203723907471, 0.7912566661834717, 0.6256843209266663, 0.22752155363559723, 0.11376077681779861, 0.8795973658561707, 0.7122696042060852, 0.199655219912529, 0.5989656448364258, 0.8905178308486938, 0.7142379283905029, 0.7965635061264038, 0.1697159707546234, 0.6788638830184937, 0.7854499220848083, 0.7912756204605103, 0.8898805975914001, 0.09887562692165375, 0.038293931633234024, 0.5744089484214783, 0.1531757265329361, 0.11488179117441177, 0.07658786326646805, 0.7876702547073364, 0.910159170627594, 0.8857182264328003, 0.8892503380775452, 0.882914662361145, 0.8960943222045898, 0.8902639746665955, 0.7987707257270813, 0.8829159140586853, 0.10774295777082443, 0.5387147665023804, 0.3232288658618927, 0.6476876735687256, 0.3238438367843628, 0.14782465994358063, 0.29564931988716125, 0.4434739649295807, 0.7912756204605103, 0.130128413438797, 0.7807704210281372, 0.8892481923103333, 0.16917605698108673, 0.6767042279243469, 0.8000757098197937, 0.13334594666957855, 0.7914199829101562, 0.7876670360565186, 0.5089883804321289, 0.16966278851032257, 0.16966278851032257, 0.7203835248947144, 0.782721221446991, 0.7914204597473145, 0.782721221446991, 0.7876702547073364, 0.7987707257270813, 0.8794933557510376, 0.7124216556549072, 0.23747387528419495, 0.8902673125267029, 0.33118969202041626, 0.0662379339337349, 0.19871380925178528, 0.19871380925178528, 0.19871380925178528, 0.7175487279891968, 0.23918291926383972, 0.16913831233978271, 0.4228457808494568, 0.08456915616989136, 0.08456915616989136, 0.16913831233978271, 0.08456915616989136, 0.8925833702087402, 0.8902778625488281, 0.16947610676288605, 0.5084283351898193, 0.16947610676288605, 0.5915893316268921, 0.19719643890857697, 0.22209866344928741, 0.22209866344928741, 0.22209866344928741, 0.29613155126571655, 0.7912567257881165, 0.07918784767389297, 0.554314911365509, 0.07918784767389297, 0.15837569534778595, 0.15837569534778595, 0.7987707257270813, 0.8857155442237854, 0.0789032131433487, 0.2367096245288849, 0.3945160508155823, 0.1578064262866974, 0.0789032131433487, 0.09245526045560837, 0.8320973515510559, 0.7112932205200195, 0.23709774017333984, 0.49495357275009155, 0.19798143208026886, 0.2969721555709839, 0.7912756204605103, 0.3255831003189087, 0.21705541014671326, 0.4341108202934265, 0.7930945158004761, 0.7876702547073364, 0.5935114622116089, 0.19783715903759003, 0.712540328502655, 0.2375134378671646, 0.08486086130142212, 0.08486086130142212, 0.16972172260284424, 0.08486086130142212, 0.5091651678085327, 0.08486086130142212, 0.7930949926376343, 0.10788221657276154, 0.5394110679626465, 0.3236466646194458, 0.11961370706558228, 0.11961370706558228, 0.4784548282623291, 0.23922741413116455, 0.7175997495651245, 0.2391999214887619, 0.9451119303703308, 0.19824326038360596, 0.4956081509590149, 0.29736489057540894, 0.8829124569892883, 0.7876670360565186, 0.8925829529762268, 0.8997722268104553, 0.896964430809021, 0.23506617546081543, 0.7051985263824463, 0.19786915183067322, 0.5936074256896973, 0.07951045781373978, 0.07951045781373978, 0.3975522816181183, 0.07951045781373978, 0.3180418312549591, 0.09899812936782837, 0.791985034942627, 0.09899812936782837, 0.7031569480895996, 0.7951188683509827, 0.8505107760429382, 0.7951164841651917, 0.3392556309700012, 0.5088834762573242, 0.47496867179870605, 0.05937108397483826, 0.4155975878238678, 0.44650545716285706, 0.44650545716285706, 0.2370629459619522, 0.1185314729809761, 0.1185314729809761, 0.4741258919239044, 0.8583570122718811, 0.09886553883552551, 0.19773107767105103, 0.19773107767105103, 0.49432769417762756, 0.8904614448547363, 0.16963402926921844, 0.6785361170768738, 0.720377504825592, 0.7965635061264038, 0.882973313331604, 0.11866780370473862, 0.11866780370473862, 0.7120068073272705, 0.7854499220848083, 0.030382031574845314, 0.45573046803474426, 0.0911460891366005, 0.21267421543598175, 0.030382031574845314, 0.06076406314969063, 0.12152812629938126, 0.1492731273174286, 0.0746365636587143, 0.7463656663894653, 0.16837987303733826, 0.673519492149353, 0.7912756204605103, 0.7987707257270813, 0.14874695241451263, 0.29749390482902527, 0.4462408423423767, 0.3552315831184387, 0.05920526385307312, 0.05920526385307312, 0.05920526385307312, 0.41443684697151184, 0.8829131722450256, 0.2561625838279724, 0.5977126955986023, 0.17077505588531494, 0.11293666064739227, 0.1694049835205078, 0.2823416590690613, 0.11293666064739227, 0.11293666064739227, 0.056468330323696136, 0.11293666064739227, 0.04939679056406021, 0.04939679056406021, 0.09879358112812042, 0.24698394536972046, 0.4939678907394409, 0.04939679056406021, 0.7951188683509827, 0.8902814984321594, 0.10769543051719666, 0.5384771227836609, 0.10769543051719666, 0.2153908610343933, 0.9221525192260742, 0.7876670360565186, 0.7828177809715271, 0.7930949926376343, 0.8505078554153442, 0.8925828337669373, 0.8951161503791809, 0.12442724406719208, 0.4354953467845917, 0.18664085865020752, 0.06221362203359604, 0.12442724406719208, 0.06221362203359604, 0.9015251398086548, 0.8583568930625916, 0.5102472305297852, 0.34016481041908264, 0.7912756204605103, 0.7113900184631348, 0.13165336847305298, 0.32913342118263245, 0.13165336847305298, 0.06582668423652649, 0.26330673694610596, 0.06582668423652649, 0.7914198637008667, 0.7951188683509827, 0.0914522036910057, 0.2743566334247589, 0.1829044073820114, 0.3658088147640228, 0.09163444489240646, 0.09163444489240646, 0.7330755591392517, 0.8997804522514343, 0.7937643527984619, 0.09922054409980774, 0.09922054409980774, 0.09106864780187607, 0.2732059359550476, 0.2732059359550476, 0.18213729560375214, 0.09106864780187607, 0.036019738763570786, 0.18009869754314423, 0.07203947752714157, 0.10805922001600266, 0.2881579101085663, 0.07203947752714157, 0.2521381974220276, 0.24281898140907288, 0.15176185965538025, 0.24281898140907288, 0.06070474535226822, 0.06070474535226822, 0.09105711430311203, 0.09105711430311203, 0.06070474535226822, 0.8892473578453064, 0.5892929434776306, 0.1964309811592102, 0.27121150493621826, 0.24655592441558838, 0.024655591696500778, 0.12327796220779419, 0.049311183393001556, 0.2219003289937973, 0.024655591696500778, 0.024655591696500778, 0.024655591696500778, 0.5872035622596741, 0.19573453068733215, 0.7965635061264038, 0.791275680065155, 0.7138442397117615, 0.23794807493686676, 0.8006147146224976, 0.6783531904220581, 0.16958829760551453, 0.7155918478965759, 0.07951020449399948, 0.15902040898799896, 0.13244754076004028, 0.26489508152008057, 0.5297901630401611, 0.9633010625839233, 0.8857110738754272, 0.13166992366313934, 0.06583496183156967, 0.19750487804412842, 0.13166992366313934, 0.4608447253704071, 0.06583496183156967, 0.21490313112735748, 0.3223547041416168, 0.42980626225471497, 0.19635502994060516, 0.5890650749206543, 0.8892514109611511, 0.8636624813079834, 0.7912756204605103, 0.05378568544983864, 0.05378568544983864, 0.10757137089967728, 0.3764997720718384, 0.3764997720718384, 0.7965635061264038, 0.7031528353691101, 0.7032454609870911, 0.1388862133026123, 0.06944310665130615, 0.1388862133026123, 0.1388862133026123, 0.3472155034542084, 0.1388862133026123, 0.10315579921007156, 0.20631159842014313, 0.1289447396993637, 0.5415679216384888, 0.770614743232727, 0.07005588710308075, 0.07005588710308075, 0.07005588710308075, 0.3962159752845764, 0.15848639607429504, 0.15848639607429504, 0.15848639607429504, 0.15848639607429504, 0.7912756204605103, 0.8902807235717773, 0.8997539281845093, 0.2099832445383072, 0.2099832445383072, 0.34997209906578064, 0.13998883962631226, 0.06999441981315613, 0.8892520666122437, 0.7914625406265259, 0.7854499220848083, 0.7912566661834717, 0.7951176166534424, 0.13140207529067993, 0.13140207529067993, 0.5256083011627197, 0.13140207529067993, 0.8857316374778748, 0.8902913928031921, 0.7912572622299194, 0.29512134194374084, 0.14756067097187042, 0.029512133449316025, 0.1180485337972641, 0.05902426689863205, 0.05902426689863205, 0.17707279324531555, 0.08853639662265778, 0.2362983375787735, 0.3150644600391388, 0.3938305675983429, 0.896964430809021, 0.14866043627262115, 0.07433021813631058, 0.07433021813631058, 0.14866043627262115, 0.22299064695835114, 0.2973208725452423, 0.5540771484375, 0.27703857421875, 0.1846923679113388, 0.019823918119072914, 0.19823917746543884, 0.3171826899051666, 0.03964783623814583, 0.05947175621986389, 0.03964783623814583, 0.03964783623814583, 0.03964783623814583, 0.11894351243972778, 0.11894351243972778, 0.798068106174469, 0.22283406555652618, 0.7427802085876465, 0.131987065076828, 0.065993532538414, 0.791922390460968, 0.07912129163742065, 0.07912129163742065, 0.07912129163742065, 0.23736386001110077, 0.4351670742034912, 0.07912129163742065, 0.5948132872581482, 0.39654219150543213, 0.32154524326324463, 0.10718175023794174, 0.5359087586402893, 0.10718175023794174, 0.7965635061264038, 0.7904612421989441, 0.20966070890426636, 0.48920831084251404, 0.06988690048456192, 0.20966070890426636, 0.5870320796966553, 0.23481284081935883, 0.11740642040967941, 0.1197170615196228, 0.1197170615196228, 0.598585307598114, 0.1197170615196228, 0.8925718665122986, 0.5876889824867249, 0.1602788120508194, 0.05342626944184303, 0.05342626944184303, 0.10685253888368607, 0.14745789766311646, 0.2949157953262329, 0.3440684378147125, 0.14745789766311646, 0.12668456137180328, 0.06334228068590164, 0.14779864251613617, 0.04222818464040756, 0.2111409306526184, 0.04222818464040756, 0.29559728503227234, 0.02111409232020378, 0.06334228068590164, 0.059160735458135605, 0.029580367729067802, 0.6507681012153625, 0.029580367729067802, 0.029580367729067802, 0.17748220264911652, 0.5444979667663574, 0.09074966609477997, 0.09074966609477997, 0.09074966609477997, 0.09074966609477997, 0.8795181512832642, 0.8795900344848633, 0.7030490636825562, 0.3327113389968872, 0.179152250289917, 0.02559318020939827, 0.05118636041879654, 0.2559317946434021, 0.07677953690290451, 0.05118636041879654, 0.02559318020939827, 0.8829143643379211], \"Term\": [\"access\", \"access\", \"access\", \"access\", \"access\", \"account\", \"account\", \"account\", \"account\", \"account\", \"account\", \"acne\", \"actress\", \"addict\", \"adopt\", \"affect\", \"affect\", \"affect\", \"afraid\", \"afraid\", \"age\", \"age\", \"agree\", \"alberta\", \"alcohol\", \"alpha\", \"american\", \"american\", \"anaemia\", \"analysis\", \"analysis\", \"android\", \"android\", \"android\", \"android\", \"angelfish\", \"angry\", \"anima\", \"app\", \"app\", \"app\", \"app\", \"application\", \"application\", \"application\", \"application\", \"apply\", \"apply\", \"apply\", \"apply\", \"apply\", \"apply\", \"approach\", \"asahi\", \"ask\", \"ask\", \"ask\", \"ask\", \"ask\", \"aspect\", \"assassin\", \"atom\", \"attract\", \"attraction\", \"auto\", \"average\", \"average\", \"average\", \"avoid\", \"bad\", \"bad\", \"bad\", \"bad\", \"bald\", \"bank\", \"bank\", \"bank\", \"bank\", \"banker\", \"basic\", \"basic\", \"batman\", \"batman\", \"befriend\", \"benefit\", \"benefit\", \"benefit\", \"benefit\", \"beta\", \"big\", \"big\", \"big\", \"big\", \"big\", \"big\", \"big\", \"big\", \"binary\", \"biology\", \"birth\", \"birthday\", \"bite\", \"block\", \"block\", \"blood\", \"blood\", \"blood\", \"blood\", \"blood\", \"blow\", \"blow\", \"blow\", \"body\", \"body\", \"book\", \"book\", \"book\", \"book\", \"book\", \"book\", \"boring\", \"box\", \"box\", \"box\", \"boy\", \"boy\", \"boyfriend\", \"boyfriend\", \"bran\", \"bring\", \"bring\", \"brooklyn\", \"business\", \"business\", \"buy\", \"buy\", \"buy\", \"buy\", \"buy\", \"buy\", \"buy\", \"buy\", \"calendar\", \"call\", \"call\", \"calorie\", \"calorie\", \"cancel\", \"cancel\", \"canon\", \"car\", \"car\", \"card\", \"card\", \"card\", \"card\", \"card\", \"career\", \"career\", \"career\", \"career\", \"career\", \"casebook\", \"casebook\", \"casebook\", \"cause\", \"cause\", \"cause\", \"cause\", \"cause\", \"cause\", \"cause\", \"cause\", \"cause\", \"celebrity\", \"celebrity\", \"cell\", \"cell\", \"center\", \"center\", \"challenge\", \"change\", \"change\", \"change\", \"change\", \"change\", \"change\", \"change\", \"channel\", \"channel\", \"channel\", \"channel\", \"charge\", \"charge\", \"charge\", \"charge\", \"chart\", \"cheap\", \"cheap\", \"cheap\", \"cheese\", \"chicken\", \"chicken\", \"child\", \"child\", \"child\", \"child\", \"child\", \"choose\", \"choose\", \"choose\", \"choose\", \"citizen\", \"city\", \"city\", \"city\", \"city\", \"city\", \"civil\", \"civil\", \"civil\", \"clean\", \"clean\", \"clinton\", \"clinton\", \"cold\", \"college\", \"college\", \"college\", \"college\", \"college\", \"college\", \"com\", \"com\", \"come\", \"come\", \"come\", \"come\", \"come\", \"comment\", \"comment\", \"comment\", \"commonly\", \"communist\", \"company\", \"company\", \"company\", \"company\", \"company\", \"company\", \"company\", \"compare\", \"compare\", \"compare\", \"compare\", \"compare\", \"compare\", \"computer\", \"computer\", \"computer\", \"computer\", \"computer\", \"computer\", \"confirm\", \"congress\", \"consider\", \"consider\", \"consider\", \"consider\", \"consider\", \"consider\", \"cookie\", \"copyright\", \"correct\", \"correct\", \"correct\", \"correct\", \"cost\", \"cost\", \"cost\", \"cost\", \"cost\", \"cost\", \"cost\", \"cotton\", \"country\", \"country\", \"country\", \"country\", \"country\", \"country\", \"county\", \"course\", \"course\", \"course\", \"course\", \"course\", \"cousin\", \"crater\", \"create\", \"create\", \"create\", \"creature\", \"credit\", \"credit\", \"credit\", \"credit\", \"credit\", \"creed\", \"crick\", \"cross\", \"crust\", \"cruz\", \"cry\", \"cry\", \"cry\", \"cuisine\", \"cup\", \"cup\", \"datatorrent\", \"date\", \"date\", \"daughter\", \"day\", \"day\", \"day\", \"day\", \"day\", \"dcx\", \"deactivate\", \"dead\", \"deal\", \"deal\", \"death\", \"death\", \"death\", \"death\", \"december\", \"december\", \"decision\", \"degree\", \"degree\", \"degree\", \"degree\", \"delete\", \"delhi\", \"delhi\", \"den\", \"depressed\", \"design\", \"design\", \"determine\", \"determine\", \"develop\", \"develop\", \"develop\", \"diamond\", \"die\", \"die\", \"die\", \"die\", \"difference\", \"difference\", \"difference\", \"different\", \"different\", \"different\", \"different\", \"different\", \"different\", \"digital\", \"digital\", \"digital\", \"disease\", \"dish\", \"distance\", \"distribute\", \"dixit\", \"doctor\", \"doctor\", \"dog\", \"dog\", \"domain\", \"don\", \"don\", \"don\", \"don\", \"don\", \"don\", \"don\", \"donald\", \"dorsey\", \"download\", \"download\", \"download\", \"draft\", \"dream\", \"dream\", \"dream\", \"dressing\", \"drink\", \"drug\", \"drug\", \"dubai\", \"duc\", \"earn\", \"earn\", \"earth\", \"earth\", \"earth\", \"earth\", \"eat\", \"eat\", \"eat\", \"egg\", \"ejaculate\", \"election\", \"electrical\", \"eligible\", \"emerald\", \"emotion\", \"engineering\", \"engineering\", \"engineering\", \"engineering\", \"english\", \"english\", \"english\", \"english\", \"english\", \"english\", \"entanglement\", \"enter\", \"episode\", \"establish\", \"etc\", \"etc\", \"european\", \"european\", \"european\", \"exam\", \"exam\", \"exam\", \"example\", \"excel\", \"exchange\", \"exercise\", \"exist\", \"exist\", \"exist\", \"exist\", \"exist\", \"exist\", \"exothermic\", \"expand\", \"experience\", \"experience\", \"experience\", \"experience\", \"experience\", \"export\", \"expression\", \"fail\", \"fail\", \"fall\", \"fall\", \"fall\", \"fast\", \"fast\", \"fast\", \"fast\", \"fbi\", \"fda\", \"fear\", \"federal\", \"feel\", \"feel\", \"feel\", \"feel\", \"feel\", \"female\", \"fiance\", \"fiction\", \"fighter\", \"fighter\", \"file\", \"file\", \"file\", \"file\", \"file\", \"fill\", \"fill\", \"film\", \"film\", \"film\", \"find\", \"find\", \"find\", \"find\", \"find\", \"find\", \"find\", \"find\", \"find\", \"fireball\", \"flash\", \"flat\", \"flat\", \"fly\", \"follow\", \"follow\", \"follow\", \"follow\", \"follow\", \"follow\", \"follow\", \"food\", \"food\", \"food\", \"food\", \"foot\", \"foot\", \"foot\", \"force\", \"force\", \"force\", \"form\", \"form\", \"formula\", \"fran\", \"friend\", \"friend\", \"friend\", \"friend\", \"friend\", \"friend\", \"functional\", \"fusion\", \"gain\", \"gain\", \"gain\", \"gain\", \"game\", \"game\", \"game\", \"game\", \"game\", \"garbage\", \"gas\", \"gear\", \"general\", \"german\", \"get\", \"get\", \"get\", \"get\", \"get\", \"get\", \"get\", \"gift\", \"gift\", \"ginger\", \"girl\", \"girl\", \"girl\", \"girl\", \"girlfriend\", \"girlfriend\", \"girlfriend\", \"girlfriend\", \"girlfriend\", \"girlfriend\", \"give\", \"give\", \"give\", \"give\", \"give\", \"give\", \"glass\", \"glass\", \"glass\", \"goldman\", \"good\", \"good\", \"good\", \"good\", \"good\", \"good\", \"good\", \"good\", \"good\", \"good\", \"good\", \"good\", \"goole\", \"goole\", \"goole\", \"goole\", \"government\", \"government\", \"government\", \"government\", \"government\", \"government\", \"graduate\", \"graduate\", \"graduate\", \"graduate\", \"graduate\", \"graduate\", \"graduation\", \"grammar\", \"grass\", \"grass\", \"grass\", \"gre\", \"great\", \"great\", \"great\", \"guy\", \"guy\", \"guy\", \"hack\", \"hack\", \"hack\", \"hack\", \"hair\", \"hair\", \"hair\", \"hair\", \"hang\", \"hang\", \"happen\", \"happen\", \"happen\", \"happen\", \"happen\", \"happen\", \"happen\", \"happen\", \"happy\", \"harassment\", \"harvard\", \"harvard\", \"hash\", \"have\", \"have\", \"have\", \"have\", \"have\", \"have\", \"headphone\", \"headphone\", \"healthy\", \"healthy\", \"help\", \"help\", \"help\", \"help\", \"help\", \"help\", \"help\", \"help\", \"high\", \"high\", \"high\", \"high\", \"high\", \"highway\", \"hill\", \"hillary\", \"hillary\", \"himalayan\", \"history\", \"history\", \"history\", \"home\", \"home\", \"home\", \"home\", \"honda\", \"honda\", \"hotel\", \"hour\", \"hour\", \"hour\", \"hunter\", \"husky\", \"hyderabad\", \"ignore\", \"iii\", \"iii\", \"illegal\", \"image\", \"immune\", \"implication\", \"import\", \"improve\", \"improve\", \"improve\", \"include\", \"include\", \"increase\", \"india\", \"india\", \"india\", \"india\", \"india\", \"india\", \"india\", \"india\", \"india\", \"india\", \"india\", \"india\", \"indian\", \"indian\", \"indian\", \"indian\", \"indian\", \"indian\", \"indian\", \"indian\", \"individual\", \"individual\", \"industry\", \"industry\", \"industry\", \"inform\", \"innovation\", \"innovation\", \"inpatient\", \"instagram\", \"instagram\", \"instead\", \"instead\", \"instead\", \"intelligent\", \"interesting\", \"interesting\", \"interesting\", \"interview\", \"invest\", \"invest\", \"invest\", \"ipc\", \"israel\", \"jailbreake\", \"jaipur\", \"java\", \"java\", \"java\", \"java\", \"jealous\", \"jealous\", \"jim\", \"jimmy\", \"job\", \"job\", \"job\", \"job\", \"job\", \"job\", \"job\", \"job\", \"joe\", \"john\", \"join\", \"join\", \"join\", \"join\", \"join\", \"journalism\", \"kapoor\", \"kashmir\", \"kashmir\", \"key\", \"kid\", \"kid\", \"kill\", \"kill\", \"kingdom\", \"kiosk\", \"know\", \"know\", \"know\", \"know\", \"know\", \"know\", \"know\", \"koh\", \"kohinoor\", \"kohl\", \"korea\", \"language\", \"language\", \"language\", \"language\", \"language\", \"language\", \"laptop\", \"laptop\", \"laptop\", \"latency\", \"league\", \"learn\", \"learn\", \"learn\", \"learn\", \"learning\", \"learning\", \"leave\", \"leave\", \"leave\", \"leg\", \"lesson\", \"let\", \"let\", \"libertarian\", \"librarian\", \"life\", \"life\", \"life\", \"like\", \"like\", \"like\", \"like\", \"line\", \"line\", \"line\", \"little\", \"live\", \"live\", \"live\", \"live\", \"live\", \"location\", \"lock\", \"locke\", \"long\", \"long\", \"long\", \"long\", \"long\", \"look\", \"look\", \"look\", \"look\", \"look\", \"lose\", \"lose\", \"lose\", \"love\", \"love\", \"love\", \"love\", \"lower\", \"lymph\", \"machine\", \"machine\", \"madura\", \"magic\", \"magic\", \"magical\", \"magnet\", \"maheshwari\", \"mail\", \"mainstream\", \"major\", \"major\", \"major\", \"major\", \"major\", \"make\", \"make\", \"make\", \"make\", \"make\", \"make\", \"malaysia\", \"man\", \"man\", \"man\", \"man\", \"man\", \"manufacturer\", \"map\", \"mark\", \"mark\", \"marketing\", \"math\", \"math\", \"math\", \"mean\", \"mean\", \"mean\", \"mean\", \"mean\", \"medicine\", \"medicine\", \"medicine\", \"meeting\", \"mentor\", \"message\", \"message\", \"metro\", \"mexico\", \"mexico\", \"mexico\", \"mid\", \"midsummer\", \"milk\", \"mispronounce\", \"mission\", \"mobile\", \"mobile\", \"mobile\", \"mobile\", \"mobile\", \"mobile\", \"model\", \"model\", \"model\", \"modern\", \"molecule\", \"money\", \"money\", \"money\", \"money\", \"money\", \"monster\", \"moral\", \"morning\", \"morning\", \"motorola\", \"movie\", \"movie\", \"movie\", \"movie\", \"movie\", \"movie\", \"movie\", \"movie\", \"music\", \"music\", \"music\", \"muslim\", \"mythical\", \"nash\", \"nato\", \"natural\", \"natural\", \"nature\", \"need\", \"need\", \"need\", \"need\", \"net\", \"net\", \"network\", \"network\", \"network\", \"network\", \"neural\", \"new\", \"new\", \"new\", \"new\", \"new\", \"new\", \"nit\", \"node\", \"non\", \"non\", \"non\", \"noon\", \"noor\", \"nova\", \"number\", \"number\", \"number\", \"number\", \"number\", \"number\", \"oberon\", \"offer\", \"offer\", \"offer\", \"offer\", \"okay\", \"old\", \"old\", \"old\", \"old\", \"old\", \"one\", \"one\", \"one\", \"one\", \"one\", \"one\", \"one\", \"one\", \"online\", \"online\", \"online\", \"online\", \"online\", \"online\", \"online\", \"online\", \"operation\", \"operation\", \"opportunity\", \"option\", \"option\", \"option\", \"option\", \"overrated\", \"own\", \"pain\", \"pain\", \"painting\", \"pakistan\", \"pakistani\", \"pan\", \"pan\", \"panel\", \"paranormal\", \"park\", \"passport\", \"patent\", \"path\", \"pay\", \"pay\", \"pay\", \"pay\", \"pay\", \"pay\", \"pay\", \"pcb\", \"pen\", \"people\", \"people\", \"people\", \"people\", \"people\", \"people\", \"people\", \"people\", \"perception\", \"performance\", \"person\", \"person\", \"person\", \"person\", \"person\", \"person\", \"person\", \"phone\", \"phone\", \"phone\", \"phone\", \"picture\", \"place\", \"place\", \"place\", \"place\", \"place\", \"planet\", \"plant\", \"plasma\", \"plastic\", \"play\", \"play\", \"play\", \"play\", \"play\", \"poison\", \"police\", \"police\", \"policy\", \"politician\", \"polo\", \"porn\", \"portability\", \"position\", \"possible\", \"possible\", \"possible\", \"possible\", \"possible\", \"possible\", \"possible\", \"poster\", \"powerful\", \"powerful\", \"prepare\", \"prepare\", \"prepare\", \"prepare\", \"prepare\", \"prepare\", \"present\", \"presidential\", \"pressure\", \"pro\", \"pro\", \"pro\", \"pro\", \"pro\", \"problem\", \"problem\", \"problem\", \"process\", \"process\", \"process\", \"process\", \"processing\", \"product\", \"product\", \"product\", \"product\", \"product\", \"professional\", \"professor\", \"profit\", \"programming\", \"programming\", \"programming\", \"project\", \"property\", \"prospect\", \"prospect\", \"protect\", \"pugin\", \"punish\", \"purpose\", \"purpose\", \"quang\", \"quantum\", \"question\", \"question\", \"quota\", \"quota\", \"quota\", \"quota\", \"quota\", \"rac\", \"rahab\", \"railway\", \"ranbir\", \"ranch\", \"rank\", \"rap\", \"rat\", \"react\", \"read\", \"read\", \"read\", \"real\", \"real\", \"reason\", \"reason\", \"reason\", \"recreation\", \"recruit\", \"recruit\", \"recruiter\", \"reduce\", \"reduce\", \"register\", \"register\", \"registration\", \"regret\", \"relate\", \"relate\", \"relate\", \"relative\", \"religion\", \"rental\", \"represent\", \"reservation\", \"respond\", \"responsibility\", \"resume\", \"resume\", \"retrieve\", \"review\", \"review\", \"review\", \"review\", \"review\", \"rid\", \"rid\", \"right\", \"right\", \"right\", \"right\", \"right\", \"right\", \"ring\", \"robotic\", \"room\", \"room\", \"room\", \"rule\", \"rule\", \"run\", \"run\", \"run\", \"run\", \"sachs\", \"safe\", \"safe\", \"safe\", \"safe\", \"safe\", \"satisfied\", \"scar\", \"school\", \"school\", \"school\", \"school\", \"school\", \"science\", \"science\", \"scientist\", \"scientist\", \"score\", \"score\", \"score\", \"scotia\", \"search\", \"search\", \"search\", \"season\", \"seat\", \"secret\", \"secret\", \"security\", \"security\", \"sell\", \"sell\", \"sell\", \"sell\", \"sell\", \"sell\", \"sem\", \"series\", \"series\", \"series\", \"service\", \"service\", \"service\", \"service\", \"severe\", \"severe\", \"sex\", \"share\", \"share\", \"share\", \"shave\", \"shirt\", \"shoe\", \"shortcut\", \"shrink\", \"sigma\", \"sigma\", \"sim\", \"sim\", \"site\", \"site\", \"site\", \"site\", \"site\", \"skill\", \"skill\", \"skill\", \"smart\", \"smartphone\", \"snapshot\", \"soccer\", \"society\", \"society\", \"song\", \"song\", \"song\", \"source\", \"source\", \"space\", \"space\", \"space\", \"space\", \"specify\", \"speed\", \"speed\", \"speed\", \"speed\", \"sperm\", \"spouse\", \"spouse\", \"squat\", \"staff\", \"stand\", \"star\", \"star\", \"star\", \"stark\", \"start\", \"start\", \"start\", \"start\", \"start\", \"start\", \"start\", \"state\", \"state\", \"state\", \"statement\", \"statement\", \"staten\", \"stem\", \"stock\", \"stock\", \"stock\", \"stop\", \"stop\", \"stop\", \"stop\", \"stop\", \"storm\", \"strong\", \"strong\", \"strong\", \"student\", \"student\", \"student\", \"student\", \"student\", \"student\", \"student\", \"study\", \"study\", \"study\", \"study\", \"study\", \"study\", \"subtitle\", \"summer\", \"support\", \"support\", \"support\", \"support\", \"supporter\", \"suppose\", \"surf\", \"sweden\", \"switch\", \"sydney\", \"syria\", \"system\", \"system\", \"system\", \"system\", \"system\", \"system\", \"tax\", \"taxi\", \"teacher\", \"teacher\", \"technologically\", \"ted\", \"tell\", \"tell\", \"tell\", \"tell\", \"tell\", \"tell\", \"temperament\", \"temperature\", \"term\", \"term\", \"term\", \"term\", \"test\", \"test\", \"test\", \"testing\", \"text\", \"text\", \"text\", \"theory\", \"theory\", \"theory\", \"theory\", \"theory\", \"thing\", \"thing\", \"thing\", \"thing\", \"thing\", \"thing\", \"thing\", \"think\", \"think\", \"think\", \"think\", \"think\", \"think\", \"think\", \"think\", \"three\", \"ticket\", \"ticket\", \"time\", \"time\", \"time\", \"time\", \"time\", \"time\", \"time\", \"time\", \"time\", \"tip\", \"tip\", \"titania\", \"titration\", \"topic\", \"topic\", \"torrent\", \"track\", \"track\", \"travel\", \"travel\", \"travel\", \"treat\", \"treat\", \"treat\", \"trump\", \"truth\", \"two\", \"two\", \"two\", \"two\", \"two\", \"two\", \"type\", \"type\", \"type\", \"union\", \"union\", \"united\", \"universe\", \"universitie\", \"university\", \"university\", \"university\", \"university\", \"university\", \"unmarried\", \"unusual\", \"upgrade\", \"usa\", \"usa\", \"usa\", \"usa\", \"usa\", \"usa\", \"use\", \"use\", \"use\", \"use\", \"user\", \"user\", \"user\", \"user\", \"value\", \"value\", \"value\", \"value\", \"value\", \"veg\", \"vegetarian\", \"version\", \"video\", \"video\", \"video\", \"video\", \"video\", \"vietnam\", \"viral\", \"virginity\", \"volkswagen\", \"volume\", \"vote\", \"vote\", \"vote\", \"vote\", \"waiting\", \"wales\", \"wallpaper\", \"want\", \"want\", \"want\", \"want\", \"want\", \"want\", \"want\", \"want\", \"war\", \"war\", \"war\", \"wash\", \"watch\", \"watch\", \"watch\", \"watch\", \"watch\", \"watch\", \"water\", \"water\", \"water\", \"way\", \"way\", \"way\", \"way\", \"way\", \"way\", \"way\", \"way\", \"way\", \"way\", \"weak\", \"web\", \"web\", \"weight\", \"weight\", \"weight\", \"well\", \"well\", \"well\", \"well\", \"well\", \"well\", \"whatsapp\", \"whatsapp\", \"wife\", \"wife\", \"wife\", \"wife\", \"wildlife\", \"willing\", \"win\", \"win\", \"win\", \"win\", \"window\", \"window\", \"window\", \"wish\", \"wish\", \"wish\", \"wish\", \"withdraw\", \"woman\", \"woman\", \"woman\", \"woman\", \"woman\", \"word\", \"word\", \"word\", \"word\", \"work\", \"work\", \"work\", \"work\", \"work\", \"work\", \"work\", \"work\", \"work\", \"world\", \"world\", \"world\", \"world\", \"world\", \"world\", \"write\", \"write\", \"write\", \"write\", \"write\", \"writer\", \"writing\", \"wrong\", \"year\", \"year\", \"year\", \"year\", \"year\", \"year\", \"year\", \"year\", \"york\"]}, \"R\": 30, \"lambda.step\": 0.01, \"plot.opts\": {\"xlab\": \"PC1\", \"ylab\": \"PC2\"}, \"topic.order\": [1, 3, 9, 11, 13, 10, 7, 8, 2, 12, 6, 4, 5]};\n",
              "\n",
              "function LDAvis_load_lib(url, callback){\n",
              "  var s = document.createElement('script');\n",
              "  s.src = url;\n",
              "  s.async = true;\n",
              "  s.onreadystatechange = s.onload = callback;\n",
              "  s.onerror = function(){console.warn(\"failed to load library \" + url);};\n",
              "  document.getElementsByTagName(\"head\")[0].appendChild(s);\n",
              "}\n",
              "\n",
              "if(typeof(LDAvis) !== \"undefined\"){\n",
              "   // already loaded: just create the visualization\n",
              "   !function(LDAvis){\n",
              "       new LDAvis(\"#\" + \"ldavis_el1261403781302440162838879458\", ldavis_el1261403781302440162838879458_data);\n",
              "   }(LDAvis);\n",
              "}else if(typeof define === \"function\" && define.amd){\n",
              "   // require.js is available: use it to load d3/LDAvis\n",
              "   require.config({paths: {d3: \"https://cdnjs.cloudflare.com/ajax/libs/d3/3.5.5/d3.min\"}});\n",
              "   require([\"d3\"], function(d3){\n",
              "      window.d3 = d3;\n",
              "      LDAvis_load_lib(\"https://cdn.rawgit.com/bmabey/pyLDAvis/files/ldavis.v1.0.0.js\", function(){\n",
              "        new LDAvis(\"#\" + \"ldavis_el1261403781302440162838879458\", ldavis_el1261403781302440162838879458_data);\n",
              "      });\n",
              "    });\n",
              "}else{\n",
              "    // require.js not available: dynamically load d3 & LDAvis\n",
              "    LDAvis_load_lib(\"https://cdnjs.cloudflare.com/ajax/libs/d3/3.5.5/d3.min.js\", function(){\n",
              "         LDAvis_load_lib(\"https://cdn.rawgit.com/bmabey/pyLDAvis/files/ldavis.v1.0.0.js\", function(){\n",
              "                 new LDAvis(\"#\" + \"ldavis_el1261403781302440162838879458\", ldavis_el1261403781302440162838879458_data);\n",
              "            })\n",
              "         });\n",
              "}\n",
              "</script>"
            ],
            "text/plain": [
              "<IPython.core.display.HTML object>"
            ]
          },
          "metadata": {
            "tags": []
          },
          "execution_count": 94
        }
      ]
    }
  ]
}